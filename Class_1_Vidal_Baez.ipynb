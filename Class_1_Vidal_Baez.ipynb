{
 "cells": [
  {
   "cell_type": "markdown",
   "metadata": {},
   "source": [
    "# Version control systems \n",
    "**(VCSs)** are tools used to track changes to source code (or other collections of files and folders). \n",
    "As the name implies, these tools help maintain a history of changes.also maintain metadata like who created each snapshot, messages associated with each snapshot,even when you’re working by yourself, it can let you look at old snapshots of a project, keep a log of why certain changes were made, work on parallel branches of development, and much more."
   ]
  },
  {
   "cell_type": "markdown",
   "metadata": {},
   "source": [
    "# Git’s data model\n",
    "\n",
    " **1.Snapshots Model:** is collection of files and folders within some top-level directory as a series of snapshots.\n",
    "\n",
    " **2.History Model:** is a list of snapshots in time-order\n",
    "\n",
    " **3.pseudocode Model:** is data model written down in pseudocode, the advantage on this model.It’s a clean and simple.\n",
    "\n",
    " **4.References Model:**  is  usually points to the latest commit in the main branch of development and can be updated to point to a new commit. the problem with this model is all snapshots can be identified by their SHA-1 hash and humans aren’t good at remembering strings of 40 hexadecimal characters\n",
    "\n",
    " **5.Repositories model**, this model can accept code, and everyone synchronizes their work with it.Whenever you are typing in any command, think about what manipulation the command is making to the underlying graph data structure.\n"
   ]
  },
  {
   "cell_type": "markdown",
   "metadata": {},
   "source": [
    "In my opinion, I believe the  version control are the most helpful tools that each developer need to gain control over the version of the program they work.\n",
    "in my prevoius jobs, we used rational as version control de advantage on that tools was it track any request you had been doing and give the option what version\n",
    "you need to restart and keep the version for 5 years.Now i am using VC as version Control."
   ]
  },
  {
   "cell_type": "markdown",
   "metadata": {},
   "source": [
    "%magic git checkout -b dev master"
   ]
  },
  {
   "cell_type": "code",
   "execution_count": null,
   "metadata": {},
   "outputs": [],
   "source": []
  }
 ],
 "metadata": {
  "kernelspec": {
   "display_name": "Python 3",
   "language": "python",
   "name": "python3"
  },
  "language_info": {
   "codemirror_mode": {
    "name": "ipython",
    "version": 3
   },
   "file_extension": ".py",
   "mimetype": "text/x-python",
   "name": "python",
   "nbconvert_exporter": "python",
   "pygments_lexer": "ipython3",
   "version": "3.7.1"
  }
 },
 "nbformat": 4,
 "nbformat_minor": 2
}
