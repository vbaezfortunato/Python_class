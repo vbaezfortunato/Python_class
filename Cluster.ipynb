{
  "nbformat": 4,
  "nbformat_minor": 0,
  "metadata": {
    "colab": {
      "name": "Cluster.ipynb",
      "provenance": [],
      "collapsed_sections": [],
      "authorship_tag": "ABX9TyPeHDPqq5imrvYpiVwm54yL",
      "include_colab_link": true
    },
    "kernelspec": {
      "name": "python3",
      "display_name": "Python 3"
    }
  },
  "cells": [
    {
      "cell_type": "markdown",
      "metadata": {
        "id": "view-in-github",
        "colab_type": "text"
      },
      "source": [
        "<a href=\"https://colab.research.google.com/github/vbaezfortunato/Python_class/blob/master/Cluster.ipynb\" target=\"_parent\"><img src=\"https://colab.research.google.com/assets/colab-badge.svg\" alt=\"Open In Colab\"/></a>"
      ]
    },
    {
      "cell_type": "code",
      "metadata": {
        "id": "mi48ikOlYIKt",
        "colab_type": "code",
        "colab": {
          "base_uri": "https://localhost:8080/",
          "height": 35
        },
        "outputId": "e6c7b746-7acb-4b47-df05-9a1e2098b3ae"
      },
      "source": [
        "\n",
        "import numpy as np\n",
        "import pandas as pd\n",
        "import matplotlib.pyplot as plt\n",
        "\n",
        "from google.colab import files\n",
        "from google.colab import drive \n",
        "drive.mount('/content/gdrive')"
      ],
      "execution_count": 156,
      "outputs": [
        {
          "output_type": "stream",
          "text": [
            "Drive already mounted at /content/gdrive; to attempt to forcibly remount, call drive.mount(\"/content/gdrive\", force_remount=True).\n"
          ],
          "name": "stdout"
        }
      ]
    },
    {
      "cell_type": "code",
      "metadata": {
        "id": "DEC09rYOMwB4",
        "colab_type": "code",
        "colab": {
          "base_uri": "https://localhost:8080/",
          "height": 509
        },
        "outputId": "f89404e1-0fc0-4f98-fb8b-f5ff277bd1c3"
      },
      "source": [
        "dt = pd.read_excel('/content/gdrive/My Drive/estaturas.xlsx')\n",
        "dt.head(15)"
      ],
      "execution_count": 157,
      "outputs": [
        {
          "output_type": "execute_result",
          "data": {
            "text/html": [
              "<div>\n",
              "<style scoped>\n",
              "    .dataframe tbody tr th:only-of-type {\n",
              "        vertical-align: middle;\n",
              "    }\n",
              "\n",
              "    .dataframe tbody tr th {\n",
              "        vertical-align: top;\n",
              "    }\n",
              "\n",
              "    .dataframe thead th {\n",
              "        text-align: right;\n",
              "    }\n",
              "</style>\n",
              "<table border=\"1\" class=\"dataframe\">\n",
              "  <thead>\n",
              "    <tr style=\"text-align: right;\">\n",
              "      <th></th>\n",
              "      <th>Estatura(metros)</th>\n",
              "      <th>Edad(años)</th>\n",
              "    </tr>\n",
              "  </thead>\n",
              "  <tbody>\n",
              "    <tr>\n",
              "      <th>0</th>\n",
              "      <td>1.77</td>\n",
              "      <td>26</td>\n",
              "    </tr>\n",
              "    <tr>\n",
              "      <th>1</th>\n",
              "      <td>1.74</td>\n",
              "      <td>31</td>\n",
              "    </tr>\n",
              "    <tr>\n",
              "      <th>2</th>\n",
              "      <td>1.72</td>\n",
              "      <td>24</td>\n",
              "    </tr>\n",
              "    <tr>\n",
              "      <th>3</th>\n",
              "      <td>1.78</td>\n",
              "      <td>34</td>\n",
              "    </tr>\n",
              "    <tr>\n",
              "      <th>4</th>\n",
              "      <td>1.65</td>\n",
              "      <td>32</td>\n",
              "    </tr>\n",
              "    <tr>\n",
              "      <th>5</th>\n",
              "      <td>1.66</td>\n",
              "      <td>29</td>\n",
              "    </tr>\n",
              "    <tr>\n",
              "      <th>6</th>\n",
              "      <td>1.64</td>\n",
              "      <td>27</td>\n",
              "    </tr>\n",
              "    <tr>\n",
              "      <th>7</th>\n",
              "      <td>1.85</td>\n",
              "      <td>34</td>\n",
              "    </tr>\n",
              "    <tr>\n",
              "      <th>8</th>\n",
              "      <td>1.85</td>\n",
              "      <td>26</td>\n",
              "    </tr>\n",
              "    <tr>\n",
              "      <th>9</th>\n",
              "      <td>1.75</td>\n",
              "      <td>21</td>\n",
              "    </tr>\n",
              "    <tr>\n",
              "      <th>10</th>\n",
              "      <td>1.73</td>\n",
              "      <td>23</td>\n",
              "    </tr>\n",
              "    <tr>\n",
              "      <th>11</th>\n",
              "      <td>1.79</td>\n",
              "      <td>25</td>\n",
              "    </tr>\n",
              "    <tr>\n",
              "      <th>12</th>\n",
              "      <td>1.82</td>\n",
              "      <td>24</td>\n",
              "    </tr>\n",
              "    <tr>\n",
              "      <th>13</th>\n",
              "      <td>1.65</td>\n",
              "      <td>25</td>\n",
              "    </tr>\n",
              "    <tr>\n",
              "      <th>14</th>\n",
              "      <td>1.79</td>\n",
              "      <td>25</td>\n",
              "    </tr>\n",
              "  </tbody>\n",
              "</table>\n",
              "</div>"
            ],
            "text/plain": [
              "    Estatura(metros)  Edad(años)\n",
              "0               1.77          26\n",
              "1               1.74          31\n",
              "2               1.72          24\n",
              "3               1.78          34\n",
              "4               1.65          32\n",
              "5               1.66          29\n",
              "6               1.64          27\n",
              "7               1.85          34\n",
              "8               1.85          26\n",
              "9               1.75          21\n",
              "10              1.73          23\n",
              "11              1.79          25\n",
              "12              1.82          24\n",
              "13              1.65          25\n",
              "14              1.79          25"
            ]
          },
          "metadata": {
            "tags": []
          },
          "execution_count": 157
        }
      ]
    },
    {
      "cell_type": "code",
      "metadata": {
        "id": "7AnXpePrPe3u",
        "colab_type": "code",
        "colab": {
          "base_uri": "https://localhost:8080/",
          "height": 294
        },
        "outputId": "b62607e7-a836-4cc2-a6ba-f7e67a1245d2"
      },
      "source": [
        "\n",
        "dt.describe()"
      ],
      "execution_count": 158,
      "outputs": [
        {
          "output_type": "execute_result",
          "data": {
            "text/html": [
              "<div>\n",
              "<style scoped>\n",
              "    .dataframe tbody tr th:only-of-type {\n",
              "        vertical-align: middle;\n",
              "    }\n",
              "\n",
              "    .dataframe tbody tr th {\n",
              "        vertical-align: top;\n",
              "    }\n",
              "\n",
              "    .dataframe thead th {\n",
              "        text-align: right;\n",
              "    }\n",
              "</style>\n",
              "<table border=\"1\" class=\"dataframe\">\n",
              "  <thead>\n",
              "    <tr style=\"text-align: right;\">\n",
              "      <th></th>\n",
              "      <th>Estatura(metros)</th>\n",
              "      <th>Edad(años)</th>\n",
              "    </tr>\n",
              "  </thead>\n",
              "  <tbody>\n",
              "    <tr>\n",
              "      <th>count</th>\n",
              "      <td>29.000000</td>\n",
              "      <td>29.000000</td>\n",
              "    </tr>\n",
              "    <tr>\n",
              "      <th>mean</th>\n",
              "      <td>1.734483</td>\n",
              "      <td>28.310345</td>\n",
              "    </tr>\n",
              "    <tr>\n",
              "      <th>std</th>\n",
              "      <td>0.078175</td>\n",
              "      <td>4.683584</td>\n",
              "    </tr>\n",
              "    <tr>\n",
              "      <th>min</th>\n",
              "      <td>1.550000</td>\n",
              "      <td>21.000000</td>\n",
              "    </tr>\n",
              "    <tr>\n",
              "      <th>25%</th>\n",
              "      <td>1.680000</td>\n",
              "      <td>25.000000</td>\n",
              "    </tr>\n",
              "    <tr>\n",
              "      <th>50%</th>\n",
              "      <td>1.750000</td>\n",
              "      <td>27.000000</td>\n",
              "    </tr>\n",
              "    <tr>\n",
              "      <th>75%</th>\n",
              "      <td>1.790000</td>\n",
              "      <td>32.000000</td>\n",
              "    </tr>\n",
              "    <tr>\n",
              "      <th>max</th>\n",
              "      <td>1.850000</td>\n",
              "      <td>40.000000</td>\n",
              "    </tr>\n",
              "  </tbody>\n",
              "</table>\n",
              "</div>"
            ],
            "text/plain": [
              "       Estatura(metros)  Edad(años)\n",
              "count         29.000000   29.000000\n",
              "mean           1.734483   28.310345\n",
              "std            0.078175    4.683584\n",
              "min            1.550000   21.000000\n",
              "25%            1.680000   25.000000\n",
              "50%            1.750000   27.000000\n",
              "75%            1.790000   32.000000\n",
              "max            1.850000   40.000000"
            ]
          },
          "metadata": {
            "tags": []
          },
          "execution_count": 158
        }
      ]
    },
    {
      "cell_type": "markdown",
      "metadata": {
        "id": "-23nIU2kP6Kl",
        "colab_type": "text"
      },
      "source": [
        "**Histograma de Edad**"
      ]
    },
    {
      "cell_type": "code",
      "metadata": {
        "id": "1nHF8S2iPnZ4",
        "colab_type": "code",
        "colab": {
          "base_uri": "https://localhost:8080/",
          "height": 281
        },
        "outputId": "1703f425-ba5a-4622-8c6d-5a33c72e7b36"
      },
      "source": [
        "\n",
        "plt.hist(dt['Edad(años)'])\n",
        "plt.title(\"Hist Edad\")\n",
        "plt.show()"
      ],
      "execution_count": 159,
      "outputs": [
        {
          "output_type": "display_data",
          "data": {
            "image/png": "[encoded data removed]",
            "text/plain": [
              "<Figure size 432x288 with 1 Axes>"
            ]
          },
          "metadata": {
            "tags": [],
            "needs_background": "light"
          }
        }
      ]
    },
    {
      "cell_type": "markdown",
      "metadata": {
        "id": "-v2LuWkSQSEb",
        "colab_type": "text"
      },
      "source": [
        "**Histograma de Estaturas**"
      ]
    },
    {
      "cell_type": "code",
      "metadata": {
        "id": "Tzx8KwUGQs-Z",
        "colab_type": "code",
        "colab": {
          "base_uri": "https://localhost:8080/",
          "height": 281
        },
        "outputId": "190b8ceb-810e-43d5-fc15-a7f289345a07"
      },
      "source": [
        "plt.hist(dt['Estatura(metros)'])\n",
        "plt.title(\"Hist Estatura\")\n",
        "plt.show()"
      ],
      "execution_count": 160,
      "outputs": [
        {
          "output_type": "display_data",
          "data": {
            "image/png": "[encoded data removed]",
            "text/plain": [
              "<Figure size 432x288 with 1 Axes>"
            ]
          },
          "metadata": {
            "tags": [],
            "needs_background": "light"
          }
        }
      ]
    },
    {
      "cell_type": "markdown",
      "metadata": {
        "id": "3R7-Pf5gRC8Y",
        "colab_type": "text"
      },
      "source": [
        "**Scatter Plot**"
      ]
    },
    {
      "cell_type": "code",
      "metadata": {
        "id": "BHJQqIPyRGst",
        "colab_type": "code",
        "colab": {
          "base_uri": "https://localhost:8080/",
          "height": 295
        },
        "outputId": "12174674-a541-443f-b8a4-c63d24716197"
      },
      "source": [
        "\n",
        "plt.scatter(dt['Edad(años)'], dt['Estatura(metros)'])\n",
        "plt.title(\"Edad vs. Estatura\")\n",
        "plt.xlabel(\"Edad(años)\")\n",
        "plt.ylabel(\"Estatura(metros)\")\n",
        "plt.show()"
      ],
      "execution_count": 161,
      "outputs": [
        {
          "output_type": "display_data",
          "data": {
            "image/png": "[encoded data removed]",
            "text/plain": [
              "<Figure size 432x288 with 1 Axes>"
            ]
          },
          "metadata": {
            "tags": [],
            "needs_background": "light"
          }
        }
      ]
    },
    {
      "cell_type": "markdown",
      "metadata": {
        "id": "gQ35Efp9Qznu",
        "colab_type": "text"
      },
      "source": [
        "**Variables Definition**"
      ]
    },
    {
      "cell_type": "code",
      "metadata": {
        "id": "5v6pVFpZjOu2",
        "colab_type": "code",
        "colab": {
          "base_uri": "https://localhost:8080/",
          "height": 202
        },
        "outputId": "80560333-2256-462c-b82a-429cf962ffda"
      },
      "source": [
        "\n",
        "n_centers=5\n",
        "centers=dt.sample(n=n_centers)\n",
        "centers"
      ],
      "execution_count": 162,
      "outputs": [
        {
          "output_type": "execute_result",
          "data": {
            "text/html": [
              "<div>\n",
              "<style scoped>\n",
              "    .dataframe tbody tr th:only-of-type {\n",
              "        vertical-align: middle;\n",
              "    }\n",
              "\n",
              "    .dataframe tbody tr th {\n",
              "        vertical-align: top;\n",
              "    }\n",
              "\n",
              "    .dataframe thead th {\n",
              "        text-align: right;\n",
              "    }\n",
              "</style>\n",
              "<table border=\"1\" class=\"dataframe\">\n",
              "  <thead>\n",
              "    <tr style=\"text-align: right;\">\n",
              "      <th></th>\n",
              "      <th>Estatura(metros)</th>\n",
              "      <th>Edad(años)</th>\n",
              "    </tr>\n",
              "  </thead>\n",
              "  <tbody>\n",
              "    <tr>\n",
              "      <th>8</th>\n",
              "      <td>1.85</td>\n",
              "      <td>26</td>\n",
              "    </tr>\n",
              "    <tr>\n",
              "      <th>3</th>\n",
              "      <td>1.78</td>\n",
              "      <td>34</td>\n",
              "    </tr>\n",
              "    <tr>\n",
              "      <th>13</th>\n",
              "      <td>1.65</td>\n",
              "      <td>25</td>\n",
              "    </tr>\n",
              "    <tr>\n",
              "      <th>10</th>\n",
              "      <td>1.73</td>\n",
              "      <td>23</td>\n",
              "    </tr>\n",
              "    <tr>\n",
              "      <th>14</th>\n",
              "      <td>1.79</td>\n",
              "      <td>25</td>\n",
              "    </tr>\n",
              "  </tbody>\n",
              "</table>\n",
              "</div>"
            ],
            "text/plain": [
              "    Estatura(metros)  Edad(años)\n",
              "8               1.85          26\n",
              "3               1.78          34\n",
              "13              1.65          25\n",
              "10              1.73          23\n",
              "14              1.79          25"
            ]
          },
          "metadata": {
            "tags": []
          },
          "execution_count": 162
        }
      ]
    },
    {
      "cell_type": "code",
      "metadata": {
        "id": "2TpgoqFblP0E",
        "colab_type": "code",
        "colab": {
          "base_uri": "https://localhost:8080/",
          "height": 520
        },
        "outputId": "baa786c2-b77a-4981-fad9-7602f015d8dc"
      },
      "source": [
        "dt.iloc[:,:2].values"
      ],
      "execution_count": 163,
      "outputs": [
        {
          "output_type": "execute_result",
          "data": {
            "text/plain": [
              "array([[ 1.77, 26.  ],\n",
              "       [ 1.74, 31.  ],\n",
              "       [ 1.72, 24.  ],\n",
              "       [ 1.78, 34.  ],\n",
              "       [ 1.65, 32.  ],\n",
              "       [ 1.66, 29.  ],\n",
              "       [ 1.64, 27.  ],\n",
              "       [ 1.85, 34.  ],\n",
              "       [ 1.85, 26.  ],\n",
              "       [ 1.75, 21.  ],\n",
              "       [ 1.73, 23.  ],\n",
              "       [ 1.79, 25.  ],\n",
              "       [ 1.82, 24.  ],\n",
              "       [ 1.65, 25.  ],\n",
              "       [ 1.79, 25.  ],\n",
              "       [ 1.72, 34.  ],\n",
              "       [ 1.7 , 26.  ],\n",
              "       [ 1.57, 25.  ],\n",
              "       [ 1.66, 26.  ],\n",
              "       [ 1.75, 27.  ],\n",
              "       [ 1.77, 32.  ],\n",
              "       [ 1.8 , 40.  ],\n",
              "       [ 1.85, 25.  ],\n",
              "       [ 1.82, 24.  ],\n",
              "       [ 1.75, 38.  ],\n",
              "       [ 1.73, 34.  ],\n",
              "       [ 1.55, 29.  ],\n",
              "       [ 1.76, 28.  ],\n",
              "       [ 1.68, 27.  ]])"
            ]
          },
          "metadata": {
            "tags": []
          },
          "execution_count": 163
        }
      ]
    },
    {
      "cell_type": "code",
      "metadata": {
        "id": "SwnWysqwZfTf",
        "colab_type": "code",
        "colab": {
          "base_uri": "https://localhost:8080/",
          "height": 520
        },
        "outputId": "7fb5cff8-4b73-48bd-c5cb-6bad1c5de7eb"
      },
      "source": [
        "df = np.array(dt)\n",
        "df"
      ],
      "execution_count": 238,
      "outputs": [
        {
          "output_type": "execute_result",
          "data": {
            "text/plain": [
              "array([[ 1.77, 26.  ],\n",
              "       [ 1.74, 31.  ],\n",
              "       [ 1.72, 24.  ],\n",
              "       [ 1.78, 34.  ],\n",
              "       [ 1.65, 32.  ],\n",
              "       [ 1.66, 29.  ],\n",
              "       [ 1.64, 27.  ],\n",
              "       [ 1.85, 34.  ],\n",
              "       [ 1.85, 26.  ],\n",
              "       [ 1.75, 21.  ],\n",
              "       [ 1.73, 23.  ],\n",
              "       [ 1.79, 25.  ],\n",
              "       [ 1.82, 24.  ],\n",
              "       [ 1.65, 25.  ],\n",
              "       [ 1.79, 25.  ],\n",
              "       [ 1.72, 34.  ],\n",
              "       [ 1.7 , 26.  ],\n",
              "       [ 1.57, 25.  ],\n",
              "       [ 1.66, 26.  ],\n",
              "       [ 1.75, 27.  ],\n",
              "       [ 1.77, 32.  ],\n",
              "       [ 1.8 , 40.  ],\n",
              "       [ 1.85, 25.  ],\n",
              "       [ 1.82, 24.  ],\n",
              "       [ 1.75, 38.  ],\n",
              "       [ 1.73, 34.  ],\n",
              "       [ 1.55, 29.  ],\n",
              "       [ 1.76, 28.  ],\n",
              "       [ 1.68, 27.  ]])"
            ]
          },
          "metadata": {
            "tags": []
          },
          "execution_count": 238
        }
      ]
    },
    {
      "cell_type": "markdown",
      "metadata": {
        "id": "JRmL7rMmk1hG",
        "colab_type": "text"
      },
      "source": [
        "**Arma kmean process**"
      ]
    },
    {
      "cell_type": "code",
      "metadata": {
        "id": "qtV9Uy0aVcLC",
        "colab_type": "code",
        "colab": {
          "base_uri": "https://localhost:8080/",
          "height": 69
        },
        "outputId": "24af9884-8f27-40c7-acde-e9a0e739a9c4"
      },
      "source": [
        "randon_e = np.random.uniform(np.min(dt['Edad(años)']), np.max(dt['Edad(años)']), 3).reshape(-1,1)\n",
        "randon_e"
      ],
      "execution_count": 185,
      "outputs": [
        {
          "output_type": "execute_result",
          "data": {
            "text/plain": [
              "array([[39.69260563],\n",
              "       [22.8700569 ],\n",
              "       [31.97741137]])"
            ]
          },
          "metadata": {
            "tags": []
          },
          "execution_count": 185
        }
      ]
    },
    {
      "cell_type": "code",
      "metadata": {
        "id": "4S5WZTHNVsnE",
        "colab_type": "code",
        "colab": {
          "base_uri": "https://localhost:8080/",
          "height": 69
        },
        "outputId": "b3e1a255-f4eb-43dd-8fa3-9f3000276a11"
      },
      "source": [
        "randon_es = np.random.uniform(np.min(dt['Estatura(metros)']), np.max(dt['Estatura(metros)']), 3).reshape(-1,1)\n",
        "randon_es"
      ],
      "execution_count": 186,
      "outputs": [
        {
          "output_type": "execute_result",
          "data": {
            "text/plain": [
              "array([[1.62188934],\n",
              "       [1.68976942],\n",
              "       [1.57041395]])"
            ]
          },
          "metadata": {
            "tags": []
          },
          "execution_count": 186
        }
      ]
    },
    {
      "cell_type": "code",
      "metadata": {
        "id": "7inmu2cUV2FW",
        "colab_type": "code",
        "colab": {
          "base_uri": "https://localhost:8080/",
          "height": 69
        },
        "outputId": "3c5ff9e1-3857-46d7-8710-73d59de97ade"
      },
      "source": [
        "centroids = np.concatenate((randon_e, randon_es), axis = 1)\n",
        "centroids"
      ],
      "execution_count": 187,
      "outputs": [
        {
          "output_type": "execute_result",
          "data": {
            "text/plain": [
              "array([[39.69260563,  1.62188934],\n",
              "       [22.8700569 ,  1.68976942],\n",
              "       [31.97741137,  1.57041395]])"
            ]
          },
          "metadata": {
            "tags": []
          },
          "execution_count": 187
        }
      ]
    },
    {
      "cell_type": "code",
      "metadata": {
        "id": "75hhpDQbbKc2",
        "colab_type": "code",
        "colab": {}
      },
      "source": [
        "output = list()\n",
        "\n",
        "for i in range(0,3):\n",
        "    out = np.sqrt(np.sum(np.square(np.subtract(dt_matrix,centroids[i])), axis = 1))\n",
        "    output.append(out)"
      ],
      "execution_count": 188,
      "outputs": []
    },
    {
      "cell_type": "code",
      "metadata": {
        "id": "Ne_LvtATbbWC",
        "colab_type": "code",
        "colab": {
          "base_uri": "https://localhost:8080/",
          "height": 520
        },
        "outputId": "3a2a76c1-a089-4fca-9868-e0180497a8ee"
      },
      "source": [
        "np.array(output).T"
      ],
      "execution_count": 190,
      "outputs": [
        {
          "output_type": "execute_result",
          "data": {
            "text/plain": [
              "array([[45.08232799, 32.19005611, 38.8496123 ],\n",
              "       [47.99451698, 36.13265727, 42.19480514],\n",
              "       [44.07605489, 30.7420119 , 37.66427051],\n",
              "       [49.8568723 , 38.5842131 , 44.31209434],\n",
              "       [48.68335907, 37.00001206, 42.96174563],\n",
              "       [46.86192521, 34.5791152 , 40.88432001],\n",
              "       [45.73892539, 33.03517955, 39.58563344],\n",
              "       [49.80366303, 38.5459958 , 44.26442101],\n",
              "       [45.01505393, 32.1376742 , 38.78744114],\n",
              "       [42.6046065 , 28.61715934, 35.93334401],\n",
              "       [43.56814251, 30.01712733, 37.06930068],\n",
              "       [44.53250017, 31.42826194, 38.21289452],\n",
              "       [43.98993173, 30.6732992 , 37.58398317],\n",
              "       [44.65171778, 31.52233596, 38.32358781],\n",
              "       [44.53250017, 31.42826194, 38.21289452],\n",
              "       [49.90251325, 38.61704167, 44.35300434],\n",
              "       [45.14122685, 32.23598331, 38.90406552],\n",
              "       [44.71989622, 31.5762454 , 38.38692705],\n",
              "       [45.17489757, 32.26226627, 38.93520395],\n",
              "       [45.64745144, 32.96459579, 39.50139548],\n",
              "       [48.58964524, 36.93132111, 42.87711987],\n",
              "       [53.93263334, 43.72208898, 48.86214527],\n",
              "       [44.48144398, 31.38804935, 38.16551347],\n",
              "       [43.98993173, 30.6732992 , 37.58398317],\n",
              "       [52.56432495, 42.00582874, 47.33720669],\n",
              "       [49.89490431, 38.6115657 , 44.34618299],\n",
              "       [46.95124394, 34.64669567, 40.96595603],\n",
              "       [46.20267624, 33.73222103, 40.14492457],\n",
              "       [45.70565269, 33.00948778, 39.55498682]])"
            ]
          },
          "metadata": {
            "tags": []
          },
          "execution_count": 190
        }
      ]
    },
    {
      "cell_type": "code",
      "metadata": {
        "id": "_W6onscWdei4",
        "colab_type": "code",
        "colab": {
          "base_uri": "https://localhost:8080/",
          "height": 225
        },
        "outputId": "d6b995af-d135-4044-a4ca-cf6b5c1568b8"
      },
      "source": [
        "np.sqrt(((np.array(output).T - np.array(centroids[:, np.newaxis]).T)**2).sum(axis=2))"
      ],
      "execution_count": 207,
      "outputs": [
        {
          "output_type": "execute_result",
          "data": {
            "text/plain": [
              "array([[12.77257366, 18.6872533 , 10.65470177, 22.41408989, 20.02860153,\n",
              "        16.36564117, 14.06316978, 22.3369458 , 12.67255664,  7.56031339,\n",
              "         9.59310891, 11.6425385 , 10.52574222, 11.82068872, 11.6425385 ,\n",
              "        22.48032571, 12.86027171, 11.92280421, 12.91046084, 13.92731994,\n",
              "        19.89170959, 30.375646  , 11.5664072 , 10.52574222, 27.70888367,\n",
              "        22.46927923, 16.49760546, 15.06903782, 14.01372338],\n",
              "       [64.87538705, 70.61922031, 62.84230619, 74.2607891 , 71.93634343,\n",
              "        68.36631569, 66.13625722, 74.17980167, 64.76996797, 59.87886435,\n",
              "        61.82312124, 63.78377412, 62.70624516, 63.97143074, 63.78377412,\n",
              "        74.33029073, 64.96772629, 64.07882084, 65.0205323 , 65.99336513,\n",
              "        71.79262507, 82.09529631, 63.70345802, 62.70624516, 79.46770226,\n",
              "        74.31870176, 68.50487655, 67.09812318, 66.08426987]])"
            ]
          },
          "metadata": {
            "tags": []
          },
          "execution_count": 207
        }
      ]
    },
    {
      "cell_type": "code",
      "metadata": {
        "id": "bVkqfsjnd1v-",
        "colab_type": "code",
        "colab": {
          "base_uri": "https://localhost:8080/",
          "height": 69
        },
        "outputId": "337ff4bc-3b79-48e7-a718-91d30ae4cd23"
      },
      "source": [
        "np.array(centroids[:, np.newaxis]).T"
      ],
      "execution_count": 206,
      "outputs": [
        {
          "output_type": "execute_result",
          "data": {
            "text/plain": [
              "array([[[39.69260563, 22.8700569 , 31.97741137]],\n",
              "\n",
              "       [[ 1.62188934,  1.68976942,  1.57041395]]])"
            ]
          },
          "metadata": {
            "tags": []
          },
          "execution_count": 206
        }
      ]
    },
    {
      "cell_type": "code",
      "metadata": {
        "id": "PGIlqBUPe6QN",
        "colab_type": "code",
        "colab": {}
      },
      "source": [
        "clusters = np.argmin(np.array(output).T, axis = 1)"
      ],
      "execution_count": 213,
      "outputs": []
    },
    {
      "cell_type": "code",
      "metadata": {
        "id": "WgoVbBz7esM6",
        "colab_type": "code",
        "colab": {
          "base_uri": "https://localhost:8080/",
          "height": 87
        },
        "outputId": "b9b32832-8d87-484b-da14-2af3ac077b4c"
      },
      "source": [
        "out = np.empty_like(centroids)\n",
        "for i in range(0,3):\n",
        "    out[i] = np.mean(dt_matrix[clusters == i],axis = 0)"
      ],
      "execution_count": 214,
      "outputs": [
        {
          "output_type": "stream",
          "text": [
            "/usr/local/lib/python3.6/dist-packages/numpy/core/fromnumeric.py:3335: RuntimeWarning: Mean of empty slice.\n",
            "  out=out, **kwargs)\n",
            "/usr/local/lib/python3.6/dist-packages/numpy/core/_methods.py:154: RuntimeWarning: invalid value encountered in true_divide\n",
            "  ret, rcount, out=ret, casting='unsafe', subok=False)\n"
          ],
          "name": "stderr"
        }
      ]
    },
    {
      "cell_type": "code",
      "metadata": {
        "id": "fnwK8JRvQJgY",
        "colab_type": "code",
        "colab": {}
      },
      "source": [
        "class KMeans:\n",
        "    \n",
        "    def __init__(self,df,k, verbosity):\n",
        "        self.verbosity = verbosity\n",
        "        self.df = df\n",
        "        self.k = k\n",
        "        self.edad_rand = np.random.uniform(np.min(df[:,0]), np.max(df[:,0]), self.k).reshape(-1,1)\n",
        "        self.estatura_rand = np.random.uniform(np.min(df[:,1]), np.max(df[:,1]), self.k).reshape(-1,1)\n",
        "        self.centroids = np.concatenate((self.edad_rand, self.estatura_rand), axis = 1)\n",
        "        self.clusters = np.empty_like(df[:,0])\n",
        "        self.min_distances = np.empty_like(df[:,0])\n",
        "        self.error = 0 \n",
        "        \n",
        "    def Clusters(self):\n",
        "        output = list()\n",
        "        for i in range(0,self.k):\n",
        "            out = np.sqrt(np.sum(np.square(np.subtract(self.df,self.centroids[i])), axis = 1))\n",
        "            output.append(out)\n",
        "        distances = np.array(output).T\n",
        "        self.min_distances = np.min(distances, axis = 1)\n",
        "        self.clusters = np.argmin(distances, axis = 1)\n",
        "        \n",
        "    def UpdateCentroids(self):\n",
        "        self.Clusters()\n",
        "        output_centroids = np.empty_like(self.centroids)\n",
        "        for i in range(0,self.k):\n",
        "            output_centroids[i] = np.mean(self.df[self.clusters == i],axis = 0)\n",
        "        return output_centroids\n",
        "                 \n",
        "    def Fit(self):\n",
        "        last_centroids = np.zeros_like(self.centroids)\n",
        "        while not (last_centroids == self.UpdateCentroids()).all():\n",
        "            last_centroids = self.UpdateCentroids()\n",
        "            self.centroids = last_centroids\n",
        "            if self.verbosity == True:\n",
        "                print('centroides:')\n",
        "                print(last_centroids)\n",
        "                print(\"****************************************************************************************\")\n",
        "        self.error = np.mean(self.min_distances)\n",
        "        return np.concatenate((self.df,self.clusters.reshape(-1,1)), axis = 1)\n",
        "\n",
        "    def Predict(self, test):\n",
        "        output = list()\n",
        "        for i in range(0, self.k):\n",
        "            out = np.sqrt(np.sum(np.square(np.subtract(test, self.centroids[i])), axis = 1))\n",
        "            output.append(out)\n",
        "        distances = np.array(output).T\n",
        "        # min_distances = np.min(distances, axis = 1)\n",
        "        clusters = np.argmin(distances, axis = 1)\n",
        "        return clusters"
      ],
      "execution_count": 239,
      "outputs": []
    },
    {
      "cell_type": "code",
      "metadata": {
        "id": "HO3iiL2bWcva",
        "colab_type": "code",
        "colab": {}
      },
      "source": [
        "K= KMeans(dt_matrix,7, True)"
      ],
      "execution_count": 253,
      "outputs": []
    },
    {
      "cell_type": "code",
      "metadata": {
        "id": "q9HJwE1_uuMz",
        "colab_type": "code",
        "colab": {
          "base_uri": "https://localhost:8080/",
          "height": 832
        },
        "outputId": "a86e71bc-fd54-4e89-b320-43bd54a8a33b"
      },
      "source": [
        "K.Fit()"
      ],
      "execution_count": 254,
      "outputs": [
        {
          "output_type": "stream",
          "text": [
            "centroides:\n",
            "[[ 1.6775     29.25      ]\n",
            " [ 1.75       33.33333333]\n",
            " [ 1.75       25.16666667]\n",
            " [ 1.7        26.5       ]\n",
            " [ 1.75       21.        ]\n",
            " [ 1.775      39.        ]\n",
            " [ 1.7725     23.75      ]]\n",
            "****************************************************************************************\n",
            "centroides:\n",
            "[[ 1.6775     29.25      ]\n",
            " [ 1.75       33.33333333]\n",
            " [ 1.73       25.        ]\n",
            " [ 1.72142857 26.42857143]\n",
            " [ 1.75       21.        ]\n",
            " [ 1.775      39.        ]\n",
            " [ 1.7725     23.75      ]]\n",
            "****************************************************************************************\n"
          ],
          "name": "stdout"
        },
        {
          "output_type": "execute_result",
          "data": {
            "text/plain": [
              "array([[ 1.77, 26.  ,  3.  ],\n",
              "       [ 1.74, 31.  ,  0.  ],\n",
              "       [ 1.72, 24.  ,  6.  ],\n",
              "       [ 1.78, 34.  ,  1.  ],\n",
              "       [ 1.65, 32.  ,  1.  ],\n",
              "       [ 1.66, 29.  ,  0.  ],\n",
              "       [ 1.64, 27.  ,  3.  ],\n",
              "       [ 1.85, 34.  ,  1.  ],\n",
              "       [ 1.85, 26.  ,  3.  ],\n",
              "       [ 1.75, 21.  ,  4.  ],\n",
              "       [ 1.73, 23.  ,  6.  ],\n",
              "       [ 1.79, 25.  ,  2.  ],\n",
              "       [ 1.82, 24.  ,  6.  ],\n",
              "       [ 1.65, 25.  ,  2.  ],\n",
              "       [ 1.79, 25.  ,  2.  ],\n",
              "       [ 1.72, 34.  ,  1.  ],\n",
              "       [ 1.7 , 26.  ,  3.  ],\n",
              "       [ 1.57, 25.  ,  2.  ],\n",
              "       [ 1.66, 26.  ,  3.  ],\n",
              "       [ 1.75, 27.  ,  3.  ],\n",
              "       [ 1.77, 32.  ,  1.  ],\n",
              "       [ 1.8 , 40.  ,  5.  ],\n",
              "       [ 1.85, 25.  ,  2.  ],\n",
              "       [ 1.82, 24.  ,  6.  ],\n",
              "       [ 1.75, 38.  ,  5.  ],\n",
              "       [ 1.73, 34.  ,  1.  ],\n",
              "       [ 1.55, 29.  ,  0.  ],\n",
              "       [ 1.76, 28.  ,  0.  ],\n",
              "       [ 1.68, 27.  ,  3.  ]])"
            ]
          },
          "metadata": {
            "tags": []
          },
          "execution_count": 254
        }
      ]
    },
    {
      "cell_type": "code",
      "metadata": {
        "id": "XR8vfbaG5hzm",
        "colab_type": "code",
        "colab": {}
      },
      "source": [
        "from sklearn.mixture import GaussianMixture"
      ],
      "execution_count": null,
      "outputs": []
    },
    {
      "cell_type": "code",
      "metadata": {
        "id": "SLwy-gFb5k_Z",
        "colab_type": "code",
        "colab": {}
      },
      "source": [
        "gmm = GaussianMixture(n_components = 5)\n",
        "\n",
        "gmm.fit(dt_matrix)"
      ],
      "execution_count": null,
      "outputs": []
    },
    {
      "cell_type": "code",
      "metadata": {
        "id": "Mvsk56ro6BEv",
        "colab_type": "code",
        "colab": {}
      },
      "source": [
        "gmm.predict(dt_matrix)"
      ],
      "execution_count": null,
      "outputs": []
    },
    {
      "cell_type": "code",
      "metadata": {
        "id": "fYUScdCR6GkO",
        "colab_type": "code",
        "colab": {}
      },
      "source": [
        "\n",
        "plt.scatter(dt_matrix[:,0], dt_matrix[:,1], c = gmm.predict(dt_matrix))\n",
        "plt.show()"
      ],
      "execution_count": null,
      "outputs": []
    },
    {
      "cell_type": "code",
      "metadata": {
        "id": "3NoEIjvl6uvm",
        "colab_type": "code",
        "colab": {}
      },
      "source": [
        "gmm.predict_proba(dt_matrix)"
      ],
      "execution_count": null,
      "outputs": []
    },
    {
      "cell_type": "code",
      "metadata": {
        "id": "JASKNJxH64cZ",
        "colab_type": "code",
        "colab": {
          "base_uri": "https://localhost:8080/",
          "height": 121
        },
        "outputId": "49884cfe-5eec-4a3a-cd3d-49a3c10942b2"
      },
      "source": [
        "\n",
        "model_list = list()\n",
        "for i in range(1,7):\n",
        "    print(i)\n",
        "    model = KMeans(df, k = i, verbosity = False)\n",
        "    model_list.append(model)"
      ],
      "execution_count": 260,
      "outputs": [
        {
          "output_type": "stream",
          "text": [
            "1\n",
            "2\n",
            "3\n",
            "4\n",
            "5\n",
            "6\n"
          ],
          "name": "stdout"
        }
      ]
    },
    {
      "cell_type": "code",
      "metadata": {
        "id": "i7jQ1KaT0rzg",
        "colab_type": "code",
        "colab": {
          "base_uri": "https://localhost:8080/",
          "height": 450
        },
        "outputId": "efffd22d-5c10-460e-a747-1308b473f5d5"
      },
      "source": [
        "error_list = list()\n",
        "for i in model_list:\n",
        "    i.Fit()\n",
        "    error = i.error\n",
        "    error_list.append(error)"
      ],
      "execution_count": 261,
      "outputs": [
        {
          "output_type": "stream",
          "text": [
            "/usr/local/lib/python3.6/dist-packages/numpy/core/fromnumeric.py:3335: RuntimeWarning: Mean of empty slice.\n",
            "  out=out, **kwargs)\n"
          ],
          "name": "stderr"
        },
        {
          "output_type": "error",
          "ename": "KeyboardInterrupt",
          "evalue": "ignored",
          "traceback": [
            "\u001b[0;31m---------------------------------------------------------------------------\u001b[0m",
            "\u001b[0;31mKeyboardInterrupt\u001b[0m                         Traceback (most recent call last)",
            "\u001b[0;32m<ipython-input-261-9ca69b4d7a3c>\u001b[0m in \u001b[0;36m<module>\u001b[0;34m()\u001b[0m\n\u001b[1;32m      1\u001b[0m \u001b[0merror_list\u001b[0m \u001b[0;34m=\u001b[0m \u001b[0mlist\u001b[0m\u001b[0;34m(\u001b[0m\u001b[0;34m)\u001b[0m\u001b[0;34m\u001b[0m\u001b[0;34m\u001b[0m\u001b[0m\n\u001b[1;32m      2\u001b[0m \u001b[0;32mfor\u001b[0m \u001b[0mi\u001b[0m \u001b[0;32min\u001b[0m \u001b[0mmodel_list\u001b[0m\u001b[0;34m:\u001b[0m\u001b[0;34m\u001b[0m\u001b[0;34m\u001b[0m\u001b[0m\n\u001b[0;32m----> 3\u001b[0;31m     \u001b[0mi\u001b[0m\u001b[0;34m.\u001b[0m\u001b[0mFit\u001b[0m\u001b[0;34m(\u001b[0m\u001b[0;34m)\u001b[0m\u001b[0;34m\u001b[0m\u001b[0;34m\u001b[0m\u001b[0m\n\u001b[0m\u001b[1;32m      4\u001b[0m     \u001b[0merror\u001b[0m \u001b[0;34m=\u001b[0m \u001b[0mi\u001b[0m\u001b[0;34m.\u001b[0m\u001b[0merror\u001b[0m\u001b[0;34m\u001b[0m\u001b[0;34m\u001b[0m\u001b[0m\n\u001b[1;32m      5\u001b[0m     \u001b[0merror_list\u001b[0m\u001b[0;34m.\u001b[0m\u001b[0mappend\u001b[0m\u001b[0;34m(\u001b[0m\u001b[0merror\u001b[0m\u001b[0;34m)\u001b[0m\u001b[0;34m\u001b[0m\u001b[0;34m\u001b[0m\u001b[0m\n",
            "\u001b[0;32m<ipython-input-239-8cd303741a42>\u001b[0m in \u001b[0;36mFit\u001b[0;34m(self)\u001b[0m\n\u001b[1;32m     30\u001b[0m     \u001b[0;32mdef\u001b[0m \u001b[0mFit\u001b[0m\u001b[0;34m(\u001b[0m\u001b[0mself\u001b[0m\u001b[0;34m)\u001b[0m\u001b[0;34m:\u001b[0m\u001b[0;34m\u001b[0m\u001b[0;34m\u001b[0m\u001b[0m\n\u001b[1;32m     31\u001b[0m         \u001b[0mlast_centroids\u001b[0m \u001b[0;34m=\u001b[0m \u001b[0mnp\u001b[0m\u001b[0;34m.\u001b[0m\u001b[0mzeros_like\u001b[0m\u001b[0;34m(\u001b[0m\u001b[0mself\u001b[0m\u001b[0;34m.\u001b[0m\u001b[0mcentroids\u001b[0m\u001b[0;34m)\u001b[0m\u001b[0;34m\u001b[0m\u001b[0;34m\u001b[0m\u001b[0m\n\u001b[0;32m---> 32\u001b[0;31m         \u001b[0;32mwhile\u001b[0m \u001b[0;32mnot\u001b[0m \u001b[0;34m(\u001b[0m\u001b[0mlast_centroids\u001b[0m \u001b[0;34m==\u001b[0m \u001b[0mself\u001b[0m\u001b[0;34m.\u001b[0m\u001b[0mUpdateCentroids\u001b[0m\u001b[0;34m(\u001b[0m\u001b[0;34m)\u001b[0m\u001b[0;34m)\u001b[0m\u001b[0;34m.\u001b[0m\u001b[0mall\u001b[0m\u001b[0;34m(\u001b[0m\u001b[0;34m)\u001b[0m\u001b[0;34m:\u001b[0m\u001b[0;34m\u001b[0m\u001b[0;34m\u001b[0m\u001b[0m\n\u001b[0m\u001b[1;32m     33\u001b[0m             \u001b[0mlast_centroids\u001b[0m \u001b[0;34m=\u001b[0m \u001b[0mself\u001b[0m\u001b[0;34m.\u001b[0m\u001b[0mUpdateCentroids\u001b[0m\u001b[0;34m(\u001b[0m\u001b[0;34m)\u001b[0m\u001b[0;34m\u001b[0m\u001b[0;34m\u001b[0m\u001b[0m\n\u001b[1;32m     34\u001b[0m             \u001b[0mself\u001b[0m\u001b[0;34m.\u001b[0m\u001b[0mcentroids\u001b[0m \u001b[0;34m=\u001b[0m \u001b[0mlast_centroids\u001b[0m\u001b[0;34m\u001b[0m\u001b[0;34m\u001b[0m\u001b[0m\n",
            "\u001b[0;32m<ipython-input-239-8cd303741a42>\u001b[0m in \u001b[0;36mUpdateCentroids\u001b[0;34m(self)\u001b[0m\n\u001b[1;32m     25\u001b[0m         \u001b[0moutput_centroids\u001b[0m \u001b[0;34m=\u001b[0m \u001b[0mnp\u001b[0m\u001b[0;34m.\u001b[0m\u001b[0mempty_like\u001b[0m\u001b[0;34m(\u001b[0m\u001b[0mself\u001b[0m\u001b[0;34m.\u001b[0m\u001b[0mcentroids\u001b[0m\u001b[0;34m)\u001b[0m\u001b[0;34m\u001b[0m\u001b[0;34m\u001b[0m\u001b[0m\n\u001b[1;32m     26\u001b[0m         \u001b[0;32mfor\u001b[0m \u001b[0mi\u001b[0m \u001b[0;32min\u001b[0m \u001b[0mrange\u001b[0m\u001b[0;34m(\u001b[0m\u001b[0;36m0\u001b[0m\u001b[0;34m,\u001b[0m\u001b[0mself\u001b[0m\u001b[0;34m.\u001b[0m\u001b[0mk\u001b[0m\u001b[0;34m)\u001b[0m\u001b[0;34m:\u001b[0m\u001b[0;34m\u001b[0m\u001b[0;34m\u001b[0m\u001b[0m\n\u001b[0;32m---> 27\u001b[0;31m             \u001b[0moutput_centroids\u001b[0m\u001b[0;34m[\u001b[0m\u001b[0mi\u001b[0m\u001b[0;34m]\u001b[0m \u001b[0;34m=\u001b[0m \u001b[0mnp\u001b[0m\u001b[0;34m.\u001b[0m\u001b[0mmean\u001b[0m\u001b[0;34m(\u001b[0m\u001b[0mself\u001b[0m\u001b[0;34m.\u001b[0m\u001b[0mdf\u001b[0m\u001b[0;34m[\u001b[0m\u001b[0mself\u001b[0m\u001b[0;34m.\u001b[0m\u001b[0mclusters\u001b[0m \u001b[0;34m==\u001b[0m \u001b[0mi\u001b[0m\u001b[0;34m]\u001b[0m\u001b[0;34m,\u001b[0m\u001b[0maxis\u001b[0m \u001b[0;34m=\u001b[0m \u001b[0;36m0\u001b[0m\u001b[0;34m)\u001b[0m\u001b[0;34m\u001b[0m\u001b[0;34m\u001b[0m\u001b[0m\n\u001b[0m\u001b[1;32m     28\u001b[0m         \u001b[0;32mreturn\u001b[0m \u001b[0moutput_centroids\u001b[0m\u001b[0;34m\u001b[0m\u001b[0;34m\u001b[0m\u001b[0m\n\u001b[1;32m     29\u001b[0m \u001b[0;34m\u001b[0m\u001b[0m\n",
            "\u001b[0;32m<__array_function__ internals>\u001b[0m in \u001b[0;36mmean\u001b[0;34m(*args, **kwargs)\u001b[0m\n",
            "\u001b[0;32m/usr/local/lib/python3.6/dist-packages/numpy/core/fromnumeric.py\u001b[0m in \u001b[0;36mmean\u001b[0;34m(a, axis, dtype, out, keepdims)\u001b[0m\n\u001b[1;32m   3333\u001b[0m \u001b[0;34m\u001b[0m\u001b[0m\n\u001b[1;32m   3334\u001b[0m     return _methods._mean(a, axis=axis, dtype=dtype,\n\u001b[0;32m-> 3335\u001b[0;31m                           out=out, **kwargs)\n\u001b[0m\u001b[1;32m   3336\u001b[0m \u001b[0;34m\u001b[0m\u001b[0m\n\u001b[1;32m   3337\u001b[0m \u001b[0;34m\u001b[0m\u001b[0m\n",
            "\u001b[0;32m/usr/local/lib/python3.6/dist-packages/numpy/core/_methods.py\u001b[0m in \u001b[0;36m_mean\u001b[0;34m(a, axis, dtype, out, keepdims)\u001b[0m\n\u001b[1;32m    149\u001b[0m             \u001b[0mis_float16_result\u001b[0m \u001b[0;34m=\u001b[0m \u001b[0;32mTrue\u001b[0m\u001b[0;34m\u001b[0m\u001b[0;34m\u001b[0m\u001b[0m\n\u001b[1;32m    150\u001b[0m \u001b[0;34m\u001b[0m\u001b[0m\n\u001b[0;32m--> 151\u001b[0;31m     \u001b[0mret\u001b[0m \u001b[0;34m=\u001b[0m \u001b[0mumr_sum\u001b[0m\u001b[0;34m(\u001b[0m\u001b[0marr\u001b[0m\u001b[0;34m,\u001b[0m \u001b[0maxis\u001b[0m\u001b[0;34m,\u001b[0m \u001b[0mdtype\u001b[0m\u001b[0;34m,\u001b[0m \u001b[0mout\u001b[0m\u001b[0;34m,\u001b[0m \u001b[0mkeepdims\u001b[0m\u001b[0;34m)\u001b[0m\u001b[0;34m\u001b[0m\u001b[0;34m\u001b[0m\u001b[0m\n\u001b[0m\u001b[1;32m    152\u001b[0m     \u001b[0;32mif\u001b[0m \u001b[0misinstance\u001b[0m\u001b[0;34m(\u001b[0m\u001b[0mret\u001b[0m\u001b[0;34m,\u001b[0m \u001b[0mmu\u001b[0m\u001b[0;34m.\u001b[0m\u001b[0mndarray\u001b[0m\u001b[0;34m)\u001b[0m\u001b[0;34m:\u001b[0m\u001b[0;34m\u001b[0m\u001b[0;34m\u001b[0m\u001b[0m\n\u001b[1;32m    153\u001b[0m         ret = um.true_divide(\n",
            "\u001b[0;31mKeyboardInterrupt\u001b[0m: "
          ]
        }
      ]
    },
    {
      "cell_type": "code",
      "metadata": {
        "id": "APa9vAwTwf7y",
        "colab_type": "code",
        "colab": {
          "base_uri": "https://localhost:8080/",
          "height": 35
        },
        "outputId": "002bcace-c1eb-4433-ab0a-833452baea7f"
      },
      "source": [
        "    error_list"
      ],
      "execution_count": 258,
      "outputs": [
        {
          "output_type": "execute_result",
          "data": {
            "text/plain": [
              "[3.835293925750108, 1.681819029148096, 1.382701033164735, 1.0194214395985468]"
            ]
          },
          "metadata": {
            "tags": []
          },
          "execution_count": 258
        }
      ]
    },
    {
      "cell_type": "code",
      "metadata": {
        "id": "eS-Kui-GwRNz",
        "colab_type": "code",
        "colab": {
          "base_uri": "https://localhost:8080/",
          "height": 633
        },
        "outputId": "0785e899-7e21-483d-d8c6-41b0db1a227a"
      },
      "source": [
        "plt.plot(np.array([1,2,3,4,5,6], dtype = np.int32), error_list)\n",
        "plt.scatter(np.array([1,2,3,4,5,6], dtype = np.int32), error_list)\n",
        "plt.title(\"K means Distortion error\")\n",
        "plt.xlabel(\"K\")\n",
        "plt.ylabel(\"Distortion error\")\n",
        "plt.xticks([1,2,3,4,5,6])\n",
        "plt.show()"
      ],
      "execution_count": 259,
      "outputs": [
        {
          "output_type": "error",
          "ename": "ValueError",
          "evalue": "ignored",
          "traceback": [
            "\u001b[0;31m---------------------------------------------------------------------------\u001b[0m",
            "\u001b[0;31mValueError\u001b[0m                                Traceback (most recent call last)",
            "\u001b[0;32m<ipython-input-259-31298e066c29>\u001b[0m in \u001b[0;36m<module>\u001b[0;34m()\u001b[0m\n\u001b[0;32m----> 1\u001b[0;31m \u001b[0mplt\u001b[0m\u001b[0;34m.\u001b[0m\u001b[0mplot\u001b[0m\u001b[0;34m(\u001b[0m\u001b[0mnp\u001b[0m\u001b[0;34m.\u001b[0m\u001b[0marray\u001b[0m\u001b[0;34m(\u001b[0m\u001b[0;34m[\u001b[0m\u001b[0;36m1\u001b[0m\u001b[0;34m,\u001b[0m\u001b[0;36m2\u001b[0m\u001b[0;34m,\u001b[0m\u001b[0;36m3\u001b[0m\u001b[0;34m,\u001b[0m\u001b[0;36m4\u001b[0m\u001b[0;34m,\u001b[0m\u001b[0;36m5\u001b[0m\u001b[0;34m,\u001b[0m\u001b[0;36m6\u001b[0m\u001b[0;34m]\u001b[0m\u001b[0;34m,\u001b[0m \u001b[0mdtype\u001b[0m \u001b[0;34m=\u001b[0m \u001b[0mnp\u001b[0m\u001b[0;34m.\u001b[0m\u001b[0mint32\u001b[0m\u001b[0;34m)\u001b[0m\u001b[0;34m,\u001b[0m \u001b[0merror_list\u001b[0m\u001b[0;34m)\u001b[0m\u001b[0;34m\u001b[0m\u001b[0;34m\u001b[0m\u001b[0m\n\u001b[0m\u001b[1;32m      2\u001b[0m \u001b[0mplt\u001b[0m\u001b[0;34m.\u001b[0m\u001b[0mscatter\u001b[0m\u001b[0;34m(\u001b[0m\u001b[0mnp\u001b[0m\u001b[0;34m.\u001b[0m\u001b[0marray\u001b[0m\u001b[0;34m(\u001b[0m\u001b[0;34m[\u001b[0m\u001b[0;36m1\u001b[0m\u001b[0;34m,\u001b[0m\u001b[0;36m2\u001b[0m\u001b[0;34m,\u001b[0m\u001b[0;36m3\u001b[0m\u001b[0;34m,\u001b[0m\u001b[0;36m4\u001b[0m\u001b[0;34m,\u001b[0m\u001b[0;36m5\u001b[0m\u001b[0;34m,\u001b[0m\u001b[0;36m6\u001b[0m\u001b[0;34m]\u001b[0m\u001b[0;34m,\u001b[0m \u001b[0mdtype\u001b[0m \u001b[0;34m=\u001b[0m \u001b[0mnp\u001b[0m\u001b[0;34m.\u001b[0m\u001b[0mint32\u001b[0m\u001b[0;34m)\u001b[0m\u001b[0;34m,\u001b[0m \u001b[0merror_list\u001b[0m\u001b[0;34m)\u001b[0m\u001b[0;34m\u001b[0m\u001b[0;34m\u001b[0m\u001b[0m\n\u001b[1;32m      3\u001b[0m \u001b[0mplt\u001b[0m\u001b[0;34m.\u001b[0m\u001b[0mtitle\u001b[0m\u001b[0;34m(\u001b[0m\u001b[0;34m\"K means Distortion error\"\u001b[0m\u001b[0;34m)\u001b[0m\u001b[0;34m\u001b[0m\u001b[0;34m\u001b[0m\u001b[0m\n\u001b[1;32m      4\u001b[0m \u001b[0mplt\u001b[0m\u001b[0;34m.\u001b[0m\u001b[0mxlabel\u001b[0m\u001b[0;34m(\u001b[0m\u001b[0;34m\"K\"\u001b[0m\u001b[0;34m)\u001b[0m\u001b[0;34m\u001b[0m\u001b[0;34m\u001b[0m\u001b[0m\n\u001b[1;32m      5\u001b[0m \u001b[0mplt\u001b[0m\u001b[0;34m.\u001b[0m\u001b[0mylabel\u001b[0m\u001b[0;34m(\u001b[0m\u001b[0;34m\"Distortion error\"\u001b[0m\u001b[0;34m)\u001b[0m\u001b[0;34m\u001b[0m\u001b[0;34m\u001b[0m\u001b[0m\n",
            "\u001b[0;32m/usr/local/lib/python3.6/dist-packages/matplotlib/pyplot.py\u001b[0m in \u001b[0;36mplot\u001b[0;34m(scalex, scaley, data, *args, **kwargs)\u001b[0m\n\u001b[1;32m   2761\u001b[0m     return gca().plot(\n\u001b[1;32m   2762\u001b[0m         *args, scalex=scalex, scaley=scaley, **({\"data\": data} if data\n\u001b[0;32m-> 2763\u001b[0;31m         is not None else {}), **kwargs)\n\u001b[0m\u001b[1;32m   2764\u001b[0m \u001b[0;34m\u001b[0m\u001b[0m\n\u001b[1;32m   2765\u001b[0m \u001b[0;34m\u001b[0m\u001b[0m\n",
            "\u001b[0;32m/usr/local/lib/python3.6/dist-packages/matplotlib/axes/_axes.py\u001b[0m in \u001b[0;36mplot\u001b[0;34m(self, scalex, scaley, data, *args, **kwargs)\u001b[0m\n\u001b[1;32m   1645\u001b[0m         \"\"\"\n\u001b[1;32m   1646\u001b[0m         \u001b[0mkwargs\u001b[0m \u001b[0;34m=\u001b[0m \u001b[0mcbook\u001b[0m\u001b[0;34m.\u001b[0m\u001b[0mnormalize_kwargs\u001b[0m\u001b[0;34m(\u001b[0m\u001b[0mkwargs\u001b[0m\u001b[0;34m,\u001b[0m \u001b[0mmlines\u001b[0m\u001b[0;34m.\u001b[0m\u001b[0mLine2D\u001b[0m\u001b[0;34m)\u001b[0m\u001b[0;34m\u001b[0m\u001b[0;34m\u001b[0m\u001b[0m\n\u001b[0;32m-> 1647\u001b[0;31m         \u001b[0mlines\u001b[0m \u001b[0;34m=\u001b[0m \u001b[0;34m[\u001b[0m\u001b[0;34m*\u001b[0m\u001b[0mself\u001b[0m\u001b[0;34m.\u001b[0m\u001b[0m_get_lines\u001b[0m\u001b[0;34m(\u001b[0m\u001b[0;34m*\u001b[0m\u001b[0margs\u001b[0m\u001b[0;34m,\u001b[0m \u001b[0mdata\u001b[0m\u001b[0;34m=\u001b[0m\u001b[0mdata\u001b[0m\u001b[0;34m,\u001b[0m \u001b[0;34m**\u001b[0m\u001b[0mkwargs\u001b[0m\u001b[0;34m)\u001b[0m\u001b[0;34m]\u001b[0m\u001b[0;34m\u001b[0m\u001b[0;34m\u001b[0m\u001b[0m\n\u001b[0m\u001b[1;32m   1648\u001b[0m         \u001b[0;32mfor\u001b[0m \u001b[0mline\u001b[0m \u001b[0;32min\u001b[0m \u001b[0mlines\u001b[0m\u001b[0;34m:\u001b[0m\u001b[0;34m\u001b[0m\u001b[0;34m\u001b[0m\u001b[0m\n\u001b[1;32m   1649\u001b[0m             \u001b[0mself\u001b[0m\u001b[0;34m.\u001b[0m\u001b[0madd_line\u001b[0m\u001b[0;34m(\u001b[0m\u001b[0mline\u001b[0m\u001b[0;34m)\u001b[0m\u001b[0;34m\u001b[0m\u001b[0;34m\u001b[0m\u001b[0m\n",
            "\u001b[0;32m/usr/local/lib/python3.6/dist-packages/matplotlib/axes/_base.py\u001b[0m in \u001b[0;36m__call__\u001b[0;34m(self, *args, **kwargs)\u001b[0m\n\u001b[1;32m    214\u001b[0m                 \u001b[0mthis\u001b[0m \u001b[0;34m+=\u001b[0m \u001b[0margs\u001b[0m\u001b[0;34m[\u001b[0m\u001b[0;36m0\u001b[0m\u001b[0;34m]\u001b[0m\u001b[0;34m,\u001b[0m\u001b[0;34m\u001b[0m\u001b[0;34m\u001b[0m\u001b[0m\n\u001b[1;32m    215\u001b[0m                 \u001b[0margs\u001b[0m \u001b[0;34m=\u001b[0m \u001b[0margs\u001b[0m\u001b[0;34m[\u001b[0m\u001b[0;36m1\u001b[0m\u001b[0;34m:\u001b[0m\u001b[0;34m]\u001b[0m\u001b[0;34m\u001b[0m\u001b[0;34m\u001b[0m\u001b[0m\n\u001b[0;32m--> 216\u001b[0;31m             \u001b[0;32myield\u001b[0m \u001b[0;32mfrom\u001b[0m \u001b[0mself\u001b[0m\u001b[0;34m.\u001b[0m\u001b[0m_plot_args\u001b[0m\u001b[0;34m(\u001b[0m\u001b[0mthis\u001b[0m\u001b[0;34m,\u001b[0m \u001b[0mkwargs\u001b[0m\u001b[0;34m)\u001b[0m\u001b[0;34m\u001b[0m\u001b[0;34m\u001b[0m\u001b[0m\n\u001b[0m\u001b[1;32m    217\u001b[0m \u001b[0;34m\u001b[0m\u001b[0m\n\u001b[1;32m    218\u001b[0m     \u001b[0;32mdef\u001b[0m \u001b[0mget_next_color\u001b[0m\u001b[0;34m(\u001b[0m\u001b[0mself\u001b[0m\u001b[0;34m)\u001b[0m\u001b[0;34m:\u001b[0m\u001b[0;34m\u001b[0m\u001b[0;34m\u001b[0m\u001b[0m\n",
            "\u001b[0;32m/usr/local/lib/python3.6/dist-packages/matplotlib/axes/_base.py\u001b[0m in \u001b[0;36m_plot_args\u001b[0;34m(self, tup, kwargs)\u001b[0m\n\u001b[1;32m    340\u001b[0m \u001b[0;34m\u001b[0m\u001b[0m\n\u001b[1;32m    341\u001b[0m         \u001b[0;32mif\u001b[0m \u001b[0mx\u001b[0m\u001b[0;34m.\u001b[0m\u001b[0mshape\u001b[0m\u001b[0;34m[\u001b[0m\u001b[0;36m0\u001b[0m\u001b[0;34m]\u001b[0m \u001b[0;34m!=\u001b[0m \u001b[0my\u001b[0m\u001b[0;34m.\u001b[0m\u001b[0mshape\u001b[0m\u001b[0;34m[\u001b[0m\u001b[0;36m0\u001b[0m\u001b[0;34m]\u001b[0m\u001b[0;34m:\u001b[0m\u001b[0;34m\u001b[0m\u001b[0;34m\u001b[0m\u001b[0m\n\u001b[0;32m--> 342\u001b[0;31m             raise ValueError(f\"x and y must have same first dimension, but \"\n\u001b[0m\u001b[1;32m    343\u001b[0m                              f\"have shapes {x.shape} and {y.shape}\")\n\u001b[1;32m    344\u001b[0m         \u001b[0;32mif\u001b[0m \u001b[0mx\u001b[0m\u001b[0;34m.\u001b[0m\u001b[0mndim\u001b[0m \u001b[0;34m>\u001b[0m \u001b[0;36m2\u001b[0m \u001b[0;32mor\u001b[0m \u001b[0my\u001b[0m\u001b[0;34m.\u001b[0m\u001b[0mndim\u001b[0m \u001b[0;34m>\u001b[0m \u001b[0;36m2\u001b[0m\u001b[0;34m:\u001b[0m\u001b[0;34m\u001b[0m\u001b[0;34m\u001b[0m\u001b[0m\n",
            "\u001b[0;31mValueError\u001b[0m: x and y must have same first dimension, but have shapes (6,) and (4,)"
          ]
        },
        {
          "output_type": "display_data",
          "data": {
            "image/png": "[encoded data removed]",
            "text/plain": [
              "<Figure size 432x288 with 1 Axes>"
            ]
          },
          "metadata": {
            "tags": [],
            "needs_background": "light"
          }
        }
      ]
    },
    {
      "cell_type": "markdown",
      "metadata": {
        "id": "-LVWrz2yZZin",
        "colab_type": "text"
      },
      "source": [
        "**Convert to dataframe to matrix**"
      ]
    },
    {
      "cell_type": "code",
      "metadata": {
        "id": "sURy3OflSnAq",
        "colab_type": "code",
        "colab": {}
      },
      "source": [
        "dt_matrix[:, 0], dt_matrix[:, 1] = dt_matrix[:, 1], dt_matrix[:, 0].copy()"
      ],
      "execution_count": null,
      "outputs": []
    },
    {
      "cell_type": "code",
      "metadata": {
        "id": "R2v1YiofaqKY",
        "colab_type": "code",
        "colab": {}
      },
      "source": [
        "n =list()\n",
        "for i in range(0,3):\n",
        " c = np.sqrt(np.sum(np.square(np.subtract(dt_matrix,centroins[i])), axis = 1))\n",
        "n.append(c)"
      ],
      "execution_count": null,
      "outputs": []
    },
    {
      "cell_type": "code",
      "metadata": {
        "id": "keK3KJNtRXRY",
        "colab_type": "code",
        "colab": {}
      },
      "source": [
        "np.array(n)"
      ],
      "execution_count": null,
      "outputs": []
    }
  ]
}