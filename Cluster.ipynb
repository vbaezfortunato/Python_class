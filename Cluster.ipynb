{
  "nbformat": 4,
  "nbformat_minor": 0,
  "metadata": {
    "colab": {
      "name": "Cluster.ipynb",
      "provenance": [],
      "collapsed_sections": [],
      "authorship_tag": "ABX9TyMFXEA3+B3+Pnv6AGIMUlfn",
      "include_colab_link": true
    },
    "kernelspec": {
      "name": "python3",
      "display_name": "Python 3"
    }
  },
  "cells": [
    {
      "cell_type": "markdown",
      "metadata": {
        "id": "view-in-github",
        "colab_type": "text"
      },
      "source": [
        "<a href=\"https://colab.research.google.com/github/vbaezfortunato/Python_class/blob/master/Cluster.ipynb\" target=\"_parent\"><img src=\"https://colab.research.google.com/assets/colab-badge.svg\" alt=\"Open In Colab\"/></a>"
      ]
    },
    {
      "cell_type": "markdown",
      "metadata": {
        "id": "wno0nFjTNbrq",
        "colab_type": "text"
      },
      "source": [
        "**K means and anomaly detection**\n",
        "\n",
        "A continuación se presentan los siguientes ejercicios para la maestría de Data Science, en la asignatura de Statistical learning II:\n",
        "\n",
        "Utilizar el dataset con la estatura y edad de los estudiantes de la mestría y realizar un modelo de:\n",
        "\n",
        "Hard-Clustering con k-means\n",
        "Soft-Clustering con GMM usando sklearn\n",
        "Ejecutar 5 experimentos para seleccionar el valor de \"k\":\n",
        "\n",
        "Ambos de métodos pueden usar el mismo valor de \"k\"\n",
        "Analizar el centroide de cada cluster y determinar si es posible asignar una categoría a cada cluster.\n",
        "Analizar y concluir si el método del codo es adecuado para este problema.\n",
        "\n",
        "Usar los datos en la seguna pestaña del archivo de excel en el que se encuentra el dataset y estimar:\n",
        "\n",
        "El cluster que k-means asigna a cada uno.\n",
        "La probabilidad de pertenecer a cada cluster según GMM."
      ]
    },
    {
      "cell_type": "code",
      "metadata": {
        "id": "mi48ikOlYIKt",
        "colab_type": "code",
        "colab": {
          "base_uri": "https://localhost:8080/",
          "height": 124
        },
        "outputId": "61363c1a-59a5-4967-ff04-c04cad91d717"
      },
      "source": [
        "\n",
        "import numpy as np\n",
        "import pandas as pd\n",
        "import matplotlib.pyplot as plt\n",
        "\n",
        "from google.colab import files\n",
        "from google.colab import drive \n",
        "drive.mount('/content/gdrive')"
      ],
      "execution_count": null,
      "outputs": [
        {
          "output_type": "stream",
          "text": [
            "Go to this URL in a browser: https://accounts.google.com/o/oauth2/auth?client_id=947318989803-6bn6qk8qdgf4n4g3pfee6491hc0brc4i.apps.googleusercontent.com&redirect_uri=urn%3aietf%3awg%3aoauth%3a2.0%3aoob&response_type=code&scope=email%20https%3a%2f%2fwww.googleapis.com%2fauth%2fdocs.test%20https%3a%2f%2fwww.googleapis.com%2fauth%2fdrive%20https%3a%2f%2fwww.googleapis.com%2fauth%2fdrive.photos.readonly%20https%3a%2f%2fwww.googleapis.com%2fauth%2fpeopleapi.readonly\n",
            "\n",
            "Enter your authorization code:\n",
            "··········\n",
            "Mounted at /content/gdrive\n"
          ],
          "name": "stdout"
        }
      ]
    },
    {
      "cell_type": "code",
      "metadata": {
        "id": "DEC09rYOMwB4",
        "colab_type": "code",
        "colab": {}
      },
      "source": [
        "xlsx = pd.ExcelFile('/content/gdrive/My Drive/estaturas.xlsx')\n",
        "dt = pd.read_excel(xlsx,'normales')\n",
        "df1 = pd.read_excel(xlsx, 'valtest(normales)')\n",
        "df2 = pd.read_excel(xlsx, 'anomalias')"
      ],
      "execution_count": null,
      "outputs": []
    },
    {
      "cell_type": "code",
      "metadata": {
        "id": "Z1oRLW5GX2Xm",
        "colab_type": "code",
        "colab": {
          "base_uri": "https://localhost:8080/",
          "height": 171
        },
        "outputId": "fefa1f4a-3dc3-4c21-c2ce-3f788d9fea62"
      },
      "source": [
        "df2"
      ],
      "execution_count": null,
      "outputs": [
        {
          "output_type": "execute_result",
          "data": {
            "text/html": [
              "<div>\n",
              "<style scoped>\n",
              "    .dataframe tbody tr th:only-of-type {\n",
              "        vertical-align: middle;\n",
              "    }\n",
              "\n",
              "    .dataframe tbody tr th {\n",
              "        vertical-align: top;\n",
              "    }\n",
              "\n",
              "    .dataframe thead th {\n",
              "        text-align: right;\n",
              "    }\n",
              "</style>\n",
              "<table border=\"1\" class=\"dataframe\">\n",
              "  <thead>\n",
              "    <tr style=\"text-align: right;\">\n",
              "      <th></th>\n",
              "      <th>Estatura</th>\n",
              "      <th>Edad</th>\n",
              "    </tr>\n",
              "  </thead>\n",
              "  <tbody>\n",
              "    <tr>\n",
              "      <th>0</th>\n",
              "      <td>0.25</td>\n",
              "      <td>2.4</td>\n",
              "    </tr>\n",
              "    <tr>\n",
              "      <th>1</th>\n",
              "      <td>175.10</td>\n",
              "      <td>2.5</td>\n",
              "    </tr>\n",
              "    <tr>\n",
              "      <th>2</th>\n",
              "      <td>0.15</td>\n",
              "      <td>250.0</td>\n",
              "    </tr>\n",
              "    <tr>\n",
              "      <th>3</th>\n",
              "      <td>150.00</td>\n",
              "      <td>14.0</td>\n",
              "    </tr>\n",
              "  </tbody>\n",
              "</table>\n",
              "</div>"
            ],
            "text/plain": [
              "   Estatura   Edad\n",
              "0      0.25    2.4\n",
              "1    175.10    2.5\n",
              "2      0.15  250.0\n",
              "3    150.00   14.0"
            ]
          },
          "metadata": {
            "tags": []
          },
          "execution_count": 425
        }
      ]
    },
    {
      "cell_type": "code",
      "metadata": {
        "id": "7AnXpePrPe3u",
        "colab_type": "code",
        "colab": {
          "base_uri": "https://localhost:8080/",
          "height": 294
        },
        "outputId": "fd331263-951c-4e32-e7cf-31765665ae22"
      },
      "source": [
        "\n",
        "dt.describe()"
      ],
      "execution_count": null,
      "outputs": [
        {
          "output_type": "execute_result",
          "data": {
            "text/html": [
              "<div>\n",
              "<style scoped>\n",
              "    .dataframe tbody tr th:only-of-type {\n",
              "        vertical-align: middle;\n",
              "    }\n",
              "\n",
              "    .dataframe tbody tr th {\n",
              "        vertical-align: top;\n",
              "    }\n",
              "\n",
              "    .dataframe thead th {\n",
              "        text-align: right;\n",
              "    }\n",
              "</style>\n",
              "<table border=\"1\" class=\"dataframe\">\n",
              "  <thead>\n",
              "    <tr style=\"text-align: right;\">\n",
              "      <th></th>\n",
              "      <th>Estatura(metros)</th>\n",
              "      <th>Edad(años)</th>\n",
              "    </tr>\n",
              "  </thead>\n",
              "  <tbody>\n",
              "    <tr>\n",
              "      <th>count</th>\n",
              "      <td>29.000000</td>\n",
              "      <td>29.000000</td>\n",
              "    </tr>\n",
              "    <tr>\n",
              "      <th>mean</th>\n",
              "      <td>1.734483</td>\n",
              "      <td>28.310345</td>\n",
              "    </tr>\n",
              "    <tr>\n",
              "      <th>std</th>\n",
              "      <td>0.078175</td>\n",
              "      <td>4.683584</td>\n",
              "    </tr>\n",
              "    <tr>\n",
              "      <th>min</th>\n",
              "      <td>1.550000</td>\n",
              "      <td>21.000000</td>\n",
              "    </tr>\n",
              "    <tr>\n",
              "      <th>25%</th>\n",
              "      <td>1.680000</td>\n",
              "      <td>25.000000</td>\n",
              "    </tr>\n",
              "    <tr>\n",
              "      <th>50%</th>\n",
              "      <td>1.750000</td>\n",
              "      <td>27.000000</td>\n",
              "    </tr>\n",
              "    <tr>\n",
              "      <th>75%</th>\n",
              "      <td>1.790000</td>\n",
              "      <td>32.000000</td>\n",
              "    </tr>\n",
              "    <tr>\n",
              "      <th>max</th>\n",
              "      <td>1.850000</td>\n",
              "      <td>40.000000</td>\n",
              "    </tr>\n",
              "  </tbody>\n",
              "</table>\n",
              "</div>"
            ],
            "text/plain": [
              "       Estatura(metros)  Edad(años)\n",
              "count         29.000000   29.000000\n",
              "mean           1.734483   28.310345\n",
              "std            0.078175    4.683584\n",
              "min            1.550000   21.000000\n",
              "25%            1.680000   25.000000\n",
              "50%            1.750000   27.000000\n",
              "75%            1.790000   32.000000\n",
              "max            1.850000   40.000000"
            ]
          },
          "metadata": {
            "tags": []
          },
          "execution_count": 185
        }
      ]
    },
    {
      "cell_type": "markdown",
      "metadata": {
        "id": "-23nIU2kP6Kl",
        "colab_type": "text"
      },
      "source": [
        "**Histograma de Edad**"
      ]
    },
    {
      "cell_type": "code",
      "metadata": {
        "id": "1nHF8S2iPnZ4",
        "colab_type": "code",
        "colab": {
          "base_uri": "https://localhost:8080/",
          "height": 281
        },
        "outputId": "8e214499-52e7-403e-8200-ce45126b1136"
      },
      "source": [
        "\n",
        "plt.hist(dt['Edad(años)'])\n",
        "plt.title(\"Hist Edad\")\n",
        "plt.show()"
      ],
      "execution_count": null,
      "outputs": [
        {
          "output_type": "display_data",
          "data": {
            "image/png": "[encoded data removed]",
            "text/plain": [
              "<Figure size 432x288 with 1 Axes>"
            ]
          },
          "metadata": {
            "tags": [],
            "needs_background": "light"
          }
        }
      ]
    },
    {
      "cell_type": "markdown",
      "metadata": {
        "id": "-v2LuWkSQSEb",
        "colab_type": "text"
      },
      "source": [
        "**Histograma de Estaturas**"
      ]
    },
    {
      "cell_type": "code",
      "metadata": {
        "id": "Tzx8KwUGQs-Z",
        "colab_type": "code",
        "colab": {
          "base_uri": "https://localhost:8080/",
          "height": 281
        },
        "outputId": "e1ab1b73-fe11-42e7-81dc-c32e100243a0"
      },
      "source": [
        "plt.hist(dt['Estatura(metros)'])\n",
        "plt.title(\"Hist Estatura\")\n",
        "plt.show()"
      ],
      "execution_count": null,
      "outputs": [
        {
          "output_type": "display_data",
          "data": {
            "image/png": "[encoded data removed]",
            "text/plain": [
              "<Figure size 432x288 with 1 Axes>"
            ]
          },
          "metadata": {
            "tags": [],
            "needs_background": "light"
          }
        }
      ]
    },
    {
      "cell_type": "markdown",
      "metadata": {
        "id": "3R7-Pf5gRC8Y",
        "colab_type": "text"
      },
      "source": [
        "**Scatter Plot**"
      ]
    },
    {
      "cell_type": "code",
      "metadata": {
        "id": "BHJQqIPyRGst",
        "colab_type": "code",
        "colab": {
          "base_uri": "https://localhost:8080/",
          "height": 295
        },
        "outputId": "dc61b382-e549-4da4-fc81-533b0eeb0d97"
      },
      "source": [
        "\n",
        "plt.scatter(dt['Edad(años)'], dt['Estatura(metros)'])\n",
        "plt.title(\"Edad vs. Estatura\")\n",
        "plt.xlabel(\"Edad(años)\")\n",
        "plt.ylabel(\"Estatura(metros)\")\n",
        "plt.show()"
      ],
      "execution_count": null,
      "outputs": [
        {
          "output_type": "display_data",
          "data": {
            "image/png": "[encoded data removed]",
            "text/plain": [
              "<Figure size 432x288 with 1 Axes>"
            ]
          },
          "metadata": {
            "tags": [],
            "needs_background": "light"
          }
        }
      ]
    },
    {
      "cell_type": "markdown",
      "metadata": {
        "id": "gQ35Efp9Qznu",
        "colab_type": "text"
      },
      "source": [
        "**Variables Definition**"
      ]
    },
    {
      "cell_type": "code",
      "metadata": {
        "id": "2TpgoqFblP0E",
        "colab_type": "code",
        "colab": {
          "base_uri": "https://localhost:8080/",
          "height": 520
        },
        "outputId": "68d32037-1695-4328-cef7-f773876b6524"
      },
      "source": [
        "dt.iloc[:,:2].values"
      ],
      "execution_count": null,
      "outputs": [
        {
          "output_type": "execute_result",
          "data": {
            "text/plain": [
              "array([[ 1.77, 26.  ],\n",
              "       [ 1.74, 31.  ],\n",
              "       [ 1.72, 24.  ],\n",
              "       [ 1.78, 34.  ],\n",
              "       [ 1.65, 32.  ],\n",
              "       [ 1.66, 29.  ],\n",
              "       [ 1.64, 27.  ],\n",
              "       [ 1.85, 34.  ],\n",
              "       [ 1.85, 26.  ],\n",
              "       [ 1.75, 21.  ],\n",
              "       [ 1.73, 23.  ],\n",
              "       [ 1.79, 25.  ],\n",
              "       [ 1.82, 24.  ],\n",
              "       [ 1.65, 25.  ],\n",
              "       [ 1.79, 25.  ],\n",
              "       [ 1.72, 34.  ],\n",
              "       [ 1.7 , 26.  ],\n",
              "       [ 1.57, 25.  ],\n",
              "       [ 1.66, 26.  ],\n",
              "       [ 1.75, 27.  ],\n",
              "       [ 1.77, 32.  ],\n",
              "       [ 1.8 , 40.  ],\n",
              "       [ 1.85, 25.  ],\n",
              "       [ 1.82, 24.  ],\n",
              "       [ 1.75, 38.  ],\n",
              "       [ 1.73, 34.  ],\n",
              "       [ 1.55, 29.  ],\n",
              "       [ 1.76, 28.  ],\n",
              "       [ 1.68, 27.  ]])"
            ]
          },
          "metadata": {
            "tags": []
          },
          "execution_count": 9
        }
      ]
    },
    {
      "cell_type": "code",
      "metadata": {
        "id": "SwnWysqwZfTf",
        "colab_type": "code",
        "colab": {
          "base_uri": "https://localhost:8080/",
          "height": 69
        },
        "outputId": "1d9c9c33-3759-48e0-b194-ec61abdee27a"
      },
      "source": [
        "df = np.array(dt)\n",
        "df[:,1]"
      ],
      "execution_count": null,
      "outputs": [
        {
          "output_type": "execute_result",
          "data": {
            "text/plain": [
              "array([26., 31., 24., 34., 32., 29., 27., 34., 26., 21., 23., 25., 24.,\n",
              "       25., 25., 34., 26., 25., 26., 27., 32., 40., 25., 24., 38., 34.,\n",
              "       29., 28., 27.])"
            ]
          },
          "metadata": {
            "tags": []
          },
          "execution_count": 54
        }
      ]
    },
    {
      "cell_type": "markdown",
      "metadata": {
        "id": "JRmL7rMmk1hG",
        "colab_type": "text"
      },
      "source": [
        "**Arma kmean process**"
      ]
    },
    {
      "cell_type": "code",
      "metadata": {
        "id": "qtV9Uy0aVcLC",
        "colab_type": "code",
        "colab": {
          "base_uri": "https://localhost:8080/",
          "height": 69
        },
        "outputId": "55973099-d19a-4720-d687-7d1d951d11fa"
      },
      "source": [
        "randon_e = np.random.uniform(np.min(dt['Edad(años)']), np.max(dt['Edad(años)']), 3).reshape(-1,1)\n",
        "randon_e"
      ],
      "execution_count": null,
      "outputs": [
        {
          "output_type": "execute_result",
          "data": {
            "text/plain": [
              "array([[23.37835755],\n",
              "       [38.66946463],\n",
              "       [30.73395811]])"
            ]
          },
          "metadata": {
            "tags": []
          },
          "execution_count": 11
        }
      ]
    },
    {
      "cell_type": "code",
      "metadata": {
        "id": "4S5WZTHNVsnE",
        "colab_type": "code",
        "colab": {
          "base_uri": "https://localhost:8080/",
          "height": 69
        },
        "outputId": "d44801c4-d638-4142-f4ad-479b30314581"
      },
      "source": [
        "randon_es = np.random.uniform(np.min(dt['Estatura(metros)']), np.max(dt['Estatura(metros)']), 3).reshape(-1,1)\n",
        "randon_es"
      ],
      "execution_count": null,
      "outputs": [
        {
          "output_type": "execute_result",
          "data": {
            "text/plain": [
              "array([[1.69095235],\n",
              "       [1.58052567],\n",
              "       [1.83472205]])"
            ]
          },
          "metadata": {
            "tags": []
          },
          "execution_count": 12
        }
      ]
    },
    {
      "cell_type": "code",
      "metadata": {
        "id": "7inmu2cUV2FW",
        "colab_type": "code",
        "colab": {
          "base_uri": "https://localhost:8080/",
          "height": 69
        },
        "outputId": "d6b5960f-be94-45cf-bbd1-d4311e907a8c"
      },
      "source": [
        "centroids = np.concatenate((randon_e, randon_es), axis = 1)\n",
        "centroids"
      ],
      "execution_count": null,
      "outputs": [
        {
          "output_type": "execute_result",
          "data": {
            "text/plain": [
              "array([[23.37835755,  1.69095235],\n",
              "       [38.66946463,  1.58052567],\n",
              "       [30.73395811,  1.83472205]])"
            ]
          },
          "metadata": {
            "tags": []
          },
          "execution_count": 13
        }
      ]
    },
    {
      "cell_type": "code",
      "metadata": {
        "id": "75hhpDQbbKc2",
        "colab_type": "code",
        "colab": {}
      },
      "source": [
        "output = list()\n",
        "\n",
        "for i in range(0,3):\n",
        "    out = np.sqrt(np.sum(np.square(np.subtract(df,centroids[i])), axis = 1))\n",
        "    output.append(out)"
      ],
      "execution_count": null,
      "outputs": []
    },
    {
      "cell_type": "code",
      "metadata": {
        "id": "Ne_LvtATbbWC",
        "colab_type": "code",
        "colab": {
          "base_uri": "https://localhost:8080/",
          "height": 520
        },
        "outputId": "dd31f26e-a20c-4ddd-be3d-fc12afe1ecba"
      },
      "source": [
        "np.array(output).T"
      ],
      "execution_count": null,
      "outputs": [
        {
          "output_type": "execute_result",
          "data": {
            "text/plain": [
              "array([[32.52462012, 44.24795156, 37.72096934],\n",
              "       [36.43128864, 47.21536644, 41.12496863],\n",
              "       [31.09305484, 43.21915971, 36.5117695 ],\n",
              "       [38.86339678, 49.11063955, 43.2774398 ],\n",
              "       [37.29289331, 47.91435255, 41.90251321],\n",
              "       [34.89227907, 46.06004825, 39.79004104],\n",
              "       [33.3632145 , 44.91470724, 38.46751373],\n",
              "       [38.82453785, 49.0580808 , 43.23063892],\n",
              "       [32.47152563, 44.18125963, 37.6595764 ],\n",
              "       [28.99353672, 41.71525923, 34.747341  ],\n",
              "       [30.37642007, 42.70032703, 35.90541153],\n",
              "       [31.77056632, 43.68714559, 37.07266936],\n",
              "       [31.02348123, 43.13369765, 36.4323554 ],\n",
              "       [31.86586299, 43.80539396, 37.18207528],\n",
              "       [31.77056632, 43.68714559, 37.07266936],\n",
              "       [38.8967738 , 49.15572452, 43.31760463],\n",
              "       [32.57116798, 44.30634314, 37.77474529],\n",
              "       [31.92046619, 43.87302194, 37.24468493],\n",
              "       [32.59780441, 44.33972484, 37.80549826],\n",
              "       [33.29164675, 44.82406211, 38.38438539],\n",
              "       [37.22310419, 47.82169914, 41.81931209],\n",
              "       [43.96826863, 53.24860027, 47.89323932],\n",
              "       [31.72982637, 43.63650712, 37.0258442 ],\n",
              "       [31.02348123, 43.13369765, 36.4323554 ],\n",
              "       [42.26266428, 51.85966621, 46.34649023],\n",
              "       [38.89120652, 49.14820814, 43.31090731],\n",
              "       [34.96085349, 46.14848023, 39.87048704],\n",
              "       [34.05171613, 45.39049684, 39.03987729],\n",
              "       [33.33716565, 44.88173536, 38.43726962]])"
            ]
          },
          "metadata": {
            "tags": []
          },
          "execution_count": 16
        }
      ]
    },
    {
      "cell_type": "code",
      "metadata": {
        "id": "bVkqfsjnd1v-",
        "colab_type": "code",
        "colab": {
          "base_uri": "https://localhost:8080/",
          "height": 69
        },
        "outputId": "c0947fa9-cab9-494d-d1e0-62606c43c1f5"
      },
      "source": [
        "np.array(centroids[:, np.newaxis]).T"
      ],
      "execution_count": null,
      "outputs": [
        {
          "output_type": "execute_result",
          "data": {
            "text/plain": [
              "array([[[23.37835755, 38.66946463, 30.73395811]],\n",
              "\n",
              "       [[ 1.69095235,  1.58052567,  1.83472205]]])"
            ]
          },
          "metadata": {
            "tags": []
          },
          "execution_count": 20
        }
      ]
    },
    {
      "cell_type": "code",
      "metadata": {
        "id": "PGIlqBUPe6QN",
        "colab_type": "code",
        "colab": {}
      },
      "source": [
        "clusters = np.argmin(np.array(output).T, axis = 1)"
      ],
      "execution_count": null,
      "outputs": []
    },
    {
      "cell_type": "code",
      "metadata": {
        "id": "WgoVbBz7esM6",
        "colab_type": "code",
        "colab": {
          "base_uri": "https://localhost:8080/",
          "height": 87
        },
        "outputId": "59c31032-9594-41f0-ab6c-4bb71085c388"
      },
      "source": [
        "out = np.empty_like(centroids)\n",
        "for i in range(0,3):\n",
        "    out[i] = np.mean(df[clusters == i],axis = 0)"
      ],
      "execution_count": null,
      "outputs": [
        {
          "output_type": "stream",
          "text": [
            "/usr/local/lib/python3.6/dist-packages/numpy/core/fromnumeric.py:3335: RuntimeWarning: Mean of empty slice.\n",
            "  out=out, **kwargs)\n",
            "/usr/local/lib/python3.6/dist-packages/numpy/core/_methods.py:154: RuntimeWarning: invalid value encountered in true_divide\n",
            "  ret, rcount, out=ret, casting='unsafe', subok=False)\n"
          ],
          "name": "stderr"
        }
      ]
    },
    {
      "cell_type": "code",
      "metadata": {
        "id": "z5LO4n92Dq03",
        "colab_type": "code",
        "colab": {}
      },
      "source": [
        "df[:, 0], df[:, 1] = df[:, 1], df[:, 0].copy()"
      ],
      "execution_count": null,
      "outputs": []
    },
    {
      "cell_type": "code",
      "metadata": {
        "id": "fnwK8JRvQJgY",
        "colab_type": "code",
        "colab": {}
      },
      "source": [
        "# inicialización de centroides random dentro de parámetros\n",
        "\n",
        "class KMeans:\n",
        "    \n",
        "    def __init__(self,df,k, verbosity):\n",
        "        self.verbosity = verbosity\n",
        "        self.df = df\n",
        "        self.k = k\n",
        "        self.randon_e = np.random.uniform(np.min(df[:,0]), np.max(df[:,0]), self.k).reshape(-1,1)\n",
        "        self.randon_es = np.random.uniform(np.min(df[:,1]), np.max(df[:,1]), self.k).reshape(-1,1)\n",
        "        self.centroids = np.concatenate((self.randon_e, self.randon_es), axis = 1)\n",
        "        self.clusters = np.empty_like(df[:,0])\n",
        "        self.min_distances = np.empty_like(df[:,0])\n",
        "        self.error = 0 \n",
        "        \n",
        "    def Clusters(self):\n",
        "        output = list()\n",
        "        for i in range(0,self.k):\n",
        "            out = np.sqrt(np.sum(np.square(np.subtract(self.df,self.centroids[i])), axis = 1))\n",
        "            output.append(out)\n",
        "        distances = np.array(output).T\n",
        "        self.min_distances = np.min(distances, axis = 1)\n",
        "        self.clusters = np.argmin(distances, axis = 1)\n",
        "        \n",
        "    def UpdateCentroids(self):\n",
        "        self.Clusters()\n",
        "        output_centroids = np.empty_like(self.centroids)\n",
        "        for i in range(0,self.k):\n",
        "            output_centroids[i] = np.mean(self.df[self.clusters == i],axis = 0)\n",
        "        return output_centroids\n",
        "                 \n",
        "    def Fit(self):\n",
        "        last_centroids = np.zeros_like(self.centroids)\n",
        "        while not (last_centroids == self.UpdateCentroids()).all():\n",
        "            last_centroids = self.UpdateCentroids()\n",
        "            self.centroids = last_centroids\n",
        "            if self.verbosity == True:\n",
        "                print('centroides:')\n",
        "                print(last_centroids)\n",
        "                print(\"****************************************************************************************\")\n",
        "        self.error = np.mean(self.min_distances)\n",
        "       \n",
        "\n",
        "    def Predict(self, test):\n",
        "        output = list()\n",
        "        for i in range(0, self.k):\n",
        "            out = np.sqrt(np.sum(np.square(np.subtract(test, self.centroids[i])), axis = 1))\n",
        "            output.append(out)\n",
        "        distances = np.array(output).T\n",
        "        # min_distances = np.min(distances, axis = 1)\n",
        "        clusters = np.argmin(distances, axis = 1)\n",
        "        return clusters\n",
        "                    "
      ],
      "execution_count": null,
      "outputs": []
    },
    {
      "cell_type": "code",
      "metadata": {
        "id": "HO3iiL2bWcva",
        "colab_type": "code",
        "colab": {}
      },
      "source": [
        "K= KMeans(df,3, True)"
      ],
      "execution_count": null,
      "outputs": []
    },
    {
      "cell_type": "code",
      "metadata": {
        "id": "q9HJwE1_uuMz",
        "colab_type": "code",
        "colab": {
          "base_uri": "https://localhost:8080/",
          "height": 191
        },
        "outputId": "1d0885fa-9ebe-4e50-bbf3-a1b20c1a4ff1"
      },
      "source": [
        "K.Fit()"
      ],
      "execution_count": null,
      "outputs": [
        {
          "output_type": "stream",
          "text": [
            "centroides:\n",
            "[[25.22222222  1.73888889]\n",
            " [30.6         1.674     ]\n",
            " [35.66666667  1.77166667]]\n",
            "****************************************************************************************\n",
            "centroides:\n",
            "[[25.05882353  1.73764706]\n",
            " [30.16666667  1.68833333]\n",
            " [35.66666667  1.77166667]]\n",
            "****************************************************************************************\n"
          ],
          "name": "stdout"
        }
      ]
    },
    {
      "cell_type": "code",
      "metadata": {
        "id": "XR8vfbaG5hzm",
        "colab_type": "code",
        "colab": {}
      },
      "source": [
        "from sklearn.mixture import GaussianMixture"
      ],
      "execution_count": null,
      "outputs": []
    },
    {
      "cell_type": "code",
      "metadata": {
        "id": "SLwy-gFb5k_Z",
        "colab_type": "code",
        "colab": {
          "base_uri": "https://localhost:8080/",
          "height": 87
        },
        "outputId": "dcd53bb2-b0f8-422f-ae19-192c4b30f652"
      },
      "source": [
        "gm = GaussianMixture(n_components = 5)\n",
        "\n",
        "gm.fit(df)"
      ],
      "execution_count": null,
      "outputs": [
        {
          "output_type": "execute_result",
          "data": {
            "text/plain": [
              "GaussianMixture(covariance_type='full', init_params='kmeans', max_iter=100,\n",
              "                means_init=None, n_components=5, n_init=1, precisions_init=None,\n",
              "                random_state=None, reg_covar=1e-06, tol=0.001, verbose=0,\n",
              "                verbose_interval=10, warm_start=False, weights_init=None)"
            ]
          },
          "metadata": {
            "tags": []
          },
          "execution_count": 169
        }
      ]
    },
    {
      "cell_type": "code",
      "metadata": {
        "id": "Mvsk56ro6BEv",
        "colab_type": "code",
        "colab": {
          "base_uri": "https://localhost:8080/",
          "height": 52
        },
        "outputId": "c778e906-f3da-47fd-ee60-bcc32bf8fd95"
      },
      "source": [
        "gm.predict(df)"
      ],
      "execution_count": null,
      "outputs": [
        {
          "output_type": "execute_result",
          "data": {
            "text/plain": [
              "array([3, 4, 3, 0, 4, 4, 1, 0, 3, 3, 3, 3, 3, 1, 3, 0, 1, 1, 1, 1, 4, 2,\n",
              "       3, 3, 2, 0, 4, 1, 1])"
            ]
          },
          "metadata": {
            "tags": []
          },
          "execution_count": 170
        }
      ]
    },
    {
      "cell_type": "code",
      "metadata": {
        "id": "fYUScdCR6GkO",
        "colab_type": "code",
        "colab": {
          "base_uri": "https://localhost:8080/",
          "height": 265
        },
        "outputId": "fbcccf5f-406b-4c22-9d63-5c59b40130a8"
      },
      "source": [
        "\n",
        "plt.scatter(df[:,0], df[:,1], c = gm.predict(df))\n",
        "plt.show()"
      ],
      "execution_count": null,
      "outputs": [
        {
          "output_type": "display_data",
          "data": {
            "image/png": "[encoded data removed]",
            "text/plain": [
              "<Figure size 432x288 with 1 Axes>"
            ]
          },
          "metadata": {
            "tags": [],
            "needs_background": "light"
          }
        }
      ]
    },
    {
      "cell_type": "code",
      "metadata": {
        "id": "3NoEIjvl6uvm",
        "colab_type": "code",
        "colab": {
          "base_uri": "https://localhost:8080/",
          "height": 1000
        },
        "outputId": "b465c7aa-4d6b-450d-9408-7b60517fef4f"
      },
      "source": [
        "gm.predict_proba(df)"
      ],
      "execution_count": null,
      "outputs": [
        {
          "output_type": "execute_result",
          "data": {
            "text/plain": [
              "array([[0.00000000e+000, 9.22360678e-002, 0.00000000e+000,\n",
              "        9.07763832e-001, 1.00551352e-007],\n",
              "       [0.00000000e+000, 2.76421377e-007, 0.00000000e+000,\n",
              "        2.37524489e-008, 9.99999700e-001],\n",
              "       [0.00000000e+000, 3.73604315e-004, 0.00000000e+000,\n",
              "        9.99626396e-001, 3.52970714e-011],\n",
              "       [9.99965370e-001, 4.91810899e-023, 0.00000000e+000,\n",
              "        3.51973451e-017, 3.46295769e-005],\n",
              "       [0.00000000e+000, 1.90565122e-016, 0.00000000e+000,\n",
              "        6.54733307e-016, 1.00000000e+000],\n",
              "       [0.00000000e+000, 1.27577285e-003, 0.00000000e+000,\n",
              "        3.03482940e-008, 9.98724197e-001],\n",
              "       [0.00000000e+000, 9.90371400e-001, 0.00000000e+000,\n",
              "        2.65583421e-006, 9.62594445e-003],\n",
              "       [9.99914947e-001, 6.43562979e-019, 0.00000000e+000,\n",
              "        4.60480112e-014, 8.50530707e-005],\n",
              "       [0.00000000e+000, 4.14242304e-005, 0.00000000e+000,\n",
              "        9.99958576e-001, 5.19139749e-011],\n",
              "       [0.00000000e+000, 2.09985313e-018, 0.00000000e+000,\n",
              "        1.00000000e+000, 5.68729543e-023],\n",
              "       [0.00000000e+000, 4.16471109e-008, 0.00000000e+000,\n",
              "        9.99999958e-001, 5.41554304e-015],\n",
              "       [0.00000000e+000, 4.66438425e-005, 0.00000000e+000,\n",
              "        9.99953356e-001, 1.26933011e-011],\n",
              "       [0.00000000e+000, 6.83483307e-010, 0.00000000e+000,\n",
              "        9.99999999e-001, 4.77124287e-016],\n",
              "       [0.00000000e+000, 9.98634313e-001, 0.00000000e+000,\n",
              "        1.36416795e-003, 1.51952143e-006],\n",
              "       [0.00000000e+000, 4.66438425e-005, 0.00000000e+000,\n",
              "        9.99953356e-001, 1.26933011e-011],\n",
              "       [9.99978304e-001, 5.42033365e-027, 0.00000000e+000,\n",
              "        2.29657930e-020, 2.16963087e-005],\n",
              "       [0.00000000e+000, 9.91878909e-001, 0.00000000e+000,\n",
              "        8.11565145e-003, 5.43905958e-006],\n",
              "       [0.00000000e+000, 9.99925081e-001, 0.00000000e+000,\n",
              "        6.79308316e-008, 7.48508092e-005],\n",
              "       [0.00000000e+000, 9.99844127e-001, 0.00000000e+000,\n",
              "        1.27291278e-004, 2.85820108e-005],\n",
              "       [0.00000000e+000, 9.62776077e-001, 0.00000000e+000,\n",
              "        3.71934433e-002, 3.04800645e-005],\n",
              "       [0.00000000e+000, 6.88631469e-010, 0.00000000e+000,\n",
              "        4.26827953e-009, 9.99999995e-001],\n",
              "       [0.00000000e+000, 1.28162287e-071, 1.00000000e+000,\n",
              "        6.24788029e-036, 1.30682037e-015],\n",
              "       [0.00000000e+000, 5.19414819e-008, 0.00000000e+000,\n",
              "        9.99999948e-001, 4.92351202e-014],\n",
              "       [0.00000000e+000, 6.83483307e-010, 0.00000000e+000,\n",
              "        9.99999999e-001, 4.77124287e-016],\n",
              "       [0.00000000e+000, 4.02912891e-056, 1.00000000e+000,\n",
              "        5.12764074e-031, 5.18334129e-011],\n",
              "       [9.99976996e-001, 2.63730381e-026, 0.00000000e+000,\n",
              "        8.41264457e-020, 2.30040219e-005],\n",
              "       [0.00000000e+000, 4.91729748e-009, 5.24604856e-156,\n",
              "        1.77494339e-016, 9.99999995e-001],\n",
              "       [0.00000000e+000, 9.88646932e-001, 0.00000000e+000,\n",
              "        9.93748920e-003, 1.41557895e-003],\n",
              "       [0.00000000e+000, 9.99145078e-001, 0.00000000e+000,\n",
              "        9.34751486e-005, 7.61447266e-004]])"
            ]
          },
          "metadata": {
            "tags": []
          },
          "execution_count": 172
        }
      ]
    },
    {
      "cell_type": "code",
      "metadata": {
        "id": "JASKNJxH64cZ",
        "colab_type": "code",
        "colab": {
          "base_uri": "https://localhost:8080/",
          "height": 104
        },
        "outputId": "f32fb5a4-6c8d-4024-d957-359eb1d6e12a"
      },
      "source": [
        "\n",
        "model_list = list()\n",
        "for i in range(1,6):\n",
        "    print(i)\n",
        "    model = KMeans(df, k = i, verbosity = False)\n",
        "    model_list.append(model)"
      ],
      "execution_count": null,
      "outputs": [
        {
          "output_type": "stream",
          "text": [
            "1\n",
            "2\n",
            "3\n",
            "4\n",
            "5\n"
          ],
          "name": "stdout"
        }
      ]
    },
    {
      "cell_type": "code",
      "metadata": {
        "id": "i7jQ1KaT0rzg",
        "colab_type": "code",
        "colab": {}
      },
      "source": [
        "error_list = list()\n",
        "for i in model_list:\n",
        "    i.Fit()\n",
        "    error = i.error\n",
        "    error_list.append(error)"
      ],
      "execution_count": null,
      "outputs": []
    },
    {
      "cell_type": "code",
      "metadata": {
        "id": "APa9vAwTwf7y",
        "colab_type": "code",
        "colab": {
          "base_uri": "https://localhost:8080/",
          "height": 104
        },
        "outputId": "fc8430e1-f7f5-4eba-d443-73d40515dd0c"
      },
      "source": [
        "    error_list"
      ],
      "execution_count": null,
      "outputs": [
        {
          "output_type": "execute_result",
          "data": {
            "text/plain": [
              "[3.835293925750108,\n",
              " 1.681819029148096,\n",
              " 1.382701033164735,\n",
              " 0.9842847092363377,\n",
              " 0.8405144741655243]"
            ]
          },
          "metadata": {
            "tags": []
          },
          "execution_count": 165
        }
      ]
    },
    {
      "cell_type": "code",
      "metadata": {
        "id": "eS-Kui-GwRNz",
        "colab_type": "code",
        "colab": {
          "base_uri": "https://localhost:8080/",
          "height": 295
        },
        "outputId": "9a0b4fa1-68ee-42ab-ad8b-e28b46e53f62"
      },
      "source": [
        "plt.plot(np.array([1,2,3,4,5], dtype = np.int32), error_list)\n",
        "plt.scatter(np.array([1,2,3,4,5], dtype = np.int32), error_list)\n",
        "plt.title(\"K means Elbow\")\n",
        "plt.xlabel(\"K\")\n",
        "plt.ylabel(\" error\")\n",
        "plt.xticks([1,2,3,4,5])\n",
        "plt.show()"
      ],
      "execution_count": null,
      "outputs": [
        {
          "output_type": "display_data",
          "data": {
            "image/png": "[encoded data removed]",
            "text/plain": [
              "<Figure size 432x288 with 1 Axes>"
            ]
          },
          "metadata": {
            "tags": [],
            "needs_background": "light"
          }
        }
      ]
    },
    {
      "cell_type": "markdown",
      "metadata": {
        "id": "-LVWrz2yZZin",
        "colab_type": "text"
      },
      "source": [
        "Se decidirá utiliza un  𝑘=1  por presentar el último punto antes del Elbow."
      ]
    },
    {
      "cell_type": "code",
      "metadata": {
        "id": "sURy3OflSnAq",
        "colab_type": "code",
        "colab": {}
      },
      "source": [
        "model_K = model_list[2]"
      ],
      "execution_count": null,
      "outputs": []
    },
    {
      "cell_type": "code",
      "metadata": {
        "id": "YGzfMOmdJxwj",
        "colab_type": "code",
        "colab": {
          "base_uri": "https://localhost:8080/",
          "height": 52
        },
        "outputId": "5c68ee3b-c461-42a7-e385-c70fae017e87"
      },
      "source": [
        "model_K.clusters"
      ],
      "execution_count": null,
      "outputs": [
        {
          "output_type": "execute_result",
          "data": {
            "text/plain": [
              "array([1, 0, 1, 0, 0, 1, 1, 0, 1, 1, 1, 1, 1, 1, 1, 0, 1, 1, 1, 1, 0, 2,\n",
              "       1, 1, 2, 0, 1, 1, 1])"
            ]
          },
          "metadata": {
            "tags": []
          },
          "execution_count": 167
        }
      ]
    },
    {
      "cell_type": "code",
      "metadata": {
        "id": "R2v1YiofaqKY",
        "colab_type": "code",
        "colab": {
          "base_uri": "https://localhost:8080/",
          "height": 295
        },
        "outputId": "1839616c-ac24-425d-9833-23a32bc828a1"
      },
      "source": [
        "plt.scatter(df[:,0], df[:,1], c=model_K.clusters)\n",
        "plt.scatter(model_K.centroids[:,0], model_K.centroids[:,1], color = \"red\", s = 100)\n",
        "plt.title(\"K Means con k = 2\")\n",
        "plt.xlabel(\"Edad\")\n",
        "plt.ylabel(\"Estatura\")\n",
        "plt.show()"
      ],
      "execution_count": null,
      "outputs": [
        {
          "output_type": "display_data",
          "data": {
            "image/png": "[encoded data removed]",
            "text/plain": [
              "<Figure size 432x288 with 1 Axes>"
            ]
          },
          "metadata": {
            "tags": [],
            "needs_background": "light"
          }
        }
      ]
    },
    {
      "cell_type": "code",
      "metadata": {
        "id": "keK3KJNtRXRY",
        "colab_type": "code",
        "colab": {
          "base_uri": "https://localhost:8080/",
          "height": 87
        },
        "outputId": "ea54be63-aa5a-4580-a8a5-a284f51d4e09"
      },
      "source": [
        "gmk = GaussianMixture(n_components=1)\n",
        "gmk.fit(df)"
      ],
      "execution_count": null,
      "outputs": [
        {
          "output_type": "execute_result",
          "data": {
            "text/plain": [
              "GaussianMixture(covariance_type='full', init_params='kmeans', max_iter=100,\n",
              "                means_init=None, n_components=1, n_init=1, precisions_init=None,\n",
              "                random_state=None, reg_covar=1e-06, tol=0.001, verbose=0,\n",
              "                verbose_interval=10, warm_start=False, weights_init=None)"
            ]
          },
          "metadata": {
            "tags": []
          },
          "execution_count": 178
        }
      ]
    },
    {
      "cell_type": "code",
      "metadata": {
        "id": "YudpLRs3MEnM",
        "colab_type": "code",
        "colab": {
          "base_uri": "https://localhost:8080/",
          "height": 295
        },
        "outputId": "2e6c53c7-5fef-47fa-87d1-ac0d62a983d7"
      },
      "source": [
        "plt.scatter(df[:,0], df[:,1], c=gmm.predict(df))\n",
        "plt.title(\"GMM con componentes = 1\")\n",
        "plt.xlabel(\"Edad\")\n",
        "plt.ylabel(\"Estatura\")\n",
        "plt.show()"
      ],
      "execution_count": null,
      "outputs": [
        {
          "output_type": "display_data",
          "data": {
            "image/png": "[encoded data removed]",
            "text/plain": [
              "<Figure size 432x288 with 1 Axes>"
            ]
          },
          "metadata": {
            "tags": [],
            "needs_background": "light"
          }
        }
      ]
    },
    {
      "cell_type": "markdown",
      "metadata": {
        "id": "yhR9ESL8Mjfe",
        "colab_type": "text"
      },
      "source": [
        "**Análisis de clusters**\n",
        "Parecen haber 4 clusters principales en este dataset, y  dependen principalmente de la edad. Parece haber agrupaciones principalmente de personas menores de aproximadamente 25 años, de 25 a 29 años, de 32 a 37 años, y los mayores de 37 años."
      ]
    },
    {
      "cell_type": "markdown",
      "metadata": {
        "id": "NddOOM2COw7o",
        "colab_type": "text"
      },
      "source": [
        "**Testing**"
      ]
    },
    {
      "cell_type": "code",
      "metadata": {
        "id": "Ko5SZXU4NKgk",
        "colab_type": "code",
        "colab": {}
      },
      "source": [
        "test = np.array(df1)"
      ],
      "execution_count": null,
      "outputs": []
    },
    {
      "cell_type": "code",
      "metadata": {
        "id": "J1muZOPRPIJw",
        "colab_type": "code",
        "colab": {
          "base_uri": "https://localhost:8080/",
          "height": 35
        },
        "outputId": "06f5b799-fc94-4f94-c558-5c5597024e0e"
      },
      "source": [
        "gm.predict(test)"
      ],
      "execution_count": null,
      "outputs": [
        {
          "output_type": "execute_result",
          "data": {
            "text/plain": [
              "array([4, 4, 4, 4, 4, 4, 4, 4])"
            ]
          },
          "metadata": {
            "tags": []
          },
          "execution_count": 188
        }
      ]
    },
    {
      "cell_type": "code",
      "metadata": {
        "id": "-Ms1anf_PaDZ",
        "colab_type": "code",
        "colab": {
          "base_uri": "https://localhost:8080/",
          "height": 35
        },
        "outputId": "8ddef3e3-818d-4dce-ed9a-fa97d354012f"
      },
      "source": [
        "model_K.Predict(test)"
      ],
      "execution_count": null,
      "outputs": [
        {
          "output_type": "execute_result",
          "data": {
            "text/plain": [
              "array([1, 1, 1, 1, 1, 1, 1, 1])"
            ]
          },
          "metadata": {
            "tags": []
          },
          "execution_count": 192
        }
      ]
    },
    {
      "cell_type": "code",
      "metadata": {
        "id": "SOx4Qja2PufE",
        "colab_type": "code",
        "colab": {}
      },
      "source": [
        "# Switch de columnas\n",
        "test[:, 0], test[:, 1] = test[:, 1], test[:, 0].copy()"
      ],
      "execution_count": null,
      "outputs": []
    },
    {
      "cell_type": "code",
      "metadata": {
        "id": "DYMOIjcxPdfl",
        "colab_type": "code",
        "colab": {
          "base_uri": "https://localhost:8080/",
          "height": 295
        },
        "outputId": "8e3a6ac5-bc44-435d-929b-1f0390705a15"
      },
      "source": [
        "plt.scatter(df[:,0], df[:,1], c=model_K.clusters)\n",
        "plt.scatter(test[:,0], test[:,1], color = \"red\", s = 100)\n",
        "plt.title(\"K Means con k = 4\")\n",
        "plt.xlabel(\"Edad\")\n",
        "plt.ylabel(\"Estatura\")\n",
        "plt.show()"
      ],
      "execution_count": null,
      "outputs": [
        {
          "output_type": "display_data",
          "data": {
            "image/png": "[encoded data removed]",
            "text/plain": [
              "<Figure size 432x288 with 1 Axes>"
            ]
          },
          "metadata": {
            "tags": [],
            "needs_background": "light"
          }
        }
      ]
    },
    {
      "cell_type": "markdown",
      "metadata": {
        "id": "IGsTd7MiQKqx",
        "colab_type": "text"
      },
      "source": [
        "# **Decteccion de Anormalias**"
      ]
    },
    {
      "cell_type": "code",
      "metadata": {
        "id": "wYTBJNPoQKIm",
        "colab_type": "code",
        "colab": {}
      },
      "source": [
        "from scipy.stats import multivariate_normal as mn"
      ],
      "execution_count": null,
      "outputs": []
    },
    {
      "cell_type": "code",
      "metadata": {
        "id": "MuOxQ6x3RcP7",
        "colab_type": "code",
        "colab": {}
      },
      "source": [
        "x_anomalias = df2.values"
      ],
      "execution_count": null,
      "outputs": []
    },
    {
      "cell_type": "code",
      "metadata": {
        "id": "LMaaQdX4SQ9J",
        "colab_type": "code",
        "colab": {}
      },
      "source": [
        "# Switch de columnas\n",
        "df[:, 0], df[:, 1] = df[:, 1], df[:, 0].copy()"
      ],
      "execution_count": null,
      "outputs": []
    },
    {
      "cell_type": "code",
      "metadata": {
        "id": "yALEWm6vXAhR",
        "colab_type": "code",
        "colab": {
          "base_uri": "https://localhost:8080/",
          "height": 87
        },
        "outputId": "57499926-9dec-4b07-8ad2-0e0bf714e152"
      },
      "source": [
        "x_anomalias"
      ],
      "execution_count": null,
      "outputs": [
        {
          "output_type": "execute_result",
          "data": {
            "text/plain": [
              "array([[2.500e-01, 2.400e+00],\n",
              "       [1.751e+02, 2.500e+00],\n",
              "       [1.500e-01, 2.500e+02],\n",
              "       [1.500e+02, 1.401e+01]])"
            ]
          },
          "metadata": {
            "tags": []
          },
          "execution_count": 428
        }
      ]
    },
    {
      "cell_type": "code",
      "metadata": {
        "id": "z0Ht2wkbR52-",
        "colab_type": "code",
        "colab": {}
      },
      "source": [
        "\n",
        "y_anomalias = np.array ([[1],\n",
        "                         [1],\n",
        "                         [1],\n",
        "                         [1],])"
      ],
      "execution_count": null,
      "outputs": []
    },
    {
      "cell_type": "markdown",
      "metadata": {
        "id": "4UPTulttR7rK",
        "colab_type": "text"
      },
      "source": [
        "# **Calculando la Media y la Varianza**"
      ]
    },
    {
      "cell_type": "code",
      "metadata": {
        "id": "npI6DG80SAhJ",
        "colab_type": "code",
        "colab": {}
      },
      "source": [
        "medias = np.mean(df, axis=1)"
      ],
      "execution_count": null,
      "outputs": []
    },
    {
      "cell_type": "code",
      "metadata": {
        "id": "MOWzz_PRi4Ly",
        "colab_type": "code",
        "colab": {
          "base_uri": "https://localhost:8080/",
          "height": 87
        },
        "outputId": "13f512c1-6d6c-4f5f-e323-63ecec1af7ec"
      },
      "source": [
        "medias"
      ],
      "execution_count": null,
      "outputs": [
        {
          "output_type": "execute_result",
          "data": {
            "text/plain": [
              "array([13.885, 16.37 , 12.86 , 17.89 , 16.825, 15.33 , 14.32 , 17.925,\n",
              "       13.925, 11.375, 12.365, 13.395, 12.91 , 13.325, 13.395, 17.86 ,\n",
              "       13.85 , 13.285, 13.83 , 14.375, 16.885, 20.9  , 13.425, 12.91 ,\n",
              "       19.875, 17.865, 15.275, 14.88 , 14.34 ])"
            ]
          },
          "metadata": {
            "tags": []
          },
          "execution_count": 382
        }
      ]
    },
    {
      "cell_type": "code",
      "metadata": {
        "id": "lJXTQZzpS7pX",
        "colab_type": "code",
        "colab": {}
      },
      "source": [
        "varianza = np.var(df, axis=0)"
      ],
      "execution_count": null,
      "outputs": []
    },
    {
      "cell_type": "code",
      "metadata": {
        "id": "Nvkg3y_Hi-Ai",
        "colab_type": "code",
        "colab": {
          "base_uri": "https://localhost:8080/",
          "height": 35
        },
        "outputId": "94912d1c-b021-4c50-8d43-379ae25c810b"
      },
      "source": [
        "varianza "
      ],
      "execution_count": null,
      "outputs": [
        {
          "output_type": "execute_result",
          "data": {
            "text/plain": [
              "array([5.90059453e-03, 2.11795482e+01])"
            ]
          },
          "metadata": {
            "tags": []
          },
          "execution_count": 456
        }
      ]
    },
    {
      "cell_type": "code",
      "metadata": {
        "id": "ZQxmiIRgU2zU",
        "colab_type": "code",
        "colab": {}
      },
      "source": [
        "from sklearn.metrics import f1_score"
      ],
      "execution_count": null,
      "outputs": []
    },
    {
      "cell_type": "code",
      "metadata": {
        "id": "zCCth1ncb2MV",
        "colab_type": "code",
        "colab": {}
      },
      "source": [
        " rv = mn(mean = medias, cov = varianza)\n"
      ],
      "execution_count": null,
      "outputs": []
    },
    {
      "cell_type": "code",
      "metadata": {
        "id": "209untZ6ctd2",
        "colab_type": "code",
        "colab": {
          "base_uri": "https://localhost:8080/",
          "height": 35
        },
        "outputId": "76977e46-fff1-403d-8cde-9738ae1c1ccc"
      },
      "source": [
        "p < 1"
      ],
      "execution_count": null,
      "outputs": [
        {
          "output_type": "execute_result",
          "data": {
            "text/plain": [
              "array([ True,  True, False,  True])"
            ]
          },
          "metadata": {
            "tags": []
          },
          "execution_count": 430
        }
      ]
    },
    {
      "cell_type": "code",
      "metadata": {
        "id": "ydjH32GhVJIm",
        "colab_type": "code",
        "colab": {}
      },
      "source": [
        "def clasificacion(x,media,varianza,epsilon,y):\n",
        "    \n",
        "    prob  = (mn.pdf(x[:,0],medias[0],varianza[0]))**(mn.pdf(x[:,1],medias[1],varianza[1]))\n",
        "                         \n",
        "    ## evaluando la condicional \n",
        "    condicional = (prob < epsilon)\n",
        "    \n",
        "   \n",
        "    F1_Validation = f1_score(y, condicional)\n",
        "    \n",
        "  \n",
        "    cadena_config = \"Clasificaciòn con\"\"_Epsilon=\"+str(epsilon)\n",
        "    \n",
        "    print(\"f1score\",F1_Validation*100, \"%\")\n",
        "    print(\"Anomalo = 1:\",condicional*1)\n",
        "    \n",
        "    return cadena_config, F1_Validation"
      ],
      "execution_count": null,
      "outputs": []
    },
    {
      "cell_type": "markdown",
      "metadata": {
        "id": "03Pxr6JYqEJ6",
        "colab_type": "text"
      },
      "source": [
        "Se puede comparar que cuando se tienen anomalias estas tienen una pdf muy baja por la tanto se quiere establecer un parametro para discriminar estas anomalias"
      ]
    },
    {
      "cell_type": "code",
      "metadata": {
        "id": "G-qt3mFXWHrn",
        "colab_type": "code",
        "colab": {
          "base_uri": "https://localhost:8080/",
          "height": 69
        },
        "outputId": "68dfa459-bdcd-4f87-93dc-9c5eb0d94a76"
      },
      "source": [
        "\n",
        "clasificacion(x_anomalias,medias,varianza,0.10,y_anomalias)"
      ],
      "execution_count": null,
      "outputs": [
        {
          "output_type": "stream",
          "text": [
            "f1score 85.71428571428571 %\n",
            "Anomalo = 1: [1 1 0 1]\n"
          ],
          "name": "stdout"
        },
        {
          "output_type": "execute_result",
          "data": {
            "text/plain": [
              "('Clasificaciòn con_Epsilon=0.1', 0.8571428571428571)"
            ]
          },
          "metadata": {
            "tags": []
          },
          "execution_count": 462
        }
      ]
    },
    {
      "cell_type": "code",
      "metadata": {
        "id": "hDC2tFQLgOcn",
        "colab_type": "code",
        "colab": {
          "base_uri": "https://localhost:8080/",
          "height": 69
        },
        "outputId": "c0897e95-083e-4bb8-e70d-f400d9bdadb1"
      },
      "source": [
        "clasificacion(x_anomalias,medias,varianza,0.001,y_anomalias)"
      ],
      "execution_count": null,
      "outputs": [
        {
          "output_type": "stream",
          "text": [
            "f1score 85.71428571428571 %\n",
            "Anomalo = 1: [1 1 0 1]\n"
          ],
          "name": "stdout"
        },
        {
          "output_type": "execute_result",
          "data": {
            "text/plain": [
              "('Clasificaciòn con_Epsilon=0.001', 0.8571428571428571)"
            ]
          },
          "metadata": {
            "tags": []
          },
          "execution_count": 463
        }
      ]
    },
    {
      "cell_type": "code",
      "metadata": {
        "id": "VkKgJS3Qe7TU",
        "colab_type": "code",
        "colab": {
          "base_uri": "https://localhost:8080/",
          "height": 69
        },
        "outputId": "bdd9a343-16c3-4658-8c84-9be8dd0c7741"
      },
      "source": [
        "clasificacion(x_anomalias,medias,varianza,0.025,y_anomalias)"
      ],
      "execution_count": null,
      "outputs": [
        {
          "output_type": "stream",
          "text": [
            "f1score 85.71428571428571 %\n",
            "Anomalo = 1: [1 1 0 1]\n"
          ],
          "name": "stdout"
        },
        {
          "output_type": "execute_result",
          "data": {
            "text/plain": [
              "('Clasificaciòn con_Epsilon=0.025', 0.8571428571428571)"
            ]
          },
          "metadata": {
            "tags": []
          },
          "execution_count": 464
        }
      ]
    },
    {
      "cell_type": "code",
      "metadata": {
        "id": "C_X3UHRRfexR",
        "colab_type": "code",
        "colab": {
          "base_uri": "https://localhost:8080/",
          "height": 69
        },
        "outputId": "e807a08f-062b-48f3-de43-58d776e3fdf0"
      },
      "source": [
        "clasificacion(x_anomalias,medias,varianza,0.000000000000000000000000000000000000000000001,y_anomalias)"
      ],
      "execution_count": null,
      "outputs": [
        {
          "output_type": "stream",
          "text": [
            "f1score 85.71428571428571 %\n",
            "Anomalo = 1: [1 1 0 1]\n"
          ],
          "name": "stdout"
        },
        {
          "output_type": "execute_result",
          "data": {
            "text/plain": [
              "('Clasificaciòn con_Epsilon=1e-45', 0.8571428571428571)"
            ]
          },
          "metadata": {
            "tags": []
          },
          "execution_count": 465
        }
      ]
    },
    {
      "cell_type": "code",
      "metadata": {
        "id": "Wqr6AQKgmBaT",
        "colab_type": "code",
        "colab": {
          "base_uri": "https://localhost:8080/",
          "height": 35
        },
        "outputId": "1990a293-250d-49ba-be07-7bcba0da5c07"
      },
      "source": [
        "mn.pdf(x_anomalias[:,0],medias[0],varianza[0])"
      ],
      "execution_count": null,
      "outputs": [
        {
          "output_type": "execute_result",
          "data": {
            "text/plain": [
              "array([0., 0., 0., 0.])"
            ]
          },
          "metadata": {
            "tags": []
          },
          "execution_count": 466
        }
      ]
    },
    {
      "cell_type": "code",
      "metadata": {
        "id": "IyUzh-jtnC9F",
        "colab_type": "code",
        "colab": {
          "base_uri": "https://localhost:8080/",
          "height": 35
        },
        "outputId": "b4571646-ccff-4d88-da72-841f6dbd81f9"
      },
      "source": [
        "mn.pdf(x_anomalias[:,1],medias[1],varianza[1])"
      ],
      "execution_count": null,
      "outputs": [
        {
          "output_type": "execute_result",
          "data": {
            "text/plain": [
              "array([0.00086502, 0.00092379, 0.        , 0.07600609])"
            ]
          },
          "metadata": {
            "tags": []
          },
          "execution_count": 467
        }
      ]
    },
    {
      "cell_type": "markdown",
      "metadata": {
        "id": "JObIL_iCqZv_",
        "colab_type": "text"
      },
      "source": [
        "# Decteccion de Anormalia Funcion"
      ]
    },
    {
      "cell_type": "code",
      "metadata": {
        "id": "tEmj9WB2qR28",
        "colab_type": "code",
        "colab": {}
      },
      "source": [
        "def anomalia(x1,x2):\n",
        "    ## probablididad conjunta\n",
        "    prob  = (mn.pdf(x1,medias[0],varianza[0]))**(mn.pdf(x2,medias[1],varianza[1]))\n",
        "                                               \n",
        "    ## evaluando la condicional para epsilon\n",
        "    if prob < 0.000000000000000000000000000000000000000000001:\n",
        "        print(\"Anomalo\")\n",
        "    elif prob >= 0.000000000000000000000000000000000000000000001:\n",
        "        print(\"No Anomalo\")"
      ],
      "execution_count": null,
      "outputs": []
    },
    {
      "cell_type": "code",
      "metadata": {
        "id": "miiL7z7Gqjlu",
        "colab_type": "code",
        "colab": {
          "base_uri": "https://localhost:8080/",
          "height": 35
        },
        "outputId": "d1b9c1b5-aac8-4185-af87-ecb2f6badc91"
      },
      "source": [
        "anomalia(1,34)"
      ],
      "execution_count": null,
      "outputs": [
        {
          "output_type": "stream",
          "text": [
            "Anomalo\n"
          ],
          "name": "stdout"
        }
      ]
    },
    {
      "cell_type": "code",
      "metadata": {
        "id": "RiHsBnqZqvsW",
        "colab_type": "code",
        "colab": {
          "base_uri": "https://localhost:8080/",
          "height": 35
        },
        "outputId": "d410fe5c-730b-4f28-9821-7d2c31f8a063"
      },
      "source": [
        "anomalia(12,25)"
      ],
      "execution_count": null,
      "outputs": [
        {
          "output_type": "stream",
          "text": [
            "No Anomalo\n"
          ],
          "name": "stdout"
        }
      ]
    }
  ]
}