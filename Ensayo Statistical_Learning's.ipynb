{
  "nbformat": 4,
  "nbformat_minor": 0,
  "metadata": {
    "colab": {
      "name": "Statistical Learning's",
      "provenance": [],
      "authorship_tag": "ABX9TyOYGzvJn4pzlbPkjwzeWCth",
      "include_colab_link": true
    },
    "kernelspec": {
      "name": "python3",
      "display_name": "Python 3"
    }
  },
  "cells": [
    {
      "cell_type": "markdown",
      "metadata": {
        "id": "view-in-github",
        "colab_type": "text"
      },
      "source": [
        "<a href=\"https://colab.research.google.com/github/vbaezfortunato/Python_class/blob/master/Ensayo%20Statistical_Learning's.ipynb\" target=\"_parent\"><img src=\"https://colab.research.google.com/assets/colab-badge.svg\" alt=\"Open In Colab\"/></a>"
      ]
    },
    {
      "cell_type": "markdown",
      "metadata": {
        "id": "7AXicu9tgzMk",
        "colab_type": "text"
      },
      "source": [
        "# Tensorflow Playground.\n",
        "\n",
        "  Muestra un Neural Network con la cual podemos juegas para verificar sus funcionamiento; en la parte debajo del neural network playground se explicar que es una neural network, como podemos reutilizarlo y que significa cada color \"el color azul representa valores positivos y el color naranja los valores negativos\" y la persona que lo realizo.\n",
        "\n",
        "# Vehículo autónomo Drive.ai\n",
        "\n",
        "Este video se muestra las diferentes manera que AI utilizar para manejar dependiendo la situacion o la via en la que esta manejando. para mi la parte mas interesante fue en el stop de cuatro parada como IA manejo la situacion cuando el carro cut in delante de el.\n",
        "\n",
        "# Vehículo Tesla predice accidente\n",
        "\n",
        "En el video se ve como un carro de Tesla detenta un accidente  10 segundos o menos.\n",
        "\n",
        "\n",
        "# Wavenet: A Generative Model For Raw Audio\n",
        "\n",
        "Es  trabajo explora técnicas de generación de audio en bruto, inspiradas en los recientes avances en modelos autoregresivos neuronales que modelan distribuciones complejas como imágenes. Modelado de probabilidades conjuntas sobre píxeles o palabras usando las arquitecturas neuronales como productos de distribuciones condicionales producen la generación más moderna.\n",
        "\n",
        "Explica los modelo de softmax,modelo de convulations y el tema principal es wave net. un modelo generativo profundo de datos de audio que opera directamente en el nivel de onda. Las redes de onda son autoregresivas y combinan filtros causales con convoluciones dilatadas para permitir que sus campos receptivos crezcan exponencialmente con profundidad, lo cual es importante modelar las dependencias temporales de largo alcance en señales de audio. Hemos mostrado cómo Wavenets puede estar condicionada a otras entradas en una forma global (p.ej. identidad de altavoz) o local (características lingüísticas).\n",
        "\n",
        "# Healed Through A.I\n",
        "\n",
        "el video muestra como A.I ayuda a personal con problema de salud. el video explica como A.I ayudo a Tim Shaw jugador de NFL que sufrio una enfermada llama A.L.S mediante euphania project  by google que ayuda  a persona mediante speech recognition a devolverle la voz.\n",
        "\n",
        "\n"
      ]
    }
  ]
}