{
  "nbformat": 4,
  "nbformat_minor": 0,
  "metadata": {
    "kernelspec": {
      "display_name": "Python 3",
      "language": "python",
      "name": "python3"
    },
    "language_info": {
      "codemirror_mode": {
        "name": "ipython",
        "version": 3
      },
      "file_extension": ".py",
      "mimetype": "text/x-python",
      "name": "python",
      "nbconvert_exporter": "python",
      "pygments_lexer": "ipython3",
      "version": "3.7.6"
    },
    "colab": {
      "name": "Hoja de trabajo #4.ipynb",
      "provenance": [],
      "collapsed_sections": [],
      "include_colab_link": true
    }
  },
  "cells": [
    {
      "cell_type": "markdown",
      "metadata": {
        "id": "view-in-github",
        "colab_type": "text"
      },
      "source": [
        "<a href=\"https://colab.research.google.com/github/vbaezfortunato/Python_class/blob/master/Hoja_de_trabajo_4.ipynb\" target=\"_parent\"><img src=\"https://colab.research.google.com/assets/colab-badge.svg\" alt=\"Open In Colab\"/></a>"
      ]
    },
    {
      "cell_type": "markdown",
      "metadata": {
        "id": "p6oH_WWYn71d",
        "colab_type": "text"
      },
      "source": [
        "## Hoja de Trabajo #4"
      ]
    },
    {
      "cell_type": "markdown",
      "metadata": {
        "id": "V4J_VARrn71g",
        "colab_type": "text"
      },
      "source": [
        "## Problema 1\n",
        "Para este problema debera hacer analisis de sentimientos para un conjunto de reviews de Yelp, debera mostrar las siguientes metricas sobre el conjunto de reviews:\n",
        "\n",
        "1. Mostrar el porcentaje de comentarios positivos y comentarios negativos en una misma grafica\n",
        "2. Mostrar una grafica tipo boxplot para la distribucion de los resultados de la polaridad y lasubjetividad\n",
        "3. Debera realizar un analisis estadistico con comentarios sobre los resultados de sus hallazgos a partir de las graficas anteriores."
      ]
    },
    {
      "cell_type": "code",
      "metadata": {
        "id": "x6LD0FMHn71i",
        "colab_type": "code",
        "colab": {}
      },
      "source": [
        "import requests\n",
        "import re\n",
        "import pandas as pd\n",
        "import html as ht\n",
        "import matplotlib.pyplot as plt\n",
        "import urllib.request as urllib2"
      ],
      "execution_count": 1,
      "outputs": []
    },
    {
      "cell_type": "code",
      "metadata": {
        "id": "uBdHAMSmn71u",
        "colab_type": "code",
        "colab": {}
      },
      "source": [
        "def Reviews(url):\n",
        "    initText = '<span class=\"lemon--span__373c0__3997G raw__373c0__3rKqk\" lang=\"en\">' \n",
        "    endText = '</span>'\n",
        "    response = requests.get(url)\n",
        "    reviews = []\n",
        "    reviews_temp = re.findall(initText + '(.+?)' + endText, response.text)\n",
        "    page = 20\n",
        "    while response.status_code == 200 and len(reviews_temp) > 0:\n",
        "        reviews_temp = re.findall(initText + '(.+?)' + endText, response.text)\n",
        "        for i in range(len(reviews_temp)):\n",
        "            reviews.append(reviews_temp[i])\n",
        "        response = requests.get(url + '?start=' + str(page))\n",
        "        page += 20\n",
        "        print(page)\n",
        "    return reviews"
      ],
      "execution_count": 2,
      "outputs": []
    },
    {
      "cell_type": "code",
      "metadata": {
        "id": "b2qk9jpJn714",
        "colab_type": "code",
        "colab": {
          "base_uri": "https://localhost:8080/",
          "height": 1000
        },
        "outputId": "4fcc4447-5501-4f9f-c26d-8b4453ce7fe8"
      },
      "source": [
        "\n",
        "reviewspatron = Reviews(\"https://www.yelp.com/biz/el-patron-restaurante-mexicano-orlando\")"
      ],
      "execution_count": 3,
      "outputs": [
        {
          "output_type": "stream",
          "text": [
            "40\n",
            "60\n",
            "80\n",
            "100\n",
            "120\n",
            "140\n",
            "160\n",
            "180\n",
            "200\n",
            "220\n",
            "240\n",
            "260\n",
            "280\n",
            "300\n",
            "320\n",
            "340\n",
            "360\n",
            "380\n",
            "400\n",
            "420\n",
            "440\n",
            "460\n",
            "480\n",
            "500\n",
            "520\n",
            "540\n",
            "560\n",
            "580\n",
            "600\n",
            "620\n",
            "640\n",
            "660\n",
            "680\n",
            "700\n",
            "720\n",
            "740\n",
            "760\n",
            "780\n",
            "800\n",
            "820\n",
            "840\n",
            "860\n",
            "880\n",
            "900\n",
            "920\n",
            "940\n",
            "960\n",
            "980\n",
            "1000\n",
            "1020\n",
            "1040\n",
            "1060\n",
            "1080\n",
            "1100\n",
            "1120\n",
            "1140\n",
            "1160\n",
            "1180\n",
            "1200\n",
            "1220\n",
            "1240\n",
            "1260\n",
            "1280\n",
            "1300\n"
          ],
          "name": "stdout"
        }
      ]
    },
    {
      "cell_type": "code",
      "metadata": {
        "id": "bA2r0JQBn72A",
        "colab_type": "code",
        "colab": {}
      },
      "source": [
        "def removerFormatoHTML(reviews):\n",
        "    for index, review in enumerate(reviews):\n",
        "        review = ht.unescape(review)\n",
        "        reviews[index] = review\n",
        "    return reviews"
      ],
      "execution_count": 4,
      "outputs": []
    },
    {
      "cell_type": "code",
      "metadata": {
        "id": "8_vrQOLSn72M",
        "colab_type": "code",
        "colab": {
          "base_uri": "https://localhost:8080/",
          "height": 70
        },
        "outputId": "b1e6b13a-7a5a-454e-e94c-304e79ddf4a6"
      },
      "source": [
        "reviewspatron[120]"
      ],
      "execution_count": 5,
      "outputs": [
        {
          "output_type": "execute_result",
          "data": {
            "application/vnd.google.colaboratory.intrinsic+json": {
              "type": "string"
            },
            "text/plain": [
              "'Our family went for lunch buffet. 9.99 for adults, 6.99 for kids weekdays 11:30-2:30. Plenty of choices of meet and shells. My husband loved the queso. Steak fajitas are perfect. We used our Orlando kids eat free card with no problems. We would recommend. <br><br>3rd year coming here. Prices went up but still worth it!'"
            ]
          },
          "metadata": {
            "tags": []
          },
          "execution_count": 5
        }
      ]
    },
    {
      "cell_type": "code",
      "metadata": {
        "id": "FdKae0w9n72S",
        "colab_type": "code",
        "colab": {}
      },
      "source": [
        "\n",
        "reviewspatron = removerFormatoHTML(reviewspatron)"
      ],
      "execution_count": 6,
      "outputs": []
    },
    {
      "cell_type": "code",
      "metadata": {
        "id": "cswhXPD7n72Z",
        "colab_type": "code",
        "colab": {
          "base_uri": "https://localhost:8080/",
          "height": 202
        },
        "outputId": "e96ca148-4a34-48cc-92f7-95bf5a5f2e00"
      },
      "source": [
        "Total = pd.DataFrame(reviewspatron,columns=['reviews'])\n",
        "Total.head()"
      ],
      "execution_count": 7,
      "outputs": [
        {
          "output_type": "execute_result",
          "data": {
            "text/html": [
              "<div>\n",
              "<style scoped>\n",
              "    .dataframe tbody tr th:only-of-type {\n",
              "        vertical-align: middle;\n",
              "    }\n",
              "\n",
              "    .dataframe tbody tr th {\n",
              "        vertical-align: top;\n",
              "    }\n",
              "\n",
              "    .dataframe thead th {\n",
              "        text-align: right;\n",
              "    }\n",
              "</style>\n",
              "<table border=\"1\" class=\"dataframe\">\n",
              "  <thead>\n",
              "    <tr style=\"text-align: right;\">\n",
              "      <th></th>\n",
              "      <th>reviews</th>\n",
              "    </tr>\n",
              "  </thead>\n",
              "  <tbody>\n",
              "    <tr>\n",
              "      <th>0</th>\n",
              "      <td>We were trying to find something that we could...</td>\n",
              "    </tr>\n",
              "    <tr>\n",
              "      <th>1</th>\n",
              "      <td>El Patron is our favorite restaurant in the Or...</td>\n",
              "    </tr>\n",
              "    <tr>\n",
              "      <th>2</th>\n",
              "      <td>Ok. So a lot of the reviews here are for the a...</td>\n",
              "    </tr>\n",
              "    <tr>\n",
              "      <th>3</th>\n",
              "      <td>Fresh made corn and flour tortillas. Crazy goo...</td>\n",
              "    </tr>\n",
              "    <tr>\n",
              "      <th>4</th>\n",
              "      <td>I was traveling for work and staying in the La...</td>\n",
              "    </tr>\n",
              "  </tbody>\n",
              "</table>\n",
              "</div>"
            ],
            "text/plain": [
              "                                             reviews\n",
              "0  We were trying to find something that we could...\n",
              "1  El Patron is our favorite restaurant in the Or...\n",
              "2  Ok. So a lot of the reviews here are for the a...\n",
              "3  Fresh made corn and flour tortillas. Crazy goo...\n",
              "4  I was traveling for work and staying in the La..."
            ]
          },
          "metadata": {
            "tags": []
          },
          "execution_count": 7
        }
      ]
    },
    {
      "cell_type": "code",
      "metadata": {
        "id": "vAoneAaun72k",
        "colab_type": "code",
        "colab": {}
      },
      "source": [
        "def cleanReviews(listReviews):\n",
        "    listaReviews = listReviews.str.replace('<br>','')\n",
        "    listaReviews = listReviews.str.replace('<br><br>','')\n",
        "    listaReviews = listReviews.str.replace('&#39;',\"'\")\n",
        "    listaReviews = listReviews.str.replace(u'\\xa0',\" \")\n",
        "    listReviews = listReviews.str.lower()\n",
        "    listReviews = listReviews.str.rstrip('\\n')\n",
        "    return listReviews"
      ],
      "execution_count": 8,
      "outputs": []
    },
    {
      "cell_type": "code",
      "metadata": {
        "id": "cSM9QBDOn72q",
        "colab_type": "code",
        "colab": {
          "base_uri": "https://localhost:8080/",
          "height": 202
        },
        "outputId": "baa5508f-fe29-43c6-ecb7-3f913fdc733a"
      },
      "source": [
        "Total['reviews']=cleanReviews(Total['reviews'])\n",
        "Total.head()"
      ],
      "execution_count": 9,
      "outputs": [
        {
          "output_type": "execute_result",
          "data": {
            "text/html": [
              "<div>\n",
              "<style scoped>\n",
              "    .dataframe tbody tr th:only-of-type {\n",
              "        vertical-align: middle;\n",
              "    }\n",
              "\n",
              "    .dataframe tbody tr th {\n",
              "        vertical-align: top;\n",
              "    }\n",
              "\n",
              "    .dataframe thead th {\n",
              "        text-align: right;\n",
              "    }\n",
              "</style>\n",
              "<table border=\"1\" class=\"dataframe\">\n",
              "  <thead>\n",
              "    <tr style=\"text-align: right;\">\n",
              "      <th></th>\n",
              "      <th>reviews</th>\n",
              "    </tr>\n",
              "  </thead>\n",
              "  <tbody>\n",
              "    <tr>\n",
              "      <th>0</th>\n",
              "      <td>we were trying to find something that we could...</td>\n",
              "    </tr>\n",
              "    <tr>\n",
              "      <th>1</th>\n",
              "      <td>el patron is our favorite restaurant in the or...</td>\n",
              "    </tr>\n",
              "    <tr>\n",
              "      <th>2</th>\n",
              "      <td>ok. so a lot of the reviews here are for the a...</td>\n",
              "    </tr>\n",
              "    <tr>\n",
              "      <th>3</th>\n",
              "      <td>fresh made corn and flour tortillas. crazy goo...</td>\n",
              "    </tr>\n",
              "    <tr>\n",
              "      <th>4</th>\n",
              "      <td>i was traveling for work and staying in the la...</td>\n",
              "    </tr>\n",
              "  </tbody>\n",
              "</table>\n",
              "</div>"
            ],
            "text/plain": [
              "                                             reviews\n",
              "0  we were trying to find something that we could...\n",
              "1  el patron is our favorite restaurant in the or...\n",
              "2  ok. so a lot of the reviews here are for the a...\n",
              "3  fresh made corn and flour tortillas. crazy goo...\n",
              "4  i was traveling for work and staying in the la..."
            ]
          },
          "metadata": {
            "tags": []
          },
          "execution_count": 9
        }
      ]
    },
    {
      "cell_type": "code",
      "metadata": {
        "id": "urZBaTsWn72x",
        "colab_type": "code",
        "colab": {
          "base_uri": "https://localhost:8080/",
          "height": 70
        },
        "outputId": "ef58d622-3793-45af-9fc5-13a7a7f3f180"
      },
      "source": [
        "Total['reviews'][120]"
      ],
      "execution_count": 10,
      "outputs": [
        {
          "output_type": "execute_result",
          "data": {
            "application/vnd.google.colaboratory.intrinsic+json": {
              "type": "string"
            },
            "text/plain": [
              "'our family went for lunch buffet. 9.99 for adults, 6.99 for kids weekdays 11:30-2:30. plenty of choices of meet and shells. my husband loved the queso. steak fajitas are perfect. we used our orlando kids eat free card with no problems. we would recommend. <br><br>3rd year coming here. prices went up but still worth it!'"
            ]
          },
          "metadata": {
            "tags": []
          },
          "execution_count": 10
        }
      ]
    },
    {
      "cell_type": "markdown",
      "metadata": {
        "id": "6WzprKWHn724",
        "colab_type": "text"
      },
      "source": [
        "## Comenzando el analisis de sentimiento"
      ]
    },
    {
      "cell_type": "code",
      "metadata": {
        "id": "nV_du8gdn725",
        "colab_type": "code",
        "colab": {}
      },
      "source": [
        "from textblob import TextBlob"
      ],
      "execution_count": 11,
      "outputs": []
    },
    {
      "cell_type": "code",
      "metadata": {
        "id": "DjhiIUU1n73B",
        "colab_type": "code",
        "colab": {}
      },
      "source": [
        "def Sentimientos(allReviews, translate = False):\n",
        "    polarities = []\n",
        "    subjs = []\n",
        "    label = []\n",
        "    opinion = []\n",
        "\n",
        "    for review in allReviews:\n",
        "        sentimiento = TextBlob(review)\n",
        "        if translate:\n",
        "           sentimiento = sentimiento.translate(from_lang='en', to='es') \n",
        "        polarities.append(sentimiento.polarity)\n",
        "        subjs.append(sentimiento.subjectivity)\n",
        "        \n",
        "        #Identificacion tipo de review segun polaridad\n",
        "        if (sentimiento.polarity > 0):\n",
        "            label.append('positivo')\n",
        "        elif (sentimiento.polarity < 0):\n",
        "            label.append('negativo')\n",
        "        else:\n",
        "            label.append('neutro')\n",
        "        \n",
        "        #Identificacion tipo de review segun subjetividad\n",
        "        if (sentimiento.subjectivity > 0.5):\n",
        "            opinion.append('subjetivo')\n",
        "        elif (sentimiento.subjectivity <= 0.5):\n",
        "            opinion.append('objetivo')\n",
        "        \n",
        "    dataOut = pd.DataFrame({'polaridad':polarities, 'subje':subjs, 'etiqueta':label, 'tipo opinion':opinion})\n",
        "    dataOut.head()\n",
        "\n",
        "    return dataOut"
      ],
      "execution_count": 44,
      "outputs": []
    },
    {
      "cell_type": "code",
      "metadata": {
        "id": "zPnEBzGKn73H",
        "colab_type": "code",
        "colab": {
          "base_uri": "https://localhost:8080/",
          "height": 202
        },
        "outputId": "a222b947-20b2-4dec-bb07-135b66b19c75"
      },
      "source": [
        "Analisis = Sentimientos(Total['reviews'])\n",
        "Analisis.head()"
      ],
      "execution_count": 47,
      "outputs": [
        {
          "output_type": "execute_result",
          "data": {
            "text/html": [
              "<div>\n",
              "<style scoped>\n",
              "    .dataframe tbody tr th:only-of-type {\n",
              "        vertical-align: middle;\n",
              "    }\n",
              "\n",
              "    .dataframe tbody tr th {\n",
              "        vertical-align: top;\n",
              "    }\n",
              "\n",
              "    .dataframe thead th {\n",
              "        text-align: right;\n",
              "    }\n",
              "</style>\n",
              "<table border=\"1\" class=\"dataframe\">\n",
              "  <thead>\n",
              "    <tr style=\"text-align: right;\">\n",
              "      <th></th>\n",
              "      <th>polaridad</th>\n",
              "      <th>subje</th>\n",
              "      <th>etiqueta</th>\n",
              "      <th>tipo opinion</th>\n",
              "    </tr>\n",
              "  </thead>\n",
              "  <tbody>\n",
              "    <tr>\n",
              "      <th>0</th>\n",
              "      <td>0.322879</td>\n",
              "      <td>0.575238</td>\n",
              "      <td>positivo</td>\n",
              "      <td>subjetivo</td>\n",
              "    </tr>\n",
              "    <tr>\n",
              "      <th>1</th>\n",
              "      <td>0.416141</td>\n",
              "      <td>0.497222</td>\n",
              "      <td>positivo</td>\n",
              "      <td>objetivo</td>\n",
              "    </tr>\n",
              "    <tr>\n",
              "      <th>2</th>\n",
              "      <td>0.211522</td>\n",
              "      <td>0.521429</td>\n",
              "      <td>positivo</td>\n",
              "      <td>subjetivo</td>\n",
              "    </tr>\n",
              "    <tr>\n",
              "      <th>3</th>\n",
              "      <td>0.260417</td>\n",
              "      <td>0.457639</td>\n",
              "      <td>positivo</td>\n",
              "      <td>objetivo</td>\n",
              "    </tr>\n",
              "    <tr>\n",
              "      <th>4</th>\n",
              "      <td>0.175000</td>\n",
              "      <td>0.414153</td>\n",
              "      <td>positivo</td>\n",
              "      <td>objetivo</td>\n",
              "    </tr>\n",
              "  </tbody>\n",
              "</table>\n",
              "</div>"
            ],
            "text/plain": [
              "   polaridad     subje  etiqueta tipo opinion\n",
              "0   0.322879  0.575238  positivo    subjetivo\n",
              "1   0.416141  0.497222  positivo     objetivo\n",
              "2   0.211522  0.521429  positivo    subjetivo\n",
              "3   0.260417  0.457639  positivo     objetivo\n",
              "4   0.175000  0.414153  positivo     objetivo"
            ]
          },
          "metadata": {
            "tags": []
          },
          "execution_count": 47
        }
      ]
    },
    {
      "cell_type": "code",
      "metadata": {
        "id": "73j-dt5gn73P",
        "colab_type": "code",
        "colab": {
          "base_uri": "https://localhost:8080/",
          "height": 87
        },
        "outputId": "b1718618-cef8-45f7-b74a-34238317fab0"
      },
      "source": [
        "Polaridad1=Analisis.etiqueta.value_counts()\n",
        "Polaridad1"
      ],
      "execution_count": 14,
      "outputs": [
        {
          "output_type": "execute_result",
          "data": {
            "text/plain": [
              "positivo    1181\n",
              "negativo      98\n",
              "neutro         2\n",
              "Name: etiqueta, dtype: int64"
            ]
          },
          "metadata": {
            "tags": []
          },
          "execution_count": 14
        }
      ]
    },
    {
      "cell_type": "code",
      "metadata": {
        "id": "qOHZjbqon73V",
        "colab_type": "code",
        "colab": {
          "base_uri": "https://localhost:8080/",
          "height": 69
        },
        "outputId": "4fe20641-1838-4087-ab8a-02f9e807c6ef"
      },
      "source": [
        "\n",
        "Subjetividad1=Analisis[\"tipo opinion\"].value_counts()\n",
        "Subjetividad1"
      ],
      "execution_count": 15,
      "outputs": [
        {
          "output_type": "execute_result",
          "data": {
            "text/plain": [
              "subjetivo    977\n",
              "objetivo     304\n",
              "Name: tipo opinion, dtype: int64"
            ]
          },
          "metadata": {
            "tags": []
          },
          "execution_count": 15
        }
      ]
    },
    {
      "cell_type": "code",
      "metadata": {
        "id": "gCGyqXQzn73c",
        "colab_type": "code",
        "colab": {}
      },
      "source": [
        "def Pie(polaridad, titulo):\n",
        "    plt.pie(polaridad.values[0:2], \n",
        "        explode=(0.1, 0),\n",
        "        labels=polaridad.keys()[0:2],\n",
        "        autopct='%1.1f%%', \n",
        "        shadow=True, \n",
        "        startangle=140)\n",
        "\n",
        "    plt.axis('equal')\n",
        "    plt.title(titulo)\n",
        "    plt.show()"
      ],
      "execution_count": 16,
      "outputs": []
    },
    {
      "cell_type": "code",
      "metadata": {
        "id": "WmuiQJ1Dn73h",
        "colab_type": "code",
        "colab": {
          "base_uri": "https://localhost:8080/",
          "height": 264
        },
        "outputId": "4c137fb4-2b2a-4425-9397-ba085c188177"
      },
      "source": [
        "Pie(Polaridad1, 'Polaridad ejercicio 1')"
      ],
      "execution_count": 17,
      "outputs": [
        {
          "output_type": "display_data",
          "data": {
            "image/png": "[encoded data removed]",
            "text/plain": [
              "<Figure size 432x288 with 1 Axes>"
            ]
          },
          "metadata": {
            "tags": []
          }
        }
      ]
    },
    {
      "cell_type": "code",
      "metadata": {
        "id": "QO4ch4Opn73q",
        "colab_type": "code",
        "colab": {
          "base_uri": "https://localhost:8080/",
          "height": 267
        },
        "outputId": "447f67f2-2f4b-4744-9d22-7b57228d91f6"
      },
      "source": [
        "Pie(Subjetividad1, 'Subjetividad ejercicio 1')"
      ],
      "execution_count": 18,
      "outputs": [
        {
          "output_type": "display_data",
          "data": {
            "image/png": "[encoded data removed]",
            "text/plain": [
              "<Figure size 432x288 with 1 Axes>"
            ]
          },
          "metadata": {
            "tags": []
          }
        }
      ]
    },
    {
      "cell_type": "code",
      "metadata": {
        "id": "M9XL67arn73w",
        "colab_type": "code",
        "colab": {
          "base_uri": "https://localhost:8080/",
          "height": 559
        },
        "outputId": "75cc48d3-ff0a-4a67-ab14-82570fffe644"
      },
      "source": [
        "fig1, ax1 = plt.subplots()\n",
        "ax1.set_title('Distribucion de resultados de la polaridad')\n",
        "ax1.boxplot([Analisis['polaridad'], Analisis['subje']], labels = ['Polaridad','Subjetividad'],showmeans=True)"
      ],
      "execution_count": 19,
      "outputs": [
        {
          "output_type": "execute_result",
          "data": {
            "text/plain": [
              "{'boxes': [<matplotlib.lines.Line2D at 0x7f9c6b2c57f0>,\n",
              "  <matplotlib.lines.Line2D at 0x7f9c6b2bf748>],\n",
              " 'caps': [<matplotlib.lines.Line2D at 0x7f9c6b2c2be0>,\n",
              "  <matplotlib.lines.Line2D at 0x7f9c6b2c2860>,\n",
              "  <matplotlib.lines.Line2D at 0x7f9c6b2baa20>,\n",
              "  <matplotlib.lines.Line2D at 0x7f9c6b2ba6a0>],\n",
              " 'fliers': [<matplotlib.lines.Line2D at 0x7f9c6b2bfc50>,\n",
              "  <matplotlib.lines.Line2D at 0x7f9c6b338b38>],\n",
              " 'means': [<matplotlib.lines.Line2D at 0x7f9c6b2bffd0>,\n",
              "  <matplotlib.lines.Line2D at 0x7f9c6b338e80>],\n",
              " 'medians': [<matplotlib.lines.Line2D at 0x7f9c6b2c2438>,\n",
              "  <matplotlib.lines.Line2D at 0x7f9c6b2ba240>],\n",
              " 'whiskers': [<matplotlib.lines.Line2D at 0x7f9c6b2c5438>,\n",
              "  <matplotlib.lines.Line2D at 0x7f9c6b2c5080>,\n",
              "  <matplotlib.lines.Line2D at 0x7f9c6b2bf358>,\n",
              "  <matplotlib.lines.Line2D at 0x7f9c6b2bae10>]}"
            ]
          },
          "metadata": {
            "tags": []
          },
          "execution_count": 19
        },
        {
          "output_type": "display_data",
          "data": {
            "image/png": "[encoded data removed]",
            "text/plain": [
              "<Figure size 432x288 with 1 Axes>"
            ]
          },
          "metadata": {
            "tags": [],
            "needs_background": "light"
          }
        }
      ]
    },
    {
      "cell_type": "markdown",
      "metadata": {
        "id": "M7FsKy1Kn732",
        "colab_type": "text"
      },
      "source": [
        "**Conclusion:**\n",
        "\n",
        "El Patron Restaurante Mexicano tiene un procentaje abrumador de comentarios positivos, 92.2%. Sin embargo practicamente un 76% de estos comentarios fueron subjetivos. \n"
      ]
    },
    {
      "cell_type": "markdown",
      "metadata": {
        "id": "_DbSZqlqn733",
        "colab_type": "text"
      },
      "source": [
        "## Problem 2\n",
        "\n",
        "Cree un web scraper para los reviews del sitio Trip Advisor, similar al demo trabajado durante la clase #8. Desarrolle un programa que le permita aplicar el analisis de sentimientos desarrollado por su persona en el ejercicio anterior, debera analizar el codigo HTML para poder realizar exitosamente el web scraper.\n",
        "\n",
        "Para el caso de Trip Advisor, podra notar que la URL se modifica por medio de un parametro llamado or-X donde X es el indice inicial de cada review. En Trip Advisor, los reviews estan organizados en multiplos de 5. A continuacion se le muestra una URL y el parametro de configuracion mencionado:\n",
        "\n",
        "https://www.tripadvisor.com/Hotel_Review-g34515-d1197260-Reviews-Holiday_Inn_Express_Hotel_Suites_Orlando_International_Drive-Orlando_Florida.html"
      ]
    },
    {
      "cell_type": "code",
      "metadata": {
        "id": "CJPKVPtbn735",
        "colab_type": "code",
        "colab": {}
      },
      "source": [
        "def Reviews_TripAdvisor(url1, url2):\n",
        "    initText = '<q class=\"IRsGHoPm\"><span>' \n",
        "    endText = '</span></q>'\n",
        "    response = requests.get(url1+url2)\n",
        "    reviews = []\n",
        "    reviews_temp = re.findall(initText + '(.+?)' + endText, response.text)\n",
        "    page = 5\n",
        "    while response.status_code == 200 and len(reviews_temp) > 0:\n",
        "        reviews_temp = re.findall(initText + '(.+?)' + endText, response.text)\n",
        "        for i in range(len(reviews_temp)):\n",
        "            reviews.append(reviews_temp[i])\n",
        "        response = requests.get(url1 + '-or' + str(page) + url2)\n",
        "        page += 5\n",
        "        print(page)\n",
        "    return reviews"
      ],
      "execution_count": 48,
      "outputs": []
    },
    {
      "cell_type": "code",
      "metadata": {
        "id": "ZC0QFCE6n73_",
        "colab_type": "code",
        "colab": {}
      },
      "source": [
        "urlPart1=\"https://www.tripadvisor.com/Hotel_Review-g34515-d1197260-Reviews\"\n",
        "urlPart2=\"-Holiday_Inn_Express_Hotel_Suites_Orlando_International_Drive-Orlando_Florida.html\""
      ],
      "execution_count": 51,
      "outputs": []
    },
    {
      "cell_type": "code",
      "metadata": {
        "id": "7gZ1SCSbvGIs",
        "colab_type": "code",
        "colab": {}
      },
      "source": [
        ""
      ],
      "execution_count": 21,
      "outputs": []
    },
    {
      "cell_type": "code",
      "metadata": {
        "id": "ouM232-dn74E",
        "colab_type": "code",
        "colab": {
          "base_uri": "https://localhost:8080/",
          "height": 1000
        },
        "outputId": "439f68d1-d160-4b5e-dac3-5a55b1c0b378"
      },
      "source": [
        "reviewsHotel = Reviews_TripAdvisor(urlPart1,urlPart2)"
      ],
      "execution_count": 52,
      "outputs": [
        {
          "output_type": "stream",
          "text": [
            "10\n",
            "15\n",
            "20\n",
            "25\n",
            "30\n",
            "35\n",
            "40\n",
            "45\n",
            "50\n",
            "55\n",
            "60\n",
            "65\n",
            "70\n",
            "75\n",
            "80\n",
            "85\n",
            "90\n",
            "95\n",
            "100\n",
            "105\n",
            "110\n",
            "115\n",
            "120\n",
            "125\n",
            "130\n",
            "135\n",
            "140\n",
            "145\n",
            "150\n",
            "155\n",
            "160\n",
            "165\n",
            "170\n",
            "175\n",
            "180\n",
            "185\n",
            "190\n",
            "195\n",
            "200\n",
            "205\n",
            "210\n",
            "215\n",
            "220\n",
            "225\n",
            "230\n",
            "235\n",
            "240\n",
            "245\n",
            "250\n",
            "255\n",
            "260\n",
            "265\n",
            "270\n",
            "275\n",
            "280\n",
            "285\n",
            "290\n",
            "295\n",
            "300\n",
            "305\n",
            "310\n",
            "315\n",
            "320\n",
            "325\n",
            "330\n",
            "335\n",
            "340\n",
            "345\n",
            "350\n",
            "355\n",
            "360\n",
            "365\n",
            "370\n",
            "375\n",
            "380\n",
            "385\n",
            "390\n",
            "395\n",
            "400\n",
            "405\n",
            "410\n",
            "415\n",
            "420\n",
            "425\n",
            "430\n",
            "435\n",
            "440\n",
            "445\n",
            "450\n",
            "455\n",
            "460\n",
            "465\n",
            "470\n",
            "475\n",
            "480\n",
            "485\n",
            "490\n",
            "495\n",
            "500\n",
            "505\n",
            "510\n",
            "515\n",
            "520\n",
            "525\n",
            "530\n",
            "535\n",
            "540\n",
            "545\n",
            "550\n",
            "555\n",
            "560\n",
            "565\n",
            "570\n",
            "575\n",
            "580\n",
            "585\n",
            "590\n",
            "595\n",
            "600\n",
            "605\n",
            "610\n",
            "615\n",
            "620\n",
            "625\n",
            "630\n",
            "635\n",
            "640\n",
            "645\n",
            "650\n",
            "655\n",
            "660\n",
            "665\n",
            "670\n",
            "675\n",
            "680\n",
            "685\n",
            "690\n",
            "695\n"
          ],
          "name": "stdout"
        }
      ]
    },
    {
      "cell_type": "code",
      "metadata": {
        "id": "BZIgV1rgn74N",
        "colab_type": "code",
        "colab": {}
      },
      "source": [
        "reviewsHotel = removerFormatoHTML(reviewsHotel)"
      ],
      "execution_count": 55,
      "outputs": []
    },
    {
      "cell_type": "code",
      "metadata": {
        "id": "7uXalm5Jn74R",
        "colab_type": "code",
        "colab": {
          "base_uri": "https://localhost:8080/",
          "height": 202
        },
        "outputId": "9411131b-1efb-4eee-be28-2a7ba3327749"
      },
      "source": [
        "Total2 = pd.DataFrame(reviewsHotel,columns=['reviews'])\n",
        "Total2.head()"
      ],
      "execution_count": 56,
      "outputs": [
        {
          "output_type": "execute_result",
          "data": {
            "text/html": [
              "<div>\n",
              "<style scoped>\n",
              "    .dataframe tbody tr th:only-of-type {\n",
              "        vertical-align: middle;\n",
              "    }\n",
              "\n",
              "    .dataframe tbody tr th {\n",
              "        vertical-align: top;\n",
              "    }\n",
              "\n",
              "    .dataframe thead th {\n",
              "        text-align: right;\n",
              "    }\n",
              "</style>\n",
              "<table border=\"1\" class=\"dataframe\">\n",
              "  <thead>\n",
              "    <tr style=\"text-align: right;\">\n",
              "      <th></th>\n",
              "      <th>reviews</th>\n",
              "    </tr>\n",
              "  </thead>\n",
              "  <tbody>\n",
              "    <tr>\n",
              "      <th>0</th>\n",
              "      <td>The continental breakfast was inconsistent. Co...</td>\n",
              "    </tr>\n",
              "    <tr>\n",
              "      <th>1</th>\n",
              "      <td>Loud neighbors with no recourse.  Breakfast la...</td>\n",
              "    </tr>\n",
              "    <tr>\n",
              "      <th>2</th>\n",
              "      <td>No breakfast buffet. Offering is a bag contain...</td>\n",
              "    </tr>\n",
              "    <tr>\n",
              "      <th>3</th>\n",
              "      <td>This was our first time staying here and it wa...</td>\n",
              "    </tr>\n",
              "    <tr>\n",
              "      <th>4</th>\n",
              "      <td>We have been here before and for our surprise ...</td>\n",
              "    </tr>\n",
              "  </tbody>\n",
              "</table>\n",
              "</div>"
            ],
            "text/plain": [
              "                                             reviews\n",
              "0  The continental breakfast was inconsistent. Co...\n",
              "1  Loud neighbors with no recourse.  Breakfast la...\n",
              "2  No breakfast buffet. Offering is a bag contain...\n",
              "3  This was our first time staying here and it wa...\n",
              "4  We have been here before and for our surprise ..."
            ]
          },
          "metadata": {
            "tags": []
          },
          "execution_count": 56
        }
      ]
    },
    {
      "cell_type": "code",
      "metadata": {
        "id": "5Gkk904cn74Z",
        "colab_type": "code",
        "colab": {
          "base_uri": "https://localhost:8080/",
          "height": 202
        },
        "outputId": "a9eefcdc-9b8b-463b-fc67-8ec0fbaf5b9e"
      },
      "source": [
        "Total2['reviews']=cleanReviews(Total2['reviews'])\n",
        "Total2.head()"
      ],
      "execution_count": 57,
      "outputs": [
        {
          "output_type": "execute_result",
          "data": {
            "text/html": [
              "<div>\n",
              "<style scoped>\n",
              "    .dataframe tbody tr th:only-of-type {\n",
              "        vertical-align: middle;\n",
              "    }\n",
              "\n",
              "    .dataframe tbody tr th {\n",
              "        vertical-align: top;\n",
              "    }\n",
              "\n",
              "    .dataframe thead th {\n",
              "        text-align: right;\n",
              "    }\n",
              "</style>\n",
              "<table border=\"1\" class=\"dataframe\">\n",
              "  <thead>\n",
              "    <tr style=\"text-align: right;\">\n",
              "      <th></th>\n",
              "      <th>reviews</th>\n",
              "    </tr>\n",
              "  </thead>\n",
              "  <tbody>\n",
              "    <tr>\n",
              "      <th>0</th>\n",
              "      <td>the continental breakfast was inconsistent. co...</td>\n",
              "    </tr>\n",
              "    <tr>\n",
              "      <th>1</th>\n",
              "      <td>loud neighbors with no recourse.  breakfast la...</td>\n",
              "    </tr>\n",
              "    <tr>\n",
              "      <th>2</th>\n",
              "      <td>no breakfast buffet. offering is a bag contain...</td>\n",
              "    </tr>\n",
              "    <tr>\n",
              "      <th>3</th>\n",
              "      <td>this was our first time staying here and it wa...</td>\n",
              "    </tr>\n",
              "    <tr>\n",
              "      <th>4</th>\n",
              "      <td>we have been here before and for our surprise ...</td>\n",
              "    </tr>\n",
              "  </tbody>\n",
              "</table>\n",
              "</div>"
            ],
            "text/plain": [
              "                                             reviews\n",
              "0  the continental breakfast was inconsistent. co...\n",
              "1  loud neighbors with no recourse.  breakfast la...\n",
              "2  no breakfast buffet. offering is a bag contain...\n",
              "3  this was our first time staying here and it wa...\n",
              "4  we have been here before and for our surprise ..."
            ]
          },
          "metadata": {
            "tags": []
          },
          "execution_count": 57
        }
      ]
    },
    {
      "cell_type": "code",
      "metadata": {
        "id": "3jf798hin74f",
        "colab_type": "code",
        "colab": {
          "base_uri": "https://localhost:8080/",
          "height": 202
        },
        "outputId": "99c8026a-df08-4a28-ba27-c107d16c3ec1"
      },
      "source": [
        "AnalisisHotel = Sentimientos(Total2['reviews'])\n",
        "AnalisisHotel.head()"
      ],
      "execution_count": 58,
      "outputs": [
        {
          "output_type": "execute_result",
          "data": {
            "text/html": [
              "<div>\n",
              "<style scoped>\n",
              "    .dataframe tbody tr th:only-of-type {\n",
              "        vertical-align: middle;\n",
              "    }\n",
              "\n",
              "    .dataframe tbody tr th {\n",
              "        vertical-align: top;\n",
              "    }\n",
              "\n",
              "    .dataframe thead th {\n",
              "        text-align: right;\n",
              "    }\n",
              "</style>\n",
              "<table border=\"1\" class=\"dataframe\">\n",
              "  <thead>\n",
              "    <tr style=\"text-align: right;\">\n",
              "      <th></th>\n",
              "      <th>polaridad</th>\n",
              "      <th>subje</th>\n",
              "      <th>etiqueta</th>\n",
              "      <th>tipo opinion</th>\n",
              "    </tr>\n",
              "  </thead>\n",
              "  <tbody>\n",
              "    <tr>\n",
              "      <th>0</th>\n",
              "      <td>0.187363</td>\n",
              "      <td>0.456593</td>\n",
              "      <td>positivo</td>\n",
              "      <td>objetivo</td>\n",
              "    </tr>\n",
              "    <tr>\n",
              "      <th>1</th>\n",
              "      <td>-0.145833</td>\n",
              "      <td>0.508333</td>\n",
              "      <td>negativo</td>\n",
              "      <td>subjetivo</td>\n",
              "    </tr>\n",
              "    <tr>\n",
              "      <th>2</th>\n",
              "      <td>-0.208929</td>\n",
              "      <td>0.314286</td>\n",
              "      <td>negativo</td>\n",
              "      <td>objetivo</td>\n",
              "    </tr>\n",
              "    <tr>\n",
              "      <th>3</th>\n",
              "      <td>0.266000</td>\n",
              "      <td>0.547333</td>\n",
              "      <td>positivo</td>\n",
              "      <td>subjetivo</td>\n",
              "    </tr>\n",
              "    <tr>\n",
              "      <th>4</th>\n",
              "      <td>0.172083</td>\n",
              "      <td>0.556667</td>\n",
              "      <td>positivo</td>\n",
              "      <td>subjetivo</td>\n",
              "    </tr>\n",
              "  </tbody>\n",
              "</table>\n",
              "</div>"
            ],
            "text/plain": [
              "   polaridad     subje  etiqueta tipo opinion\n",
              "0   0.187363  0.456593  positivo     objetivo\n",
              "1  -0.145833  0.508333  negativo    subjetivo\n",
              "2  -0.208929  0.314286  negativo     objetivo\n",
              "3   0.266000  0.547333  positivo    subjetivo\n",
              "4   0.172083  0.556667  positivo    subjetivo"
            ]
          },
          "metadata": {
            "tags": []
          },
          "execution_count": 58
        }
      ]
    },
    {
      "cell_type": "code",
      "metadata": {
        "id": "6kk0FTWdfIb8",
        "colab_type": "code",
        "colab": {
          "base_uri": "https://localhost:8080/",
          "height": 87
        },
        "outputId": "5ebb3995-fc8e-496f-fd36-5078b9c09121"
      },
      "source": [
        "Polaridad2=AnalisisHotel.etiqueta.value_counts()\n",
        "Polaridad2"
      ],
      "execution_count": 59,
      "outputs": [
        {
          "output_type": "execute_result",
          "data": {
            "text/plain": [
              "positivo    649\n",
              "negativo     34\n",
              "neutro        1\n",
              "Name: etiqueta, dtype: int64"
            ]
          },
          "metadata": {
            "tags": []
          },
          "execution_count": 59
        }
      ]
    },
    {
      "cell_type": "code",
      "metadata": {
        "id": "IMjn684IfQMF",
        "colab_type": "code",
        "colab": {
          "base_uri": "https://localhost:8080/",
          "height": 69
        },
        "outputId": "998dbaf3-036e-4c6d-f300-e7ac436ada38"
      },
      "source": [
        "Subjetividad2=AnalisisHotel[\"tipo opinion\"].value_counts()\n",
        "Subjetividad2"
      ],
      "execution_count": 61,
      "outputs": [
        {
          "output_type": "execute_result",
          "data": {
            "text/plain": [
              "subjetivo    435\n",
              "objetivo     249\n",
              "Name: tipo opinion, dtype: int64"
            ]
          },
          "metadata": {
            "tags": []
          },
          "execution_count": 61
        }
      ]
    },
    {
      "cell_type": "code",
      "metadata": {
        "id": "SQbp8uPHfqMH",
        "colab_type": "code",
        "colab": {
          "base_uri": "https://localhost:8080/",
          "height": 264
        },
        "outputId": "ec391de9-70d7-40b7-a806-83c7261f4be2"
      },
      "source": [
        "Pie(Polaridad2, 'Holiday_Inn_Express_Hotel_Suites_Orlando')"
      ],
      "execution_count": 63,
      "outputs": [
        {
          "output_type": "display_data",
          "data": {
            "image/png": "[encoded data removed]",
            "text/plain": [
              "<Figure size 432x288 with 1 Axes>"
            ]
          },
          "metadata": {
            "tags": []
          }
        }
      ]
    },
    {
      "cell_type": "code",
      "metadata": {
        "id": "gxqew6Tnf9si",
        "colab_type": "code",
        "colab": {
          "base_uri": "https://localhost:8080/",
          "height": 264
        },
        "outputId": "e43c7789-6729-4b22-c7c1-0da2111b548e"
      },
      "source": [
        "Pie(Subjetividad2, 'Holiday_Inn_Express_Hotel_Suites_Orlando')"
      ],
      "execution_count": 64,
      "outputs": [
        {
          "output_type": "display_data",
          "data": {
            "image/png": "[encoded data removed]",
            "text/plain": [
              "<Figure size 432x288 with 1 Axes>"
            ]
          },
          "metadata": {
            "tags": []
          }
        }
      ]
    },
    {
      "cell_type": "code",
      "metadata": {
        "id": "5X6_hfTFgjEQ",
        "colab_type": "code",
        "colab": {
          "base_uri": "https://localhost:8080/",
          "height": 559
        },
        "outputId": "2500ac44-bc84-4ebc-e4f6-97ad61bf90e4"
      },
      "source": [
        "fig1, ax1 = plt.subplots()\n",
        "ax1.set_title('Distribucion de resultados de la polaridad de Holiday_Inn_Express_Hotel_Suites_Orlando')\n",
        "ax1.boxplot([AnalisisHotel['polaridad'], AnalisisHotel['subje']], labels = ['Polaridad','Subjetividad'],showmeans=True)"
      ],
      "execution_count": 65,
      "outputs": [
        {
          "output_type": "execute_result",
          "data": {
            "text/plain": [
              "{'boxes': [<matplotlib.lines.Line2D at 0x7f9c63048b38>,\n",
              "  <matplotlib.lines.Line2D at 0x7f9c6305e710>],\n",
              " 'caps': [<matplotlib.lines.Line2D at 0x7f9c63056588>,\n",
              "  <matplotlib.lines.Line2D at 0x7f9c63056908>,\n",
              "  <matplotlib.lines.Line2D at 0x7f9c63069208>,\n",
              "  <matplotlib.lines.Line2D at 0x7f9c63069588>],\n",
              " 'fliers': [<matplotlib.lines.Line2D at 0x7f9c6305e390>,\n",
              "  <matplotlib.lines.Line2D at 0x7f9c63069fd0>],\n",
              " 'means': [<matplotlib.lines.Line2D at 0x7f9c6305e048>,\n",
              "  <matplotlib.lines.Line2D at 0x7f9c63069c88>],\n",
              " 'medians': [<matplotlib.lines.Line2D at 0x7f9c63056c88>,\n",
              "  <matplotlib.lines.Line2D at 0x7f9c63069908>],\n",
              " 'whiskers': [<matplotlib.lines.Line2D at 0x7f9c63048e48>,\n",
              "  <matplotlib.lines.Line2D at 0x7f9c63056208>,\n",
              "  <matplotlib.lines.Line2D at 0x7f9c6305eac8>,\n",
              "  <matplotlib.lines.Line2D at 0x7f9c6305ee48>]}"
            ]
          },
          "metadata": {
            "tags": []
          },
          "execution_count": 65
        },
        {
          "output_type": "display_data",
          "data": {
            "image/png": "[encoded data removed]",
            "text/plain": [
              "<Figure size 432x288 with 1 Axes>"
            ]
          },
          "metadata": {
            "tags": [],
            "needs_background": "light"
          }
        }
      ]
    },
    {
      "cell_type": "markdown",
      "metadata": {
        "id": "fW5DHzWMgLLo",
        "colab_type": "text"
      },
      "source": [
        "**Conclusion:**\n",
        "\n",
        "Segun el resultado de la polaridad  95% del Holiday Inn Express Hotel Suites Orlando demuestra que la popularidad del hotel es mas alta de lo que piensas las personas que viven en Orlando Downtown, lo cuales puede significar que el hotel ha mejorado su servicio."
      ]
    }
  ]
}