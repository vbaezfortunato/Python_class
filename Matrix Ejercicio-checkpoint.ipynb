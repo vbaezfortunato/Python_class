{
 "cells": [
  {
   "cell_type": "markdown",
   "metadata": {},
   "source": [
    "**Estructuras_de_Datos__1_.ipynb**"
   ]
  },
  {
   "cell_type": "markdown",
   "metadata": {},
   "source": [
    "**ejercicio** experimenta con diferentes numeros de iteraciones de la simulación y analiza el comportamiento del sistema en relación a esto, anota tu conclusión en el notebook en una nueva celda Markdown abajo de la celda de la simulación."
   ]
  },
  {
   "cell_type": "code",
   "execution_count": 5,
   "metadata": {},
   "outputs": [
    {
     "name": "stdout",
     "output_type": "stream",
     "text": [
      "El valor esperado o esperanza de la variable Y es E(Y) = 0.7999504846252292\n",
      "El valor minimo de y es  0.028369855819671386\n",
      "El valor maximo de y es  1.5686697436595147\n"
     ]
    }
   ],
   "source": [
    "import random\n",
    "\n",
    "SIMULACIONES = 10000000\n",
    "resultados_simulacion = []\n",
    "\n",
    "for iteracion in range(1,SIMULACIONES +1,1):\n",
    "    x_simulado = random.gauss(5,1) # sampleo/muestreo de la variable x que se distribuye de forma normal con media 5 y desviacion 2\n",
    "    error = random.gauss(0,0.1) \n",
    "    \n",
    "    # aplicar el modelo para obtener un valor simulado de y\n",
    "    y = 0.1*x_simulado + 0.3  + error #aplicar el modelo a la variable \"simulada\"\n",
    "   \n",
    "    resultados_simulacion.append(y) #guardar los resultados en una lista para analisis posterior\n",
    "    \n",
    "EY = sum(resultados_simulacion)/SIMULACIONES # E(Y) ,esperanza o valor esperado de una variable aleatoria\n",
    "ingreso_maximo = max(resultados_simulacion)\n",
    "ingreso_minimo = min(resultados_simulacion)\n",
    "\n",
    "print(\"El valor esperado o esperanza de la variable Y es E(Y) =\" ,EY)\n",
    "print(\"El valor minimo de y es \",ingreso_minimo)\n",
    "print(\"El valor maximo de y es \",ingreso_maximo)"
   ]
  },
  {
   "cell_type": "markdown",
   "metadata": {},
   "source": [
    "A menor numero de simulaciones  el valor esperado es mayor:\n",
    "  \n",
    " *SIMULACIONES = 5000*\n",
    "El valor esperado o esperanza de la variable Y es E(Y) = 0.7959517238298435\n",
    "El valor minimo de y es  0.3954959527441448\n",
    "El valor maximo de y es  1.1594161531455622\n",
    "\n",
    "*SIMULACIONES = 100*\n",
    "El valor esperado o esperanza de la variable Y es E(Y) = 0.8206342601715214\n",
    "El valor minimo de y es  0.4906003633559718\n",
    "El valor maximo de y es  1.1889505097399116\n",
    "\n",
    "\n",
    "\n",
    "*SIMULACIONES = 100000*\n",
    "El valor esperado o esperanza de la variable Y es E(Y) = 0.7996074140423676\n",
    "El valor minimo de y es  0.2960282858442692\n",
    "El valor maximo de y es  1.3399775483492742"
   ]
  },
  {
   "cell_type": "markdown",
   "metadata": {},
   "source": [
    "**Numpy_y_linalg-Matrices-parte1**"
   ]
  },
  {
   "cell_type": "markdown",
   "metadata": {},
   "source": [
    "**Ejercicio**: Investigar y ejemplificar diferencias entre np.array y np.matrix"
   ]
  },
  {
   "cell_type": "markdown",
   "metadata": {},
   "source": [
    "Las np.matrix son estrictamente bidimensionales, mientras que las np.array son N-dimensionales. Los objetos de matriz son una subclase de ndarray, por lo que heredan todos los atributos y métodos de ndarrays.\n"
   ]
  },
  {
   "cell_type": "code",
   "execution_count": null,
   "metadata": {},
   "outputs": [],
   "source": []
  }
 ],
 "metadata": {
  "kernelspec": {
   "display_name": "Python 3",
   "language": "python",
   "name": "python3"
  },
  "language_info": {
   "codemirror_mode": {
    "name": "ipython",
    "version": 3
   },
   "file_extension": ".py",
   "mimetype": "text/x-python",
   "name": "python",
   "nbconvert_exporter": "python",
   "pygments_lexer": "ipython3",
   "version": "3.7.1"
  }
 },
 "nbformat": 4,
 "nbformat_minor": 2
}
