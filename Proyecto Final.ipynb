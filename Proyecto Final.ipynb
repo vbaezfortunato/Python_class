{
 "cells": [
  {
   "cell_type": "markdown",
   "metadata": {},
   "source": [
    "**Descripción general**\n",
    "El proyecto consiste en aplicar los conocimientos aprendidos en clase (y apoyándose de referencias adicionales útiles) para crear modelos predictivos de regresión lineal uni-variable sencillos de la forma:\n",
    "\n",
    "y = f(x) =  mx +b\n",
    "\n",
    "Donde:\n",
    "\n",
    "y = la variable dependiente\n",
    "x = variable independiente\n",
    "m = pendiente de la recta(parámetro del modelo)\n",
    "b = intercepto(parámetro del modelo)\n",
    "\n",
    "Tanto “x” como “y” son parte del dataset usado , “m” y “b” son parámetros del modelo los cuales buscamos estimar con los datos, esto significa que se busca encontrar que valores de “m” y “b” producen una recta que describa de la mejor manera posible la relación entre los datos “x” y “y”.\n"
   ]
  },
  {
   "cell_type": "markdown",
   "metadata": {},
   "source": [
    "*Importar todas las libreria que utilizaremos en el Proyecto:*"
   ]
  },
  {
   "cell_type": "code",
   "execution_count": 121,
   "metadata": {},
   "outputs": [],
   "source": [
    "import numpy as np\n",
    "import sklearn as scikit_learn\n",
    "import seaborn as sb\n",
    "import pandas as pd\n",
    "import matplotlib.pyplot as plt\n",
    "\n",
    "from sklearn.linear_model import LinearRegression\n",
    "from sklearn import preprocessing, svm\n",
    "from sklearn.model_selection import train_test_split\n",
    "from matplotlib import style"
   ]
  },
  {
   "cell_type": "code",
   "execution_count": 122,
   "metadata": {},
   "outputs": [],
   "source": [
    "data = np.load('C:\\R_File\\Master of Data Science\\Python\\Project\\proyecto_data\\proyecto_training_data.npy') "
   ]
  },
  {
   "cell_type": "code",
   "execution_count": 123,
   "metadata": {},
   "outputs": [],
   "source": [
    "xx = data\n",
    "training_idx = np.random.randint(xx.shape[0], size=80)\n",
    "test_idx = np.random.randint(xx.shape[0], size=20)\n",
    "training, test = xx[training_idx,:], xx[test_idx,:]"
   ]
  },
  {
   "cell_type": "code",
   "execution_count": 124,
   "metadata": {},
   "outputs": [],
   "source": [
    "\n",
    "casadf = pd.DataFrame(training)\n",
    "casadf.rename(columns={   0 :'precio',\n",
    "                          1:'Calif',\n",
    "                          2:'fsqrt',\n",
    "                          3 :'trooms',\n",
    "                          4: 'yearbuilt',\n",
    "                          5 : 'LotFrontage'}, \n",
    "                 inplace=True)\n",
    "casadf['precio']= casadf['precio']/1000\n",
    "casadf.fillna(0,inplace=True)"
   ]
  },
  {
   "cell_type": "code",
   "execution_count": 125,
   "metadata": {},
   "outputs": [
    {
     "data": {
      "text/html": [
       "<div>\n",
       "<style scoped>\n",
       "    .dataframe tbody tr th:only-of-type {\n",
       "        vertical-align: middle;\n",
       "    }\n",
       "\n",
       "    .dataframe tbody tr th {\n",
       "        vertical-align: top;\n",
       "    }\n",
       "\n",
       "    .dataframe thead th {\n",
       "        text-align: right;\n",
       "    }\n",
       "</style>\n",
       "<table border=\"1\" class=\"dataframe\">\n",
       "  <thead>\n",
       "    <tr style=\"text-align: right;\">\n",
       "      <th></th>\n",
       "      <th>precio</th>\n",
       "      <th>Calif</th>\n",
       "      <th>fsqrt</th>\n",
       "      <th>trooms</th>\n",
       "      <th>yearbuilt</th>\n",
       "      <th>LotFrontage</th>\n",
       "    </tr>\n",
       "  </thead>\n",
       "  <tbody>\n",
       "    <tr>\n",
       "      <th>count</th>\n",
       "      <td>80.000000</td>\n",
       "      <td>80.000000</td>\n",
       "      <td>80.000000</td>\n",
       "      <td>80.000000</td>\n",
       "      <td>80.000000</td>\n",
       "      <td>80.000000</td>\n",
       "    </tr>\n",
       "    <tr>\n",
       "      <th>mean</th>\n",
       "      <td>175.351837</td>\n",
       "      <td>5.987500</td>\n",
       "      <td>1114.162500</td>\n",
       "      <td>6.462500</td>\n",
       "      <td>1973.412500</td>\n",
       "      <td>55.350000</td>\n",
       "    </tr>\n",
       "    <tr>\n",
       "      <th>std</th>\n",
       "      <td>89.445190</td>\n",
       "      <td>1.247719</td>\n",
       "      <td>358.318946</td>\n",
       "      <td>1.606504</td>\n",
       "      <td>27.277149</td>\n",
       "      <td>29.264443</td>\n",
       "    </tr>\n",
       "    <tr>\n",
       "      <th>min</th>\n",
       "      <td>79.000000</td>\n",
       "      <td>3.000000</td>\n",
       "      <td>483.000000</td>\n",
       "      <td>4.000000</td>\n",
       "      <td>1910.000000</td>\n",
       "      <td>0.000000</td>\n",
       "    </tr>\n",
       "    <tr>\n",
       "      <th>25%</th>\n",
       "      <td>125.875000</td>\n",
       "      <td>5.000000</td>\n",
       "      <td>864.750000</td>\n",
       "      <td>5.000000</td>\n",
       "      <td>1955.500000</td>\n",
       "      <td>35.750000</td>\n",
       "    </tr>\n",
       "    <tr>\n",
       "      <th>50%</th>\n",
       "      <td>157.000000</td>\n",
       "      <td>6.000000</td>\n",
       "      <td>1001.000000</td>\n",
       "      <td>6.000000</td>\n",
       "      <td>1976.000000</td>\n",
       "      <td>63.000000</td>\n",
       "    </tr>\n",
       "    <tr>\n",
       "      <th>75%</th>\n",
       "      <td>194.500000</td>\n",
       "      <td>7.000000</td>\n",
       "      <td>1319.250000</td>\n",
       "      <td>8.000000</td>\n",
       "      <td>1998.250000</td>\n",
       "      <td>74.250000</td>\n",
       "    </tr>\n",
       "    <tr>\n",
       "      <th>max</th>\n",
       "      <td>755.000000</td>\n",
       "      <td>10.000000</td>\n",
       "      <td>2444.000000</td>\n",
       "      <td>11.000000</td>\n",
       "      <td>2009.000000</td>\n",
       "      <td>120.000000</td>\n",
       "    </tr>\n",
       "  </tbody>\n",
       "</table>\n",
       "</div>"
      ],
      "text/plain": [
       "           precio      Calif        fsqrt     trooms    yearbuilt  LotFrontage\n",
       "count   80.000000  80.000000    80.000000  80.000000    80.000000    80.000000\n",
       "mean   175.351837   5.987500  1114.162500   6.462500  1973.412500    55.350000\n",
       "std     89.445190   1.247719   358.318946   1.606504    27.277149    29.264443\n",
       "min     79.000000   3.000000   483.000000   4.000000  1910.000000     0.000000\n",
       "25%    125.875000   5.000000   864.750000   5.000000  1955.500000    35.750000\n",
       "50%    157.000000   6.000000  1001.000000   6.000000  1976.000000    63.000000\n",
       "75%    194.500000   7.000000  1319.250000   8.000000  1998.250000    74.250000\n",
       "max    755.000000  10.000000  2444.000000  11.000000  2009.000000   120.000000"
      ]
     },
     "execution_count": 125,
     "metadata": {},
     "output_type": "execute_result"
    }
   ],
   "source": [
    "casadf.describe(include='all')"
   ]
  },
  {
   "cell_type": "code",
   "execution_count": 126,
   "metadata": {},
   "outputs": [
    {
     "data": {
      "image/png": "[encoded data removed]",
      "text/plain": [
       "<Figure size 432x288 with 6 Axes>"
      ]
     },
     "metadata": {
      "needs_background": "light"
     },
     "output_type": "display_data"
    }
   ],
   "source": [
    "casadf.drop(['precio'],1).hist()\n",
    "plt.show()"
   ]
  },
  {
   "cell_type": "code",
   "execution_count": 127,
   "metadata": {},
   "outputs": [
    {
     "data": {
      "text/html": [
       "<div>\n",
       "<style scoped>\n",
       "    .dataframe tbody tr th:only-of-type {\n",
       "        vertical-align: middle;\n",
       "    }\n",
       "\n",
       "    .dataframe tbody tr th {\n",
       "        vertical-align: top;\n",
       "    }\n",
       "\n",
       "    .dataframe thead th {\n",
       "        text-align: right;\n",
       "    }\n",
       "</style>\n",
       "<table border=\"1\" class=\"dataframe\">\n",
       "  <thead>\n",
       "    <tr style=\"text-align: right;\">\n",
       "      <th></th>\n",
       "      <th>precio</th>\n",
       "      <th>Calif</th>\n",
       "      <th>fsqrt</th>\n",
       "      <th>trooms</th>\n",
       "      <th>yearbuilt</th>\n",
       "      <th>LotFrontage</th>\n",
       "    </tr>\n",
       "  </thead>\n",
       "  <tbody>\n",
       "    <tr>\n",
       "      <th>precio</th>\n",
       "      <td>1.000000</td>\n",
       "      <td>0.704054</td>\n",
       "      <td>0.559395</td>\n",
       "      <td>0.541898</td>\n",
       "      <td>0.408996</td>\n",
       "      <td>0.249974</td>\n",
       "    </tr>\n",
       "    <tr>\n",
       "      <th>Calif</th>\n",
       "      <td>0.704054</td>\n",
       "      <td>1.000000</td>\n",
       "      <td>0.268327</td>\n",
       "      <td>0.381821</td>\n",
       "      <td>0.469525</td>\n",
       "      <td>0.086789</td>\n",
       "    </tr>\n",
       "    <tr>\n",
       "      <th>fsqrt</th>\n",
       "      <td>0.559395</td>\n",
       "      <td>0.268327</td>\n",
       "      <td>1.000000</td>\n",
       "      <td>0.303833</td>\n",
       "      <td>0.196963</td>\n",
       "      <td>0.211360</td>\n",
       "    </tr>\n",
       "    <tr>\n",
       "      <th>trooms</th>\n",
       "      <td>0.541898</td>\n",
       "      <td>0.381821</td>\n",
       "      <td>0.303833</td>\n",
       "      <td>1.000000</td>\n",
       "      <td>-0.014519</td>\n",
       "      <td>0.157523</td>\n",
       "    </tr>\n",
       "    <tr>\n",
       "      <th>yearbuilt</th>\n",
       "      <td>0.408996</td>\n",
       "      <td>0.469525</td>\n",
       "      <td>0.196963</td>\n",
       "      <td>-0.014519</td>\n",
       "      <td>1.000000</td>\n",
       "      <td>0.038335</td>\n",
       "    </tr>\n",
       "    <tr>\n",
       "      <th>LotFrontage</th>\n",
       "      <td>0.249974</td>\n",
       "      <td>0.086789</td>\n",
       "      <td>0.211360</td>\n",
       "      <td>0.157523</td>\n",
       "      <td>0.038335</td>\n",
       "      <td>1.000000</td>\n",
       "    </tr>\n",
       "  </tbody>\n",
       "</table>\n",
       "</div>"
      ],
      "text/plain": [
       "               precio     Calif     fsqrt    trooms  yearbuilt  LotFrontage\n",
       "precio       1.000000  0.704054  0.559395  0.541898   0.408996     0.249974\n",
       "Calif        0.704054  1.000000  0.268327  0.381821   0.469525     0.086789\n",
       "fsqrt        0.559395  0.268327  1.000000  0.303833   0.196963     0.211360\n",
       "trooms       0.541898  0.381821  0.303833  1.000000  -0.014519     0.157523\n",
       "yearbuilt    0.408996  0.469525  0.196963 -0.014519   1.000000     0.038335\n",
       "LotFrontage  0.249974  0.086789  0.211360  0.157523   0.038335     1.000000"
      ]
     },
     "execution_count": 127,
     "metadata": {},
     "output_type": "execute_result"
    }
   ],
   "source": [
    "\n",
    "casadf.corr(method='pearson', min_periods=1)\n"
   ]
  },
  {
   "cell_type": "code",
   "execution_count": 128,
   "metadata": {},
   "outputs": [
    {
     "name": "stdout",
     "output_type": "stream",
     "text": [
      "(80, 1)\n",
      "(80,)\n"
     ]
    },
    {
     "data": {
      "image/png": "[encoded data removed]",
      "text/plain": [
       "<Figure size 432x288 with 1 Axes>"
      ]
     },
     "metadata": {
      "needs_background": "light"
     },
     "output_type": "display_data"
    }
   ],
   "source": [
    "\n",
    "\n",
    "X = casadf.drop([\"precio\",\"fsqrt\",\"yearbuilt\",\"LotFrontage\",\"trooms\"], axis=1).values\n",
    "Y = casadf[\"precio\"].values\n",
    "\n",
    "print(X.shape)\n",
    "print(Y.shape)\n",
    "fig = plt.figure()\n",
    "ax = fig.add_subplot(1,1,1) #creamos un canvas con  1 fila, 1 columna y devolvemos una referencia a la primera grafica\n",
    "#ax = fig.add_subplot(111) \n",
    "\n",
    "ax.scatter(X, Y,marker=\"v\",color=\"g\")  # experimentar con los siguientes markers o', 'v', '^', '<', '>', '8', 's', 'p', '*', 'h', 'H', 'D', 'd', 'P', 'X'#\n",
    "#ax.scatter(x, y,color=\"g\")  # experimentar con los siguientes markers o', 'v', '^', '<', '>', '8', 's', 'p', '*', 'h', 'H', 'D', 'd', 'P', 'X'\n",
    "\n",
    "ax.set_xlabel('Clasif')\n",
    "ax.set_ylabel('Precio')\n",
    "ax.set_title('coeficiente de correlación entre x y y : 0.81')\n",
    "\n",
    "plt.show()"
   ]
  },
  {
   "cell_type": "code",
   "execution_count": 159,
   "metadata": {},
   "outputs": [
    {
     "name": "stdout",
     "output_type": "stream",
     "text": [
      "1.5341485493545002 3\n",
      "6.136594197418001 6\n",
      "13.807336944190498 9\n",
      "24.546376789672003 12\n",
      "38.3537137338625 15\n"
     ]
    }
   ],
   "source": [
    "parametros = np.array([0.1,0.2])\n",
    "unos = np.ones((len(X),1))\n",
    "uno = np.squeeze(np.asarray(unos))\n",
    "X   = np.squeeze(np.asarray(X))\n",
    "X_b = np.c_[X,unos]\n",
    "m_current = 0\n",
    "b_current = 0\n",
    "error = 0\n",
    "N = float(len(Y))\n",
    "learning_rate=0.1\n",
    "lossHistory = []\n",
    "histepoch = []\n",
    "for epoch in np.arange(2, 15,3):\n",
    "\tyhat = (np.dot(X_b , parametros))\n",
    "\terror += (Y-yhat) \n",
    "\tcost = np.sum(error **2)*(0.5) /1000000 #testing\n",
    "\tm_gradient =  sum(X * (Y - yhat[0]))\n",
    "\tb_gradient =  sum(Y - yhat[1])\n",
    "\tm_current += m_current - (learning_rate * m_gradient)\n",
    "\tb_current += b_current - (learning_rate * b_gradient)\n",
    "\tlossHistory.append(cost)\n",
    "\thistepoch.append(epoch)\n",
    "\tprint(cost,epoch+1)\n"
   ]
  },
  {
   "cell_type": "code",
   "execution_count": 160,
   "metadata": {},
   "outputs": [
    {
     "data": {
      "text/html": [
       "<div>\n",
       "<style scoped>\n",
       "    .dataframe tbody tr th:only-of-type {\n",
       "        vertical-align: middle;\n",
       "    }\n",
       "\n",
       "    .dataframe tbody tr th {\n",
       "        vertical-align: top;\n",
       "    }\n",
       "\n",
       "    .dataframe thead th {\n",
       "        text-align: right;\n",
       "    }\n",
       "</style>\n",
       "<table border=\"1\" class=\"dataframe\">\n",
       "  <thead>\n",
       "    <tr style=\"text-align: right;\">\n",
       "      <th></th>\n",
       "      <th>0</th>\n",
       "      <th>epoch</th>\n",
       "    </tr>\n",
       "  </thead>\n",
       "  <tbody>\n",
       "    <tr>\n",
       "      <th>0</th>\n",
       "      <td>1.534149</td>\n",
       "      <td>0</td>\n",
       "    </tr>\n",
       "    <tr>\n",
       "      <th>1</th>\n",
       "      <td>6.136594</td>\n",
       "      <td>1</td>\n",
       "    </tr>\n",
       "    <tr>\n",
       "      <th>2</th>\n",
       "      <td>13.807337</td>\n",
       "      <td>2</td>\n",
       "    </tr>\n",
       "    <tr>\n",
       "      <th>3</th>\n",
       "      <td>24.546377</td>\n",
       "      <td>3</td>\n",
       "    </tr>\n",
       "    <tr>\n",
       "      <th>4</th>\n",
       "      <td>38.353714</td>\n",
       "      <td>4</td>\n",
       "    </tr>\n",
       "  </tbody>\n",
       "</table>\n",
       "</div>"
      ],
      "text/plain": [
       "           0  epoch\n",
       "0   1.534149      0\n",
       "1   6.136594      1\n",
       "2  13.807337      2\n",
       "3  24.546377      3\n",
       "4  38.353714      4"
      ]
     },
     "execution_count": 160,
     "metadata": {},
     "output_type": "execute_result"
    }
   ],
   "source": [
    "dataf = pd.DataFrame(lossHistory)\n",
    "\n",
    "dataf['epoch'] = np.arange(len(dataf))\n",
    "\n",
    "dataf\n",
    "\n"
   ]
  },
  {
   "cell_type": "code",
   "execution_count": 161,
   "metadata": {},
   "outputs": [
    {
     "data": {
      "image/png": "[encoded data removed]",
      "text/plain": [
       "<Figure size 432x288 with 1 Axes>"
      ]
     },
     "metadata": {
      "needs_background": "light"
     },
     "output_type": "display_data"
    }
   ],
   "source": [
    "\n",
    "\n",
    "\n",
    "x = epoch_count\n",
    "y = lossHistory\n",
    "\n",
    "fig = plt.figure()\n",
    "ax = fig.add_subplot(111) #creamos un canvas con  1 fila, 1 columna y devolvemos una referencia a la primera grafica\n",
    "#ax = fig.add_subplot(111) \n",
    "\n",
    "ax.grid()\n",
    "ax.set_xlim(-1,6)\n",
    "ax.set_ylim(35,1)\n",
    "ax.plot(x,y)\n",
    "\n",
    "ax.set_xlabel('Epoch')\n",
    "ax.set_ylabel('Loss')\n",
    "ax.set_title('Losses')\n",
    "\n",
    "plt.show()"
   ]
  },
  {
   "cell_type": "code",
   "execution_count": 162,
   "metadata": {
    "scrolled": true
   },
   "outputs": [
    {
     "data": {
      "image/png": "[encoded data removed]",
      "text/plain": [
       "<Figure size 432x288 with 1 Axes>"
      ]
     },
     "metadata": {
      "needs_background": "light"
     },
     "output_type": "display_data"
    }
   ],
   "source": [
    "x = epoch_count\n",
    "y = lossHistory\n",
    "\n",
    "x_error = 0.08*np.random.randn(len(x)) #medida del error en x\n",
    "y_error = 0.1*np.random.randn(len(y)) #medida del error en y\n",
    "\n",
    "fig = plt.figure()\n",
    "ax = fig.add_subplot(111)\n",
    "\n",
    "ax.set_ylim(35,1)\n",
    "ax.errorbar(x,y,ecolor=\"r\",fmt=\"bo\",elinewidth=1)\n",
    "\n",
    "plt.show()\n"
   ]
  },
  {
   "cell_type": "code",
   "execution_count": 164,
   "metadata": {},
   "outputs": [
    {
     "data": {
      "image/png": "[encoded data removed]",
      "text/plain": [
       "<Figure size 432x288 with 1 Axes>"
      ]
     },
     "metadata": {
      "needs_background": "light"
     },
     "output_type": "display_data"
    },
    {
     "name": "stdout",
     "output_type": "stream",
     "text": [
      "63.900000000000006\n"
     ]
    }
   ],
   "source": [
    "\n",
    "y= m_current *X+ b_current\n",
    "\n",
    "plt.scatter(X, Y,  color='gray')\n",
    "plt.plot(X, yhat, color='red', linewidth=2)\n",
    "plt.show()\n",
    "print(np.sum(yhat))\n"
   ]
  },
  {
   "cell_type": "code",
   "execution_count": 155,
   "metadata": {},
   "outputs": [
    {
     "name": "stdout",
     "output_type": "stream",
     "text": [
      "          0    1       2     3       4     5\n",
      "0  214900.0  7.0   824.0   8.0  2002.0  80.0\n",
      "1  127500.0  5.0   808.0   6.0  1940.0  62.0\n",
      "2  202500.0  7.0  1368.0   6.0  2005.0  48.0\n",
      "3  175000.0  6.0  1041.0   7.0  1968.0  90.0\n",
      "4  190000.0  5.0  1361.0  12.0  1977.0   0.0\n"
     ]
    }
   ],
   "source": [
    "test.data.shape\n",
    "testpd = pd.DataFrame(test)\n",
    "testpd.fillna(0 ,inplace=True)\n",
    "print(testpd.head())"
   ]
  },
  {
   "cell_type": "code",
   "execution_count": 156,
   "metadata": {},
   "outputs": [
    {
     "ename": "IndentationError",
     "evalue": "expected an indented block (<ipython-input-156-eb5f77c83fd5>, line 3)",
     "output_type": "error",
     "traceback": [
      "\u001b[1;36m  File \u001b[1;32m\"<ipython-input-156-eb5f77c83fd5>\"\u001b[1;36m, line \u001b[1;32m3\u001b[0m\n\u001b[1;33m    yhat = coefficients[0]\u001b[0m\n\u001b[1;37m       ^\u001b[0m\n\u001b[1;31mIndentationError\u001b[0m\u001b[1;31m:\u001b[0m expected an indented block\n"
     ]
    }
   ],
   "source": [
    "# Make a prediction with coefficients\n",
    "def predict(row, coefficients):\n",
    "yhat = coefficients[0]\n",
    "for i in range(len(row)-1):\n",
    "yhat += coefficients[i + 1] * row[i]\n",
    "return yhat   \n"
   ]
  },
  {
   "cell_type": "code",
   "execution_count": 120,
   "metadata": {},
   "outputs": [
    {
     "ename": "NameError",
     "evalue": "name 'trainingpd' is not defined",
     "output_type": "error",
     "traceback": [
      "\u001b[1;31m---------------------------------------------------------------------------\u001b[0m",
      "\u001b[1;31mNameError\u001b[0m                                 Traceback (most recent call last)",
      "\u001b[1;32m<ipython-input-120-44cbb7857e84>\u001b[0m in \u001b[0;36m<module>\u001b[1;34m\u001b[0m\n\u001b[1;32m----> 1\u001b[1;33m trainingpd.rename(columns={   0 :'precio',\n\u001b[0m\u001b[0;32m      2\u001b[0m                           \u001b[1;36m1\u001b[0m\u001b[1;33m:\u001b[0m\u001b[1;34m'Calif'\u001b[0m\u001b[1;33m,\u001b[0m\u001b[1;33m\u001b[0m\u001b[1;33m\u001b[0m\u001b[0m\n\u001b[0;32m      3\u001b[0m                           \u001b[1;36m2\u001b[0m\u001b[1;33m:\u001b[0m\u001b[1;34m'fsqrt'\u001b[0m\u001b[1;33m,\u001b[0m\u001b[1;33m\u001b[0m\u001b[1;33m\u001b[0m\u001b[0m\n\u001b[0;32m      4\u001b[0m                           \u001b[1;36m3\u001b[0m \u001b[1;33m:\u001b[0m\u001b[1;34m'trooms'\u001b[0m\u001b[1;33m,\u001b[0m\u001b[1;33m\u001b[0m\u001b[1;33m\u001b[0m\u001b[0m\n\u001b[0;32m      5\u001b[0m                           \u001b[1;36m4\u001b[0m\u001b[1;33m:\u001b[0m \u001b[1;34m'yearbuilt'\u001b[0m\u001b[1;33m,\u001b[0m\u001b[1;33m\u001b[0m\u001b[1;33m\u001b[0m\u001b[0m\n",
      "\u001b[1;31mNameError\u001b[0m: name 'trainingpd' is not defined"
     ]
    }
   ],
   "source": [
    "trainingpd.rename(columns={   0 :'precio',\n",
    "                          1:'Calif',\n",
    "                          2:'fsqrt',\n",
    "                          3 :'trooms',\n",
    "                          4: 'yearbuilt',\n",
    "                          5 : 'LotFrontage'}, \n",
    "                 inplace=True)\n",
    "trainingpd['precio']= trainingpd['precio']/1000\n",
    "\n",
    "trainingpd.describe(include='all')"
   ]
  },
  {
   "cell_type": "code",
   "execution_count": null,
   "metadata": {},
   "outputs": [],
   "source": [
    "\n",
    "import numpy as np\n",
    "import sklearn as scikit_learn\n",
    "import seaborn as sb\n",
    "import pandas as pd\n",
    "import matplotlib.pyplot as plt\n",
    "\n",
    "# Make a prediction with coefficients\n",
    "def predict(row, coefficients):\n",
    "\tyhat = coefficients[0]\n",
    "\tfor i in range(len(row)-1):\n",
    "\t\tyhat += coefficients[i + 1] * row[i]\n",
    "\treturn yhat\n",
    " \n",
    "# Estimate linear regression coefficients using stochastic gradient descent\n",
    "def coefficients_sgd(train, l_rate, n_epoch):\n",
    "    for epoch in range(n_epoch):\n",
    "        sum_error = 0\n",
    "    for row in train:\n",
    "        yhat = predict(row, coef)\n",
    "    error = yhat - row[-1]\n",
    "    sum_error += error**2\n",
    "    for i in range(len(row)-1):\n",
    "        print('>epoch=%d, lrate=%.3f, error=%.3f' % (epoch, l_rate, sum_error))\n",
    "    return coef\n",
    " \n"
   ]
  },
  {
   "cell_type": "code",
   "execution_count": null,
   "metadata": {},
   "outputs": [],
   "source": [
    "dataset = [[1, 1], [2, 3], [4, 3], [3, 2], [5, 5]]\n",
    "l_rate = 0.001\n",
    "n_epoch = 50\n",
    "coef = coefficients_sgd(dataset, l_rate, n_epoch)\n",
    "print(coef)"
   ]
  },
  {
   "cell_type": "code",
   "execution_count": null,
   "metadata": {},
   "outputs": [],
   "source": [
    "X_train, X_test, y_train, y_test = train_test_split(X, Y, test_size=0.2)\n",
    "\n",
    "print(X_train)\n",
    "print(X_test)"
   ]
  }
 ],
 "metadata": {
  "kernelspec": {
   "display_name": "Python 3",
   "language": "python",
   "name": "python3"
  },
  "language_info": {
   "codemirror_mode": {
    "name": "ipython",
    "version": 3
   },
   "file_extension": ".py",
   "mimetype": "text/x-python",
   "name": "python",
   "nbconvert_exporter": "python",
   "pygments_lexer": "ipython3",
   "version": "3.7.1"
  }
 },
 "nbformat": 4,
 "nbformat_minor": 2
}
