{
 "cells": [
  {
   "cell_type": "markdown",
   "metadata": {},
   "source": [
    "**Descripción general**\n",
    "El proyecto consiste en aplicar los conocimientos aprendidos en clase (y apoyándose de referencias adicionales útiles) para crear modelos predictivos de regresión lineal uni-variable sencillos de la forma:\n",
    "\n",
    "y = f(x) =  mx +b\n",
    "\n",
    "Donde:\n",
    "\n",
    "y = la variable dependiente\n",
    "x = variable independiente\n",
    "m = pendiente de la recta(parámetro del modelo)\n",
    "b = intercepto(parámetro del modelo)\n",
    "\n",
    "Tanto “x” como “y” son parte del dataset usado , “m” y “b” son parámetros del modelo los cuales buscamos estimar con los datos, esto significa que se busca encontrar que valores de “m” y “b” producen una recta que describa de la mejor manera posible la relación entre los datos “x” y “y”.\n"
   ]
  },
  {
   "cell_type": "markdown",
   "metadata": {},
   "source": [
    "*Importar todas las libreria que utilizaremos en el Proyecto:*"
   ]
  },
  {
   "cell_type": "code",
   "execution_count": 59,
   "metadata": {},
   "outputs": [],
   "source": [
    "import numpy as np\n",
    "import sklearn as scikit_learn\n",
    "import seaborn as sb\n",
    "import pandas as pd\n",
    "import matplotlib.pyplot as plt\n",
    "\n",
    "from sklearn.linear_model import LinearRegression\n",
    "from sklearn import preprocessing, svm\n",
    "from sklearn.model_selection import train_test_split\n",
    "from matplotlib import style"
   ]
  },
  {
   "cell_type": "code",
   "execution_count": 60,
   "metadata": {},
   "outputs": [],
   "source": [
    "data = np.load('C:\\R_File\\Master of Data Science\\Python\\Project\\proyecto_data\\proyecto_training_data.npy') "
   ]
  },
  {
   "cell_type": "code",
   "execution_count": 164,
   "metadata": {},
   "outputs": [],
   "source": [
    "x = data\n",
    "training_idx = np.random.randint(x.shape[0], size=80)\n",
    "test_idx = np.random.randint(x.shape[0], size=20)\n",
    "training, test = x[training_idx,:], x[test_idx,:]"
   ]
  },
  {
   "cell_type": "code",
   "execution_count": 165,
   "metadata": {},
   "outputs": [],
   "source": [
    "\n",
    "casadf = pd.DataFrame(training)\n",
    "casadf.rename(columns={   0 :'precio',\n",
    "                          1:'Calif',\n",
    "                          2:'fsqrt',\n",
    "                          3 :'trooms',\n",
    "                          4: 'yearbuilt',\n",
    "                          5 : 'LotFrontage'}, \n",
    "                 inplace=True)\n",
    "casadf['precio']= casadf['precio']/1000\n",
    "casadf.fillna(0,inplace=True)"
   ]
  },
  {
   "cell_type": "code",
   "execution_count": 166,
   "metadata": {},
   "outputs": [
    {
     "data": {
      "text/html": [
       "<div>\n",
       "<style scoped>\n",
       "    .dataframe tbody tr th:only-of-type {\n",
       "        vertical-align: middle;\n",
       "    }\n",
       "\n",
       "    .dataframe tbody tr th {\n",
       "        vertical-align: top;\n",
       "    }\n",
       "\n",
       "    .dataframe thead th {\n",
       "        text-align: right;\n",
       "    }\n",
       "</style>\n",
       "<table border=\"1\" class=\"dataframe\">\n",
       "  <thead>\n",
       "    <tr style=\"text-align: right;\">\n",
       "      <th></th>\n",
       "      <th>precio</th>\n",
       "      <th>Calif</th>\n",
       "      <th>fsqrt</th>\n",
       "      <th>trooms</th>\n",
       "      <th>yearbuilt</th>\n",
       "      <th>LotFrontage</th>\n",
       "    </tr>\n",
       "  </thead>\n",
       "  <tbody>\n",
       "    <tr>\n",
       "      <th>count</th>\n",
       "      <td>80.000000</td>\n",
       "      <td>80.000000</td>\n",
       "      <td>80.000000</td>\n",
       "      <td>80.000000</td>\n",
       "      <td>80.000000</td>\n",
       "      <td>80.000000</td>\n",
       "    </tr>\n",
       "    <tr>\n",
       "      <th>mean</th>\n",
       "      <td>170.756937</td>\n",
       "      <td>5.975000</td>\n",
       "      <td>1118.637500</td>\n",
       "      <td>6.325000</td>\n",
       "      <td>1970.150000</td>\n",
       "      <td>53.937500</td>\n",
       "    </tr>\n",
       "    <tr>\n",
       "      <th>std</th>\n",
       "      <td>63.480939</td>\n",
       "      <td>1.242446</td>\n",
       "      <td>356.036381</td>\n",
       "      <td>1.421133</td>\n",
       "      <td>31.173707</td>\n",
       "      <td>32.073627</td>\n",
       "    </tr>\n",
       "    <tr>\n",
       "      <th>min</th>\n",
       "      <td>52.000000</td>\n",
       "      <td>3.000000</td>\n",
       "      <td>483.000000</td>\n",
       "      <td>4.000000</td>\n",
       "      <td>1885.000000</td>\n",
       "      <td>0.000000</td>\n",
       "    </tr>\n",
       "    <tr>\n",
       "      <th>25%</th>\n",
       "      <td>128.875000</td>\n",
       "      <td>5.000000</td>\n",
       "      <td>875.750000</td>\n",
       "      <td>5.000000</td>\n",
       "      <td>1953.750000</td>\n",
       "      <td>34.000000</td>\n",
       "    </tr>\n",
       "    <tr>\n",
       "      <th>50%</th>\n",
       "      <td>159.000000</td>\n",
       "      <td>6.000000</td>\n",
       "      <td>1093.500000</td>\n",
       "      <td>6.000000</td>\n",
       "      <td>1968.000000</td>\n",
       "      <td>60.000000</td>\n",
       "    </tr>\n",
       "    <tr>\n",
       "      <th>75%</th>\n",
       "      <td>197.475000</td>\n",
       "      <td>7.000000</td>\n",
       "      <td>1308.500000</td>\n",
       "      <td>7.000000</td>\n",
       "      <td>2001.250000</td>\n",
       "      <td>75.000000</td>\n",
       "    </tr>\n",
       "    <tr>\n",
       "      <th>max</th>\n",
       "      <td>395.000000</td>\n",
       "      <td>9.000000</td>\n",
       "      <td>2515.000000</td>\n",
       "      <td>12.000000</td>\n",
       "      <td>2009.000000</td>\n",
       "      <td>111.000000</td>\n",
       "    </tr>\n",
       "  </tbody>\n",
       "</table>\n",
       "</div>"
      ],
      "text/plain": [
       "           precio      Calif        fsqrt     trooms    yearbuilt  LotFrontage\n",
       "count   80.000000  80.000000    80.000000  80.000000    80.000000    80.000000\n",
       "mean   170.756937   5.975000  1118.637500   6.325000  1970.150000    53.937500\n",
       "std     63.480939   1.242446   356.036381   1.421133    31.173707    32.073627\n",
       "min     52.000000   3.000000   483.000000   4.000000  1885.000000     0.000000\n",
       "25%    128.875000   5.000000   875.750000   5.000000  1953.750000    34.000000\n",
       "50%    159.000000   6.000000  1093.500000   6.000000  1968.000000    60.000000\n",
       "75%    197.475000   7.000000  1308.500000   7.000000  2001.250000    75.000000\n",
       "max    395.000000   9.000000  2515.000000  12.000000  2009.000000   111.000000"
      ]
     },
     "execution_count": 166,
     "metadata": {},
     "output_type": "execute_result"
    }
   ],
   "source": [
    "casadf.describe(include='all')"
   ]
  },
  {
   "cell_type": "code",
   "execution_count": 185,
   "metadata": {},
   "outputs": [
    {
     "data": {
      "image/png": "[encoded data removed]",
      "text/plain": [
       "<Figure size 432x288 with 6 Axes>"
      ]
     },
     "metadata": {},
     "output_type": "display_data"
    }
   ],
   "source": [
    "casadf.drop(['precio'],1).hist()\n",
    "plt.show()"
   ]
  },
  {
   "cell_type": "code",
   "execution_count": 197,
   "metadata": {},
   "outputs": [
    {
     "data": {
      "text/html": [
       "<div>\n",
       "<style scoped>\n",
       "    .dataframe tbody tr th:only-of-type {\n",
       "        vertical-align: middle;\n",
       "    }\n",
       "\n",
       "    .dataframe tbody tr th {\n",
       "        vertical-align: top;\n",
       "    }\n",
       "\n",
       "    .dataframe thead th {\n",
       "        text-align: right;\n",
       "    }\n",
       "</style>\n",
       "<table border=\"1\" class=\"dataframe\">\n",
       "  <thead>\n",
       "    <tr style=\"text-align: right;\">\n",
       "      <th></th>\n",
       "      <th>precio</th>\n",
       "      <th>Calif</th>\n",
       "      <th>fsqrt</th>\n",
       "      <th>trooms</th>\n",
       "      <th>yearbuilt</th>\n",
       "      <th>LotFrontage</th>\n",
       "    </tr>\n",
       "  </thead>\n",
       "  <tbody>\n",
       "    <tr>\n",
       "      <th>precio</th>\n",
       "      <td>1.000000</td>\n",
       "      <td>0.812014</td>\n",
       "      <td>0.577332</td>\n",
       "      <td>0.385732</td>\n",
       "      <td>0.587860</td>\n",
       "      <td>0.322014</td>\n",
       "    </tr>\n",
       "    <tr>\n",
       "      <th>Calif</th>\n",
       "      <td>0.812014</td>\n",
       "      <td>1.000000</td>\n",
       "      <td>0.352151</td>\n",
       "      <td>0.347460</td>\n",
       "      <td>0.548745</td>\n",
       "      <td>0.349764</td>\n",
       "    </tr>\n",
       "    <tr>\n",
       "      <th>fsqrt</th>\n",
       "      <td>0.577332</td>\n",
       "      <td>0.352151</td>\n",
       "      <td>1.000000</td>\n",
       "      <td>0.368151</td>\n",
       "      <td>0.182067</td>\n",
       "      <td>0.290318</td>\n",
       "    </tr>\n",
       "    <tr>\n",
       "      <th>trooms</th>\n",
       "      <td>0.385732</td>\n",
       "      <td>0.347460</td>\n",
       "      <td>0.368151</td>\n",
       "      <td>1.000000</td>\n",
       "      <td>-0.124692</td>\n",
       "      <td>0.396262</td>\n",
       "    </tr>\n",
       "    <tr>\n",
       "      <th>yearbuilt</th>\n",
       "      <td>0.587860</td>\n",
       "      <td>0.548745</td>\n",
       "      <td>0.182067</td>\n",
       "      <td>-0.124692</td>\n",
       "      <td>1.000000</td>\n",
       "      <td>0.073905</td>\n",
       "    </tr>\n",
       "    <tr>\n",
       "      <th>LotFrontage</th>\n",
       "      <td>0.322014</td>\n",
       "      <td>0.349764</td>\n",
       "      <td>0.290318</td>\n",
       "      <td>0.396262</td>\n",
       "      <td>0.073905</td>\n",
       "      <td>1.000000</td>\n",
       "    </tr>\n",
       "  </tbody>\n",
       "</table>\n",
       "</div>"
      ],
      "text/plain": [
       "               precio     Calif     fsqrt    trooms  yearbuilt  LotFrontage\n",
       "precio       1.000000  0.812014  0.577332  0.385732   0.587860     0.322014\n",
       "Calif        0.812014  1.000000  0.352151  0.347460   0.548745     0.349764\n",
       "fsqrt        0.577332  0.352151  1.000000  0.368151   0.182067     0.290318\n",
       "trooms       0.385732  0.347460  0.368151  1.000000  -0.124692     0.396262\n",
       "yearbuilt    0.587860  0.548745  0.182067 -0.124692   1.000000     0.073905\n",
       "LotFrontage  0.322014  0.349764  0.290318  0.396262   0.073905     1.000000"
      ]
     },
     "execution_count": 197,
     "metadata": {},
     "output_type": "execute_result"
    }
   ],
   "source": [
    "\n",
    "trainingpd.corr(method='pearson', min_periods=1)\n"
   ]
  },
  {
   "cell_type": "code",
   "execution_count": 215,
   "metadata": {},
   "outputs": [
    {
     "name": "stdout",
     "output_type": "stream",
     "text": [
      "(80, 1)\n",
      "(80,)\n"
     ]
    },
    {
     "data": {
      "image/png": "[encoded data removed]",
      "text/plain": [
       "<Figure size 432x288 with 1 Axes>"
      ]
     },
     "metadata": {},
     "output_type": "display_data"
    }
   ],
   "source": [
    "\n",
    "\n",
    "X = casadf.drop([\"precio\",\"fsqrt\",\"yearbuilt\",\"LotFrontage\",\"trooms\"], axis=1).values\n",
    "Y = casadf[\"precio\"].values\n",
    "\n",
    "print(X.shape)\n",
    "print(Y.shape)\n",
    "fig = plt.figure()\n",
    "ax = fig.add_subplot(1,1,1) #creamos un canvas con  1 fila, 1 columna y devolvemos una referencia a la primera grafica\n",
    "#ax = fig.add_subplot(111) \n",
    "\n",
    "ax.scatter(X, Y,marker=\"v\",color=\"g\")  # experimentar con los siguientes markers o', 'v', '^', '<', '>', '8', 's', 'p', '*', 'h', 'H', 'D', 'd', 'P', 'X'#\n",
    "#ax.scatter(x, y,color=\"g\")  # experimentar con los siguientes markers o', 'v', '^', '<', '>', '8', 's', 'p', '*', 'h', 'H', 'D', 'd', 'P', 'X'\n",
    "\n",
    "ax.set_xlabel('Clasif')\n",
    "ax.set_ylabel('Precio')\n",
    "ax.set_title('coeficiente de correlación entre x y y : 0.81')\n",
    "\n",
    "plt.show()"
   ]
  },
  {
   "cell_type": "code",
   "execution_count": null,
   "metadata": {},
   "outputs": [],
   "source": []
  },
  {
   "cell_type": "code",
   "execution_count": 181,
   "metadata": {},
   "outputs": [
    {
     "name": "stdout",
     "output_type": "stream",
     "text": [
      "          0    1       2    3       4     5\n",
      "0  176500.0  7.0   955.0  8.0  1998.0  63.0\n",
      "1  176485.0  7.0  1302.0  6.0  2007.0  73.0\n",
      "2  202500.0  8.0  1370.0  6.0  2006.0  44.0\n",
      "3  119000.0  5.0   961.0  7.0  1900.0  50.0\n",
      "4   60000.0  2.0   800.0  4.0  1936.0  51.0\n"
     ]
    }
   ],
   "source": [
    "test.data.shape\n",
    "testpd = pd.DataFrame(test)\n",
    "testpd.fillna(0 ,inplace=True)\n",
    "print(testpd.head())"
   ]
  },
  {
   "cell_type": "code",
   "execution_count": 64,
   "metadata": {},
   "outputs": [
    {
     "data": {
      "text/html": [
       "<div>\n",
       "<style scoped>\n",
       "    .dataframe tbody tr th:only-of-type {\n",
       "        vertical-align: middle;\n",
       "    }\n",
       "\n",
       "    .dataframe tbody tr th {\n",
       "        vertical-align: top;\n",
       "    }\n",
       "\n",
       "    .dataframe thead th {\n",
       "        text-align: right;\n",
       "    }\n",
       "</style>\n",
       "<table border=\"1\" class=\"dataframe\">\n",
       "  <thead>\n",
       "    <tr style=\"text-align: right;\">\n",
       "      <th></th>\n",
       "      <th>precio</th>\n",
       "      <th>Calif</th>\n",
       "      <th>fsqrt</th>\n",
       "      <th>trooms</th>\n",
       "      <th>yearbuilt</th>\n",
       "      <th>LotFrontage</th>\n",
       "    </tr>\n",
       "  </thead>\n",
       "  <tbody>\n",
       "    <tr>\n",
       "      <th>count</th>\n",
       "      <td>80.000000</td>\n",
       "      <td>80.000000</td>\n",
       "      <td>80.000000</td>\n",
       "      <td>80.000000</td>\n",
       "      <td>80.000000</td>\n",
       "      <td>80.000000</td>\n",
       "    </tr>\n",
       "    <tr>\n",
       "      <th>mean</th>\n",
       "      <td>169.022125</td>\n",
       "      <td>5.812500</td>\n",
       "      <td>1186.787500</td>\n",
       "      <td>6.437500</td>\n",
       "      <td>1968.387500</td>\n",
       "      <td>59.937500</td>\n",
       "    </tr>\n",
       "    <tr>\n",
       "      <th>std</th>\n",
       "      <td>67.392447</td>\n",
       "      <td>1.181007</td>\n",
       "      <td>385.530859</td>\n",
       "      <td>1.621405</td>\n",
       "      <td>29.900042</td>\n",
       "      <td>28.807235</td>\n",
       "    </tr>\n",
       "    <tr>\n",
       "      <th>min</th>\n",
       "      <td>40.000000</td>\n",
       "      <td>3.000000</td>\n",
       "      <td>612.000000</td>\n",
       "      <td>3.000000</td>\n",
       "      <td>1910.000000</td>\n",
       "      <td>0.000000</td>\n",
       "    </tr>\n",
       "    <tr>\n",
       "      <th>25%</th>\n",
       "      <td>124.500000</td>\n",
       "      <td>5.000000</td>\n",
       "      <td>898.000000</td>\n",
       "      <td>5.000000</td>\n",
       "      <td>1952.250000</td>\n",
       "      <td>50.000000</td>\n",
       "    </tr>\n",
       "    <tr>\n",
       "      <th>50%</th>\n",
       "      <td>163.700000</td>\n",
       "      <td>6.000000</td>\n",
       "      <td>1050.000000</td>\n",
       "      <td>6.000000</td>\n",
       "      <td>1969.500000</td>\n",
       "      <td>62.500000</td>\n",
       "    </tr>\n",
       "    <tr>\n",
       "      <th>75%</th>\n",
       "      <td>188.525000</td>\n",
       "      <td>7.000000</td>\n",
       "      <td>1531.250000</td>\n",
       "      <td>7.000000</td>\n",
       "      <td>1996.250000</td>\n",
       "      <td>79.250000</td>\n",
       "    </tr>\n",
       "    <tr>\n",
       "      <th>max</th>\n",
       "      <td>423.000000</td>\n",
       "      <td>9.000000</td>\n",
       "      <td>2196.000000</td>\n",
       "      <td>12.000000</td>\n",
       "      <td>2010.000000</td>\n",
       "      <td>124.000000</td>\n",
       "    </tr>\n",
       "  </tbody>\n",
       "</table>\n",
       "</div>"
      ],
      "text/plain": [
       "           precio      Calif        fsqrt     trooms    yearbuilt  LotFrontage\n",
       "count   80.000000  80.000000    80.000000  80.000000    80.000000    80.000000\n",
       "mean   169.022125   5.812500  1186.787500   6.437500  1968.387500    59.937500\n",
       "std     67.392447   1.181007   385.530859   1.621405    29.900042    28.807235\n",
       "min     40.000000   3.000000   612.000000   3.000000  1910.000000     0.000000\n",
       "25%    124.500000   5.000000   898.000000   5.000000  1952.250000    50.000000\n",
       "50%    163.700000   6.000000  1050.000000   6.000000  1969.500000    62.500000\n",
       "75%    188.525000   7.000000  1531.250000   7.000000  1996.250000    79.250000\n",
       "max    423.000000   9.000000  2196.000000  12.000000  2010.000000   124.000000"
      ]
     },
     "execution_count": 64,
     "metadata": {},
     "output_type": "execute_result"
    }
   ],
   "source": []
  },
  {
   "cell_type": "code",
   "execution_count": 65,
   "metadata": {},
   "outputs": [
    {
     "data": {
      "text/html": [
       "<div>\n",
       "<style scoped>\n",
       "    .dataframe tbody tr th:only-of-type {\n",
       "        vertical-align: middle;\n",
       "    }\n",
       "\n",
       "    .dataframe tbody tr th {\n",
       "        vertical-align: top;\n",
       "    }\n",
       "\n",
       "    .dataframe thead th {\n",
       "        text-align: right;\n",
       "    }\n",
       "</style>\n",
       "<table border=\"1\" class=\"dataframe\">\n",
       "  <thead>\n",
       "    <tr style=\"text-align: right;\">\n",
       "      <th></th>\n",
       "      <th>precio</th>\n",
       "      <th>Calif</th>\n",
       "      <th>fsqrt</th>\n",
       "      <th>trooms</th>\n",
       "      <th>yearbuilt</th>\n",
       "      <th>LotFrontage</th>\n",
       "    </tr>\n",
       "  </thead>\n",
       "  <tbody>\n",
       "    <tr>\n",
       "      <th>count</th>\n",
       "      <td>80.000000</td>\n",
       "      <td>80.000000</td>\n",
       "      <td>80.000000</td>\n",
       "      <td>80.000000</td>\n",
       "      <td>80.000000</td>\n",
       "      <td>80.000000</td>\n",
       "    </tr>\n",
       "    <tr>\n",
       "      <th>mean</th>\n",
       "      <td>0.169022</td>\n",
       "      <td>5.812500</td>\n",
       "      <td>1186.787500</td>\n",
       "      <td>6.437500</td>\n",
       "      <td>1968.387500</td>\n",
       "      <td>59.937500</td>\n",
       "    </tr>\n",
       "    <tr>\n",
       "      <th>std</th>\n",
       "      <td>0.067392</td>\n",
       "      <td>1.181007</td>\n",
       "      <td>385.530859</td>\n",
       "      <td>1.621405</td>\n",
       "      <td>29.900042</td>\n",
       "      <td>28.807235</td>\n",
       "    </tr>\n",
       "    <tr>\n",
       "      <th>min</th>\n",
       "      <td>0.040000</td>\n",
       "      <td>3.000000</td>\n",
       "      <td>612.000000</td>\n",
       "      <td>3.000000</td>\n",
       "      <td>1910.000000</td>\n",
       "      <td>0.000000</td>\n",
       "    </tr>\n",
       "    <tr>\n",
       "      <th>25%</th>\n",
       "      <td>0.124500</td>\n",
       "      <td>5.000000</td>\n",
       "      <td>898.000000</td>\n",
       "      <td>5.000000</td>\n",
       "      <td>1952.250000</td>\n",
       "      <td>50.000000</td>\n",
       "    </tr>\n",
       "    <tr>\n",
       "      <th>50%</th>\n",
       "      <td>0.163700</td>\n",
       "      <td>6.000000</td>\n",
       "      <td>1050.000000</td>\n",
       "      <td>6.000000</td>\n",
       "      <td>1969.500000</td>\n",
       "      <td>62.500000</td>\n",
       "    </tr>\n",
       "    <tr>\n",
       "      <th>75%</th>\n",
       "      <td>0.188525</td>\n",
       "      <td>7.000000</td>\n",
       "      <td>1531.250000</td>\n",
       "      <td>7.000000</td>\n",
       "      <td>1996.250000</td>\n",
       "      <td>79.250000</td>\n",
       "    </tr>\n",
       "    <tr>\n",
       "      <th>max</th>\n",
       "      <td>0.423000</td>\n",
       "      <td>9.000000</td>\n",
       "      <td>2196.000000</td>\n",
       "      <td>12.000000</td>\n",
       "      <td>2010.000000</td>\n",
       "      <td>124.000000</td>\n",
       "    </tr>\n",
       "  </tbody>\n",
       "</table>\n",
       "</div>"
      ],
      "text/plain": [
       "          precio      Calif        fsqrt     trooms    yearbuilt  LotFrontage\n",
       "count  80.000000  80.000000    80.000000  80.000000    80.000000    80.000000\n",
       "mean    0.169022   5.812500  1186.787500   6.437500  1968.387500    59.937500\n",
       "std     0.067392   1.181007   385.530859   1.621405    29.900042    28.807235\n",
       "min     0.040000   3.000000   612.000000   3.000000  1910.000000     0.000000\n",
       "25%     0.124500   5.000000   898.000000   5.000000  1952.250000    50.000000\n",
       "50%     0.163700   6.000000  1050.000000   6.000000  1969.500000    62.500000\n",
       "75%     0.188525   7.000000  1531.250000   7.000000  1996.250000    79.250000\n",
       "max     0.423000   9.000000  2196.000000  12.000000  2010.000000   124.000000"
      ]
     },
     "execution_count": 65,
     "metadata": {},
     "output_type": "execute_result"
    }
   ],
   "source": [
    "trainingpd.rename(columns={   0 :'precio',\n",
    "                          1:'Calif',\n",
    "                          2:'fsqrt',\n",
    "                          3 :'trooms',\n",
    "                          4: 'yearbuilt',\n",
    "                          5 : 'LotFrontage'}, \n",
    "                 inplace=True)\n",
    "trainingpd['precio']= trainingpd['precio']/1000\n",
    "\n",
    "trainingpd.describe(include='all')"
   ]
  },
  {
   "cell_type": "code",
   "execution_count": 143,
   "metadata": {},
   "outputs": [
    {
     "data": {
      "image/png": "[encoded data removed]",
      "text/plain": [
       "<Figure size 432x288 with 1 Axes>"
      ]
     },
     "metadata": {},
     "output_type": "display_data"
    }
   ],
   "source": [
    "sb.distplot(X[0], color=\"gold\");\n",
    "sb.distplot(X[1], color=\"red\");\n",
    "sb.distplot(Y, color=\"black\");\n",
    "\n",
    "\n",
    "\n"
   ]
  },
  {
   "cell_type": "code",
   "execution_count": 140,
   "metadata": {},
   "outputs": [
    {
     "data": {
      "text/plain": [
       "array([[ 1.        ,  0.81201444,  0.57733177,  0.385732  ,  0.58785993,\n",
       "         0.32201434],\n",
       "       [ 0.81201444,  1.        ,  0.35215064,  0.34745988,  0.5487449 ,\n",
       "         0.34976427],\n",
       "       [ 0.57733177,  0.35215064,  1.        ,  0.3681514 ,  0.18206676,\n",
       "         0.29031764],\n",
       "       [ 0.385732  ,  0.34745988,  0.3681514 ,  1.        , -0.12469232,\n",
       "         0.39626231],\n",
       "       [ 0.58785993,  0.5487449 ,  0.18206676, -0.12469232,  1.        ,\n",
       "         0.07390533],\n",
       "       [ 0.32201434,  0.34976427,  0.29031764,  0.39626231,  0.07390533,\n",
       "         1.        ]])"
      ]
     },
     "execution_count": 140,
     "metadata": {},
     "output_type": "execute_result"
    }
   ],
   "source": [
    "np.corrcoef(trainingpd.values.T)"
   ]
  },
  {
   "cell_type": "code",
   "execution_count": null,
   "metadata": {},
   "outputs": [],
   "source": [
    "X_train, X_test, y_train, y_test = train_test_split(X, Y, test_size=0.2)\n",
    "\n",
    "print(X_train)\n",
    "print(X_test)"
   ]
  }
 ],
 "metadata": {
  "kernelspec": {
   "display_name": "Python 3",
   "language": "python",
   "name": "python3"
  },
  "language_info": {
   "codemirror_mode": {
    "name": "ipython",
    "version": 3
   },
   "file_extension": ".py",
   "mimetype": "text/x-python",
   "name": "python",
   "nbconvert_exporter": "python",
   "pygments_lexer": "ipython3",
   "version": "3.7.1"
  }
 },
 "nbformat": 4,
 "nbformat_minor": 2
}
