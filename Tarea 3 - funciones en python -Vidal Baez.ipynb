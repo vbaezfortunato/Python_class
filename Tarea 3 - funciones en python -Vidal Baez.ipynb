{
 "cells": [
  {
   "cell_type": "markdown",
   "metadata": {},
   "source": [
    "#### Function en Python\n",
    "\n",
    "A function  is a block of code which only runs when it is called and provide better modularity for your application.\n",
    "In Python a function is defined using the def:\n"
   ]
  },
  {
   "cell_type": "code",
   "execution_count": 35,
   "metadata": {},
   "outputs": [],
   "source": [
    "def cuadrado(num):\n",
    "    return num * num\n"
   ]
  },
  {
   "cell_type": "markdown",
   "metadata": {},
   "source": [
    "#### Parametros posicionales en Python\n",
    "\n",
    "Parametros posiciones:son argumentos que se ejecuta en el order que son definidos y :\n",
    "\n"
   ]
  },
  {
   "cell_type": "code",
   "execution_count": 36,
   "metadata": {},
   "outputs": [
    {
     "name": "stdout",
     "output_type": "stream",
     "text": [
      "25\n"
     ]
    }
   ],
   "source": [
    "print(cuadrado(5))"
   ]
  },
  {
   "cell_type": "markdown",
   "metadata": {},
   "source": [
    "#### Parametros nombrales en Python\n",
    "Los Parametors nombrales:son aquellos parametros que se le asigna un valor de entrada y es obligatorio que se le llame por \n",
    "el nombre que se definio.    \n"
   ]
  },
  {
   "cell_type": "code",
   "execution_count": 37,
   "metadata": {},
   "outputs": [
    {
     "name": "stdout",
     "output_type": "stream",
     "text": [
      "25\n"
     ]
    }
   ],
   "source": [
    "print(cuadrado(num=5))"
   ]
  },
  {
   "cell_type": "markdown",
   "metadata": {},
   "source": [
    "####  funciones que retorna multiple valores:\n",
    "Son aquellas funciones que retorna mas de un valor y son utilizadas para reducir la cantidad de codigo en un programa\n",
    "y el resultado es una tupla.\n",
    "\n",
    "* Cuando la función debe retornar múltiples resultados se empaquetan todos juntos en una n-upla del tamaño adecuado.\n"
   ]
  },
  {
   "cell_type": "code",
   "execution_count": 38,
   "metadata": {},
   "outputs": [
    {
     "name": "stdout",
     "output_type": "stream",
     "text": [
      "Son 1.0169444444444444 horas 1.0166666666666666 minutos 1 segundos\n"
     ]
    }
   ],
   "source": [
    "def hora (x):\n",
    "    hs = x / 3600\n",
    "    min = (x % 3600) / 60\n",
    "    seg = (x % 3600 ) % 60\n",
    "    return (hs, min, seg)\n",
    "(h, m, s) = aHsMinSeg(3661)\n",
    "print (\"Son\",h,\"horas\",m,\"minutos\",s,\"segundos\")"
   ]
  },
  {
   "cell_type": "markdown",
   "metadata": {},
   "source": [
    "### Funciones como objetos y como parametros de otras funciones\n",
    "\n",
    "Las funciones en python son objetos de primera clase. Esto significa que pueden ser pasados como argumentos a otras funciones, \n",
    "asignados a variables o incluso almacenados como elementos en varias estructuras de datos.\n"
   ]
  },
  {
   "cell_type": "code",
   "execution_count": 39,
   "metadata": {},
   "outputs": [
    {
     "name": "stdout",
     "output_type": "stream",
     "text": [
      "HOLA, HE CREADO UNA  FUNCTION QUE RECIBE OTRA FUNCION A PARAMETRO.\n",
      "hola, he creado una  function que recibe otra funcion a parametro.\n"
     ]
    }
   ],
   "source": [
    "def mayuscula(text):  \n",
    "    return text.upper()  \n",
    "  \n",
    "def minuscula(text):  \n",
    "    return text.lower()  \n",
    "  \n",
    "def saludo(func):    \n",
    "    saludo = func(\"Hola, He creado una  function que recibe otra funcion a parametro.\")  \n",
    "    print(saludo) \n",
    "saludo(mayuscula)\n",
    "saludo(minuscula)"
   ]
  },
  {
   "cell_type": "markdown",
   "metadata": {},
   "source": [
    "### lambda funcion \n",
    "En Python, una función lambda es una función de una sola línea declarada sin nombre, que puede tener cualquier número de argumentos, \n",
    "pero sólo puede tener una expresión.Las funciones Lambda se pueden utilizar junto con funciones incorporadas como filter(), map() y reduce().\n"
   ]
  },
  {
   "cell_type": "code",
   "execution_count": 34,
   "metadata": {},
   "outputs": [
    {
     "name": "stdout",
     "output_type": "stream",
     "text": [
      "343\n"
     ]
    }
   ],
   "source": [
    "g = lambda x: x*x*x \n",
    "print(g(7)) \n",
    "  "
   ]
  }
 ],
 "metadata": {
  "kernelspec": {
   "display_name": "Python 3",
   "language": "python",
   "name": "python3"
  },
  "language_info": {
   "codemirror_mode": {
    "name": "ipython",
    "version": 3
   },
   "file_extension": ".py",
   "mimetype": "text/x-python",
   "name": "python",
   "nbconvert_exporter": "python",
   "pygments_lexer": "ipython3",
   "version": "3.7.1"
  }
 },
 "nbformat": 4,
 "nbformat_minor": 2
}
